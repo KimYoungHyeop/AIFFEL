{
 "cells": [
  {
   "cell_type": "markdown",
   "id": "central-english",
   "metadata": {},
   "source": [
    "**np.save와 np.load 함수는 배열 데이터를 효과적으로 저장하고 불러오기 위한 함수<br><br>\n",
    "+)기본적으로 압축되지 않은 원시(가공되지 않은) 바이너리 형식의 .npy 파일로 저장됨<br>\n",
    "+)numpy 배열은 npy, npz, csv, txt, dat 형식을 제공함. npy 형식은 1개의 배열을 일반적인 방식으로 저장하는 형식이고, npz 형식은 여러 개의 배열   을 압축여부를 선택할 수 있는 형식임**\n"
   ]
  },
  {
   "cell_type": "code",
   "execution_count": 2,
   "id": "religious-measure",
   "metadata": {},
   "outputs": [],
   "source": [
    "import numpy as np\n",
    "arr = np.arange(10)\n",
    "\n",
    "np.save('some_array', arr)"
   ]
  },
  {
   "cell_type": "code",
   "execution_count": 3,
   "id": "improved-discretion",
   "metadata": {},
   "outputs": [
    {
     "data": {
      "text/plain": [
       "array([0, 1, 2, 3, 4, 5, 6, 7, 8, 9])"
      ]
     },
     "execution_count": 3,
     "metadata": {},
     "output_type": "execute_result"
    }
   ],
   "source": [
    "np.load('some_array.npy')"
   ]
  },
  {
   "cell_type": "markdown",
   "id": "adapted-audio",
   "metadata": {},
   "source": [
    "**여러 배열을 압축적으로 저장하려면 np.savez 함수를 사용해야 함. Savez 뒤에 저장할 이름과 저장할 배열을 적어줘야 함<br><br>\n",
    "+)npz 파일을 읽어올때도 동일하게 load 함수를 이용가능함**"
   ]
  },
  {
   "cell_type": "code",
   "execution_count": 4,
   "id": "tutorial-prince",
   "metadata": {},
   "outputs": [],
   "source": [
    "np.savez('array_archive.npz', a=arr, b=arr)"
   ]
  },
  {
   "cell_type": "markdown",
   "id": "minimal-grave",
   "metadata": {},
   "source": [
    "**npz 파일을 불러올 때는 각각의 배열을 필요할 때 불러올 수 있도록 딕셔너리 형식의 객체에 저장함**"
   ]
  },
  {
   "cell_type": "code",
   "execution_count": 5,
   "id": "placed-science",
   "metadata": {},
   "outputs": [
    {
     "data": {
      "text/plain": [
       "array([0, 1, 2, 3, 4, 5, 6, 7, 8, 9])"
      ]
     },
     "execution_count": 5,
     "metadata": {},
     "output_type": "execute_result"
    }
   ],
   "source": [
    "arch = np.load('array_archive.npz')\n",
    "\n",
    "arch['b']"
   ]
  },
  {
   "cell_type": "markdown",
   "id": "speaking-military",
   "metadata": {},
   "source": [
    "**압축이 잘되는 형식의 데이터라면 np.savez_compressed를 사용**\n",
    "\n",
    "**주의)np.savez vs np.savez_compressed<br>\n",
    "      np.savez() : 여러개의 배열을 1개의 압축되지 않은 *.npz 포맷 파일로 저장<br>\n",
    "      np.savez_compressed() : 여러개의 배열을 1개의 압축된 *.npz 포맷 파일로 저장**"
   ]
  },
  {
   "cell_type": "code",
   "execution_count": 6,
   "id": "fiscal-crazy",
   "metadata": {},
   "outputs": [],
   "source": [
    "np.savez_compressed('arrays_compressed.npz', a=arr, b=arr)"
   ]
  },
  {
   "cell_type": "markdown",
   "id": "hybrid-marks",
   "metadata": {},
   "source": [
    "--선형대수--<br>\n",
    "**두 개의 2차원 배열을 * 연산자로 곱하면 행렬 곱셈이 아니라 대응하는 각각의 원소의 곱을 계산함<br>\n",
    "행렬 곱셈은 배열 메서드이자 numpy 네임스페이스 안에 있는 dot 함수를 이용해서 계산함**"
   ]
  },
  {
   "cell_type": "code",
   "execution_count": 7,
   "id": "liable-shame",
   "metadata": {},
   "outputs": [
    {
     "data": {
      "text/plain": [
       "array([[1., 2., 3.],\n",
       "       [4., 5., 6.]])"
      ]
     },
     "execution_count": 7,
     "metadata": {},
     "output_type": "execute_result"
    }
   ],
   "source": [
    "x = np.array([[1.,2.,3.], [4., 5., 6.]])\n",
    "\n",
    "y = np.array([[6.,23.], [-1, 7], [8, 9]])\n",
    "\n",
    "x"
   ]
  },
  {
   "cell_type": "code",
   "execution_count": 8,
   "id": "ceramic-jimmy",
   "metadata": {},
   "outputs": [
    {
     "data": {
      "text/plain": [
       "array([[ 6., 23.],\n",
       "       [-1.,  7.],\n",
       "       [ 8.,  9.]])"
      ]
     },
     "execution_count": 8,
     "metadata": {},
     "output_type": "execute_result"
    }
   ],
   "source": [
    "y"
   ]
  },
  {
   "cell_type": "code",
   "execution_count": 9,
   "id": "fallen-question",
   "metadata": {},
   "outputs": [
    {
     "data": {
      "text/plain": [
       "array([[ 28.,  64.],\n",
       "       [ 67., 181.]])"
      ]
     },
     "execution_count": 9,
     "metadata": {},
     "output_type": "execute_result"
    }
   ],
   "source": [
    "x.dot(y)"
   ]
  },
  {
   "cell_type": "markdown",
   "id": "aerial-hearts",
   "metadata": {},
   "source": [
    "**x.dot(y)는 np.dot(x, y)와 동일함**"
   ]
  },
  {
   "cell_type": "code",
   "execution_count": 10,
   "id": "packed-abuse",
   "metadata": {
    "scrolled": true
   },
   "outputs": [
    {
     "data": {
      "text/plain": [
       "array([[ 28.,  64.],\n",
       "       [ 67., 181.]])"
      ]
     },
     "execution_count": 10,
     "metadata": {},
     "output_type": "execute_result"
    }
   ],
   "source": [
    "np.dot(x, y)"
   ]
  },
  {
   "cell_type": "markdown",
   "id": "naval-malpractice",
   "metadata": {},
   "source": [
    "**2차원 배열과 곱셈이 가능한 크기의 1차원 배열 간의 행렬 곱셈의 결과는 1차원 배열임**"
   ]
  },
  {
   "cell_type": "code",
   "execution_count": 11,
   "id": "protected-pencil",
   "metadata": {},
   "outputs": [
    {
     "data": {
      "text/plain": [
       "array([ 6., 15.])"
      ]
     },
     "execution_count": 11,
     "metadata": {},
     "output_type": "execute_result"
    }
   ],
   "source": [
    "np.dot(x, np.ones(3))"
   ]
  },
  {
   "cell_type": "code",
   "execution_count": 12,
   "id": "clinical-property",
   "metadata": {},
   "outputs": [
    {
     "data": {
      "text/plain": [
       "array([1., 1., 1.])"
      ]
     },
     "execution_count": 12,
     "metadata": {},
     "output_type": "execute_result"
    }
   ],
   "source": [
    "np.ones(3)"
   ]
  },
  {
   "cell_type": "markdown",
   "id": "equivalent-sailing",
   "metadata": {},
   "source": [
    "**@ 기호는 행렬 곱셈을 수행하는 연산자임**"
   ]
  },
  {
   "cell_type": "code",
   "execution_count": 13,
   "id": "historic-shame",
   "metadata": {},
   "outputs": [
    {
     "data": {
      "text/plain": [
       "array([ 6., 15.])"
      ]
     },
     "execution_count": 13,
     "metadata": {},
     "output_type": "execute_result"
    }
   ],
   "source": [
    "x @ np.ones(3)"
   ]
  },
  {
   "cell_type": "markdown",
   "id": "included-diagnosis",
   "metadata": {},
   "source": [
    "**numpy.linalg는 선형대수를 지원하는 패키지로 행렬의 분할과 역행렬, 행렬식과 같은 것들을 포함하고 있음. 이는 매트랩, R같은 언어에서 사용하는 표준 포트란 라이브러리인 BLAS, LAPACK 또는 Intel MKL을 사용해서 구현됨<br>**\n",
    "\n",
    "**+) inv(=행렬의 역행렬을 계산)<br>\n",
    "     qr(=QR 분해를 계산)<br>\n",
    "+) X.T.dot(X)는 X.T.의 전치행렬(=transpose matrix)과 X의 곱을 계산한다**"
   ]
  },
  {
   "cell_type": "code",
   "execution_count": 14,
   "id": "mathematical-happiness",
   "metadata": {},
   "outputs": [
    {
     "data": {
      "text/plain": [
       "array([[11.40293889, -2.02971736,  5.19343862, -1.94179554,  3.4975129 ],\n",
       "       [-2.02971736,  0.60565759, -0.88364852,  0.54637648, -0.52181667],\n",
       "       [ 5.19343862, -0.88364852,  2.5524473 , -0.76277719,  1.60883631],\n",
       "       [-1.94179554,  0.54637648, -0.76277719,  1.00777532, -0.59654042],\n",
       "       [ 3.4975129 , -0.52181667,  1.60883631, -0.59654042,  1.22187091]])"
      ]
     },
     "execution_count": 14,
     "metadata": {},
     "output_type": "execute_result"
    }
   ],
   "source": [
    "from numpy.linalg import inv, qr\n",
    "\n",
    "X = np.random.randn(5, 5)\n",
    "\n",
    "mat = X.T.dot(X)\n",
    "\n",
    "inv(mat)"
   ]
  },
  {
   "cell_type": "code",
   "execution_count": 15,
   "id": "raised-mexico",
   "metadata": {},
   "outputs": [
    {
     "data": {
      "text/plain": [
       "array([[ 1.00000000e+00,  4.18154776e-16, -9.94208996e-16,\n",
       "         4.31208125e-16,  2.19506680e-15],\n",
       "       [ 7.69898376e-15,  1.00000000e+00, -7.88725914e-16,\n",
       "         1.75198118e-16,  1.94026467e-15],\n",
       "       [-3.84383118e-15, -7.36348080e-16,  1.00000000e+00,\n",
       "        -2.77279637e-16, -9.10440152e-16],\n",
       "       [-7.11654893e-16, -1.21770176e-16, -1.50937852e-16,\n",
       "         1.00000000e+00,  2.60012909e-16],\n",
       "       [-3.04027876e-15, -2.27348669e-16,  2.40288456e-17,\n",
       "        -1.85840969e-16,  1.00000000e+00]])"
      ]
     },
     "execution_count": 15,
     "metadata": {},
     "output_type": "execute_result"
    }
   ],
   "source": [
    "mat.dot(inv(mat))"
   ]
  },
  {
   "cell_type": "code",
   "execution_count": 37,
   "id": "pleasant-spanking",
   "metadata": {},
   "outputs": [
    {
     "data": {
      "text/plain": [
       "array([[-6.00567019, -8.67133608,  3.3063446 ,  1.89211281, 10.55154595],\n",
       "       [ 0.        , -6.91044295, -4.98474513,  3.5364982 ,  5.41405184],\n",
       "       [ 0.        ,  0.        , -3.34490272,  0.36720695,  5.17470938],\n",
       "       [ 0.        ,  0.        ,  0.        , -1.3554548 , -0.77075629],\n",
       "       [ 0.        ,  0.        ,  0.        ,  0.        ,  0.2429499 ]])"
      ]
     },
     "execution_count": 37,
     "metadata": {},
     "output_type": "execute_result"
    }
   ],
   "source": [
    "q, r = qr(mat)\n",
    "\n",
    "r"
   ]
  },
  {
   "cell_type": "markdown",
   "id": "confused-equity",
   "metadata": {},
   "source": [
    "**자주 사용하는 numpy.linalg 함수<br>\n",
    "• diag : 정사각 행렬의 대각/비대각 원소를 1차원 배열로 반환하거나, 1차원 배열을 대각선 원소로 하고 나머지는 0으로 채운 단위행렬을 반환한다<br>\n",
    "• dot : 행렬 곱셈<br>\n",
    "• trace : 행렬의 대각선 원소의 합을 계산한다<br>\n",
    "• det : 행렬식을 계산한다<br>\n",
    "• eig : 정사각 행렬의 고윳값과 고유벡터를 계산한다<br>\n",
    "• inv : 정사각 행렬의 역행렬을 계산한다<br>\n",
    "• pinv : 정사각 행렬의 무어-펜로즈 유사역원 역행렬을 구한다<br>\n",
    "• qr : QR 분해를 계산한다<br>\n",
    "• svd : 특잇값 분해(SVD)를 계산한다<br>\n",
    "• solve : A가 정사각 행렬일 때 Ax = b를 만족하는 x를 구한다<br>\n",
    "• lstsq : Ax = b를 만족하는 최소제곱해를 구한다**"
   ]
  },
  {
   "cell_type": "markdown",
   "id": "taken-feelings",
   "metadata": {},
   "source": [
    "--난수 생성--"
   ]
  },
  {
   "cell_type": "markdown",
   "id": "unauthorized-august",
   "metadata": {},
   "source": [
    "**numpy.random 모듈은 파이썬 내장 random 함수를 보강하여 다양한 종류의 확률분포로부터 효과적으로 표본값을 생성하는데 주로 사용됨<br><br>\n",
    "ex) normal을 사용하여 표준정규분포로부터 4x4 크기의 표본을 생성할 수 있음**"
   ]
  },
  {
   "cell_type": "code",
   "execution_count": 17,
   "id": "radical-physics",
   "metadata": {},
   "outputs": [
    {
     "data": {
      "text/plain": [
       "array([[-1.70686757, -0.9991204 , -1.65280247, -0.95364324],\n",
       "       [ 1.90522139, -0.42500352,  1.2396113 , -1.07743814],\n",
       "       [-0.40616293, -2.64710368,  0.88079412,  1.00149506],\n",
       "       [-0.18872623,  0.51301399,  0.57598609,  2.18628457]])"
      ]
     },
     "execution_count": 17,
     "metadata": {},
     "output_type": "execute_result"
    }
   ],
   "source": [
    "samples = np.random.normal(size=(4, 4))\n",
    "\n",
    "samples"
   ]
  },
  {
   "cell_type": "markdown",
   "id": "peaceful-shakespeare",
   "metadata": {},
   "source": [
    "**이에 비해 파이썬 내장 random 모듈은 한 번에 하나의 값만 생성할 수 있음<br>\n",
    "numpy.random은 매우 큰 표본을 생성하지만 파이썬 내장 모듈보다 수십 배 이상 빠름<br><br>\n",
    "+)noramlvariate 함수(mu, sigma)<br>\n",
    "+)%timeit 함수는 특정 코드 조각 (단일 실행 문 또는 단일 메서드)의 시간을 측정하는 데 사용할 수 있는 ipython 매직 함수**"
   ]
  },
  {
   "cell_type": "code",
   "execution_count": 18,
   "id": "single-fortune",
   "metadata": {},
   "outputs": [
    {
     "name": "stdout",
     "output_type": "stream",
     "text": [
      "752 ms ± 5.33 ms per loop (mean ± std. dev. of 7 runs, 1 loop each)\n",
      "40.1 ms ± 796 µs per loop (mean ± std. dev. of 7 runs, 10 loops each)\n"
     ]
    }
   ],
   "source": [
    "from random import normalvariate\n",
    "\n",
    "N = 1000000\n",
    "\n",
    "%timeit samples = [normalvariate(0, 1) for _ in range(N)]\n",
    "# 1.77 s +- 126 ms per loop (mean +- std. dev. of 7 runs, 1 loop each)\n",
    "\n",
    "%timeit np.random.normal(size=N)\n",
    "# 61.7 ms +- 1.32 ms per loop (mean +- std. dev. of 7 runs, 10 loops each)"
   ]
  },
  {
   "cell_type": "markdown",
   "id": "latter-identification",
   "metadata": {},
   "source": [
    "**이를 엄밀하게는 유사난수라고 부르는데, 난수 생성기의 시드값에 따라 정해진 난수를 알고리즘으로 생성하기 때문.<br>\n",
    "numpy 난수 생성기의 시드값은 밑의 코드와 같이 np.random.seed를 이용해서 변경할 수 있음**"
   ]
  },
  {
   "cell_type": "code",
   "execution_count": 19,
   "id": "brutal-debut",
   "metadata": {},
   "outputs": [],
   "source": [
    "np.random.seed(1234)"
   ]
  },
  {
   "cell_type": "markdown",
   "id": "awful-commonwealth",
   "metadata": {},
   "source": [
    "**numpy.random에서 제공하는 데이터를 생성할 수 있는 함수들은 전역 난수 시드값을 이용함.<br>\n",
    "numpy.random.RandomState를 이용해서 다른 난수 생성기로부터 격리된 난수 생성기를 만들 수 있음**"
   ]
  },
  {
   "cell_type": "code",
   "execution_count": 20,
   "id": "healthy-italy",
   "metadata": {},
   "outputs": [
    {
     "data": {
      "text/plain": [
       "array([ 0.47143516, -1.19097569,  1.43270697, -0.3126519 , -0.72058873,\n",
       "        0.88716294,  0.85958841, -0.6365235 ,  0.01569637, -2.24268495])"
      ]
     },
     "execution_count": 20,
     "metadata": {},
     "output_type": "execute_result"
    }
   ],
   "source": [
    "rng = np.random.RandomState(1234)\n",
    "\n",
    "rng.randn(10)"
   ]
  },
  {
   "cell_type": "markdown",
   "id": "superb-longer",
   "metadata": {},
   "source": [
    "**일부 numpy.random 함수<br>\n",
    "• seed : 난수 생성기의 시드를 지정한다<br>\n",
    "• permutation : 순서를 임의로 바꾸거나 임의의 순열을 반환한다<br>\n",
    "• shuffle : 리스트나 배열의 순서를 뒤섞는다<br>\n",
    "• rand : 균등분포에서 표본을 추출한다<br>\n",
    "• randint : 주어진 최소/최대 범위 안에서 임의의 난수를 추출한다<br>\n",
    "• randn : 표준편차가 1이고 평균값이 0인 정규분포(매트랩과 같은 방식)에서 표본을 추출한다<br>\n",
    "• binomial : 이항분포에서 표본을 추출한다<br>\n",
    "• normal : 정규분포(가우시안)에서 표본을 추출한다<br>\n",
    "• beta : 베타분포에서 표본을 추출한다<br>\n",
    "• chisquare : 카이제곱분포에서 표본을 추출한다<br>\n",
    "• gamma : 감마분포에서 표본을 추출한다<br>\n",
    "• uniform : 균등 [0,1)분포에서 표본을 추출한다**\n"
   ]
  },
  {
   "cell_type": "markdown",
   "id": "material-hypothesis",
   "metadata": {},
   "source": [
    "--계단 오르내리기 예제--"
   ]
  },
  {
   "cell_type": "markdown",
   "id": "linear-anniversary",
   "metadata": {},
   "source": [
    "**계단 오르내리기 예제는 배열 연산의 활용을 보여줄 수 있는 간단한 애플리케이션임. 계단 중간에서 같은 확률로 한 계단 올라가거나 내려간다고 가정하자.\n",
    "순수 파이썬으로 내장 random 모듈을 사용하여 계단 오르내리기를 1000번 수행하는 코드는 다음처럼 작성할 수 있다.**"
   ]
  },
  {
   "cell_type": "code",
   "execution_count": 21,
   "id": "dynamic-lawsuit",
   "metadata": {},
   "outputs": [],
   "source": [
    "import random\n",
    "import matplotlib.pyplot as plt\n",
    "\n",
    "position = 0\n",
    "walk = [position]\n",
    "steps = 1000\n",
    "for i in range(steps):\n",
    "    step = 1 if random.randint(0, 1) else -1\n",
    "    position += step\n",
    "    walk.append(position)"
   ]
  },
  {
   "cell_type": "markdown",
   "id": "boxed-generic",
   "metadata": {},
   "source": [
    "**처음 100회의 계단 오르내리기를 그래프 나타낸 것이다.**"
   ]
  },
  {
   "cell_type": "code",
   "execution_count": 22,
   "id": "aboriginal-cloud",
   "metadata": {},
   "outputs": [
    {
     "data": {
      "text/plain": [
       "[<matplotlib.lines.Line2D at 0x7fddb0e09090>]"
      ]
     },
     "execution_count": 22,
     "metadata": {},
     "output_type": "execute_result"
    },
    {
     "data": {
      "image/png": "[encoded data removed]",
      "text/plain": [
       "<Figure size 432x288 with 1 Axes>"
      ]
     },
     "metadata": {
      "needs_background": "light"
     },
     "output_type": "display_data"
    }
   ],
   "source": [
    "plt.plot(walk[:100])"
   ]
  },
  {
   "cell_type": "markdown",
   "id": "further-blake",
   "metadata": {},
   "source": [
    "**walk는 계단을 오르거나(+1) 내려간(-1) 값의 누적합이라는 사실을 알 수 있으며 배열식으로 나타낼 수 있다. 그래서 np.random 모듈을 사용해서 1000번 수행한 결과(1, -1)를 한 번에 저장하고 누적합을 계산한다.<br><br>\n",
    "+)np.where 함수는 np.where(조건, 조건이 참일 때 입력되는 값, 조건이 거짓일 때 입력되는 값)**"
   ]
  },
  {
   "cell_type": "code",
   "execution_count": 23,
   "id": "familiar-warner",
   "metadata": {},
   "outputs": [],
   "source": [
    "nsteps = 1000\n",
    "\n",
    "draws = np.random.randint(0, 2, size=nsteps)\n",
    "\n",
    "steps = np.where(draws > 0, 1, -1)\n",
    "\n",
    "walk = walk = steps.cumsum()"
   ]
  },
  {
   "cell_type": "markdown",
   "id": "single-canyon",
   "metadata": {},
   "source": [
    "**이것으로 계단을 오르내린 위치의 최솟값과 최댓값 같은 간단한 통계를 구할 수 있다.**"
   ]
  },
  {
   "cell_type": "code",
   "execution_count": 24,
   "id": "written-memory",
   "metadata": {},
   "outputs": [
    {
     "data": {
      "text/plain": [
       "-9"
      ]
     },
     "execution_count": 24,
     "metadata": {},
     "output_type": "execute_result"
    }
   ],
   "source": [
    "walk.min()"
   ]
  },
  {
   "cell_type": "code",
   "execution_count": 25,
   "id": "chubby-chambers",
   "metadata": {},
   "outputs": [
    {
     "data": {
      "text/plain": [
       "60"
      ]
     },
     "execution_count": 25,
     "metadata": {},
     "output_type": "execute_result"
    }
   ],
   "source": [
    "walk.max()"
   ]
  },
  {
   "cell_type": "markdown",
   "id": "several-territory",
   "metadata": {},
   "source": [
    "**계단에서 특정 위치에 도달하기까지의 시간 같은 좀 더 복잡한 통계를 구할 수 있는데, 계단의 처음 위치에서 최초로 10칸 떨어지기까지 얼마나 걸렸는지 확인해보자. np.abs(walk) >= 10 으로 처음 위치에서 10칸 이상 떨어진 시점을 알려주는 불리언 배열을 얻을 수 있다. 우리는 최초의 10 혹은 -10인 시점을 구해야 하므로 불리언 배열에서 최댓값의 처음 색인을 반환하는 argmax를 사용하자(True가 최댓값이다).<br><br>\n",
    "+)argmax 함수는 array에 존재하는 최댓값의 인덱스를 추출해줍니다.**"
   ]
  },
  {
   "cell_type": "code",
   "execution_count": 26,
   "id": "conservative-clearance",
   "metadata": {},
   "outputs": [
    {
     "data": {
      "text/plain": [
       "297"
      ]
     },
     "execution_count": 26,
     "metadata": {},
     "output_type": "execute_result"
    }
   ],
   "source": [
    "(np.abs(walk) >= 10).argmax()"
   ]
  },
  {
   "cell_type": "markdown",
   "id": "applied-shareware",
   "metadata": {},
   "source": [
    "**여기서 argmax를 사용했지만 argmax는 배열 전체를 모두 확인하기 때문에 효과적인 방법은 아니다. 또한 이 예제에서는 True가 최댓값임을 이미 알고 있었다.**"
   ]
  },
  {
   "cell_type": "markdown",
   "id": "driven-rating",
   "metadata": {},
   "source": [
    "-- 한 번에 시뮬레이션하기 --"
   ]
  },
  {
   "cell_type": "markdown",
   "id": "technical-fitness",
   "metadata": {},
   "source": [
    "**계단 오르내리기를 많은 횟수(대략 5000회 정도) 시뮬레이션하더라도 위 코드를 조금만 수정해서 해결할 수 있다. numpy.random 함수에 크기가 2인 튜플을 넘기면 2차원 배열이 생성되고 각 컬럼에서 누적합을 구해서 5000회의 시뮬레이션을 한 방에 처리할 수 있다.**"
   ]
  },
  {
   "cell_type": "code",
   "execution_count": 27,
   "id": "dominican-cleaner",
   "metadata": {},
   "outputs": [
    {
     "data": {
      "text/plain": [
       "array([[  1,   2,   3, ...,  46,  47,  46],\n",
       "       [  1,   0,   1, ...,  40,  41,  42],\n",
       "       [  1,   2,   3, ..., -26, -27, -28],\n",
       "       ...,\n",
       "       [  1,   0,   1, ...,  64,  65,  66],\n",
       "       [  1,   2,   1, ...,   2,   1,   0],\n",
       "       [ -1,  -2,  -3, ...,  32,  33,  34]])"
      ]
     },
     "execution_count": 27,
     "metadata": {},
     "output_type": "execute_result"
    }
   ],
   "source": [
    "nwalks = 5000\n",
    "\n",
    "nsteps = 1000\n",
    "\n",
    "draws = np.random.randint(0, 2, size=(nwalks, nsteps)) # 0 또는 1\n",
    "\n",
    "steps = np.where(draws > 0, 1, -1)\n",
    "\n",
    "walks = steps.cumsum(1)\n",
    "\n",
    "walks"
   ]
  },
  {
   "cell_type": "markdown",
   "id": "funky-research",
   "metadata": {},
   "source": [
    "**이제 모든 시뮬레이션에 대해 최댓값과 최솟값을 구해보자.**"
   ]
  },
  {
   "cell_type": "code",
   "execution_count": 28,
   "id": "parallel-congress",
   "metadata": {},
   "outputs": [
    {
     "data": {
      "text/plain": [
       "122"
      ]
     },
     "execution_count": 28,
     "metadata": {},
     "output_type": "execute_result"
    }
   ],
   "source": [
    "walks.max()"
   ]
  },
  {
   "cell_type": "code",
   "execution_count": 29,
   "id": "psychological-emerald",
   "metadata": {},
   "outputs": [
    {
     "data": {
      "text/plain": [
       "-128"
      ]
     },
     "execution_count": 29,
     "metadata": {},
     "output_type": "execute_result"
    }
   ],
   "source": [
    "walks.min()"
   ]
  },
  {
   "cell_type": "markdown",
   "id": "interior-debut",
   "metadata": {},
   "source": [
    "**이 데이터에서 누적합이 30 혹은 -30이 되는 최소 시점을 계산해보자. 5000회의 시뮬레이션중 모든 경우가 30에 도달하지 않기 때문에 약간 까다로운데, any메서드를 이용해서 해결할 수 있다.<br><br>\n",
    "+) any 메서드는 특정 조건을 충족하는 요소가 있는지 없는지 검사할 때 사용합니다.**"
   ]
  },
  {
   "cell_type": "code",
   "execution_count": 30,
   "id": "periodic-equation",
   "metadata": {},
   "outputs": [
    {
     "data": {
      "text/plain": [
       "array([ True,  True,  True, ...,  True, False,  True])"
      ]
     },
     "execution_count": 30,
     "metadata": {},
     "output_type": "execute_result"
    }
   ],
   "source": [
    "hits30 = (np.abs(walks) >= 30).any(1)\n",
    "\n",
    "hits30"
   ]
  },
  {
   "cell_type": "code",
   "execution_count": 31,
   "id": "modern-nothing",
   "metadata": {},
   "outputs": [
    {
     "data": {
      "text/plain": [
       "3368"
      ]
     },
     "execution_count": 31,
     "metadata": {},
     "output_type": "execute_result"
    }
   ],
   "source": [
    "hits30.sum() #누적합이 30 또는 -30이 되는 경우의 수"
   ]
  },
  {
   "cell_type": "markdown",
   "id": "downtown-lease",
   "metadata": {},
   "source": [
    "**이 불리언 배열을 사용해서 walks에서 컬럼을 선택하고 절댓값이 30을 넘는 경우에 대해 축 1의 argmax 값을 구하면 처음 위치에서 30칸 이상 멀어지는 최소 횟수를 구할 수 있다.**"
   ]
  },
  {
   "cell_type": "code",
   "execution_count": 32,
   "id": "threaded-westminster",
   "metadata": {},
   "outputs": [
    {
     "data": {
      "text/plain": [
       "509.99762470308787"
      ]
     },
     "execution_count": 32,
     "metadata": {},
     "output_type": "execute_result"
    }
   ],
   "source": [
    "crossing_times = (np.abs(walks[hits30]) >= 30).argmax(1)\n",
    "                  \n",
    "crossing_times.mean()"
   ]
  },
  {
   "cell_type": "code",
   "execution_count": null,
   "id": "selected-comedy",
   "metadata": {},
   "outputs": [],
   "source": []
  }
 ],
 "metadata": {
  "kernelspec": {
   "display_name": "Python 3",
   "language": "python",
   "name": "python3"
  },
  "language_info": {
   "codemirror_mode": {
    "name": "ipython",
    "version": 3
   },
   "file_extension": ".py",
   "mimetype": "text/x-python",
   "name": "python",
   "nbconvert_exporter": "python",
   "pygments_lexer": "ipython3",
   "version": "3.7.9"
  }
 },
 "nbformat": 4,
 "nbformat_minor": 5
}
