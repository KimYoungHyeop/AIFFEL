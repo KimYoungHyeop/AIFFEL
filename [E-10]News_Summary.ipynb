{
 "cells": [
  {
   "cell_type": "markdown",
   "id": "excess-essex",
   "metadata": {},
   "source": [
    "**Step 0. Intro**"
   ]
  },
  {
   "cell_type": "markdown",
   "id": "ranging-tourism",
   "metadata": {},
   "source": [
    "**추출적 요약(Extractive Summarization)**<br><br>\n",
    "첫 번째 방식인 추출적 요약은 단어 그대로 원문에서 문장들을 추출해서 요약하는 방식이에요. 가령, 10개의 문장으로 구성된 텍스트가 있다면, 그중 핵심적인 문장 3개를 꺼내와서 3개의 문장으로 구성된 요약문을 만드는 식이죠. 그런데 꺼내온 3개의 문장이 원문에서 중요한 문장일 수는 있어도, 3개의 문장의 연결이 자연스럽지 않을 수는 있거든요. 결과로 나온 문장들 간의 호응이 자연스럽지 않을 수 있다는 것이죠. 딥 러닝보다는 주로 전통적인 머신 러닝 방식에 속하는 텍스트 랭크(TextRank)와 같은 알고리즘을 사용해서 이 방법을 사용한다고 해요.<br>\n",
    "\n",
    "이런 방식을 이미 서비스에 도입해서 활용하고 있는 사례가 있다는 것, 알고 계셨나요? 가장 대표적인 것이 네이버 뉴스 서비스에 있는 요약봇 기능입니다.<br>\n",
    "\n",
    "네이버 뉴스에 접속해서 아무 뉴스 기사나 클릭해 봅시다. 제목 우하단의 요약봇 버튼을 다시 클릭해 보세요. 기사 원문을 단 3줄로 요약한 글을 보실 수 있습니다. 어떤가요? 가끔은 세 문장 간 연결이 조금 매끄럽지 않게 느껴질 때도 있지만 꽤 그럴듯한 요약문으로 보입니다. 위에서 소개한 TextRank 알고리즘을 통해 해당 기사를 가장 잘 대표하는 단어들로 이루어진 핵심문장을 아주 효과적으로 찾아내기 때문입니다. 잘 찾아보면 요약문에 사용된 문장 3개가 원문에 그대로 있다는 것을 알 수 있을 것입니다."
   ]
  },
  {
   "cell_type": "markdown",
   "id": "mathematical-freeware",
   "metadata": {},
   "source": [
    "**추상적 요약(Abstractive Summarization)**<br><br>\n",
    "두 번째 방식인 추상적 요약은 추출적 요약보다 좀 더 흥미로운 접근을 사용합니다. 원문으로부터 내용이 요약된 새로운 문장을 생성해내는 것이죠. 여기서 새로운 문장이라는 것은 결과로 나온 문장이 원문에 원래 없던 문장일 수도 있다는 것을 의미합니다. 자연어 처리 분야 중 자연어 생성(Natural Language Generation, NLG)의 영역인 셈이죠. 반면, 추출적 요약은 원문을 구성하는 문장 중 어느 것이 요약문에 들어갈 핵심문장인지를 판별한다는 점에서 문장 분류(Text Classification) 문제로 볼 수 있을 것입니다.<br>\n",
    "\n",
    "자연어 생성하면 혹시 떠오르는 신경망이 있나요? 가장 기본적인 신경망 중 하나인데... 맞아요! RNN으로 이 문제를 풀 수 있겠군요! 그렇다면, RNN으로 추상적 요약 방식을 구현한다고 하면 문제가 전혀 없을까요?"
   ]
  },
  {
   "cell_type": "markdown",
   "id": "verified-start",
   "metadata": {},
   "source": [
    "**Step 1. 데이터 수집하기**<br>\n",
    "추상적 요약을 하는 경우에는 text를 본문, headlines를 이미 요약된 데이터로 삼아서 모델을 학습할 수 있어요.<br>\n",
    "추출적 요약을 하는 경우에는 오직 text열만을 사용하세요."
   ]
  },
  {
   "cell_type": "code",
   "execution_count": 1,
   "id": "cordless-lyric",
   "metadata": {},
   "outputs": [],
   "source": [
    "import pandas as pd"
   ]
  },
  {
   "cell_type": "code",
   "execution_count": 2,
   "id": "shared-silly",
   "metadata": {},
   "outputs": [],
   "source": [
    "import urllib.request\n",
    "urllib.request.urlretrieve(\"https://raw.githubusercontent.com/sunnysai12345/News_Summary/master/news_summary_more.csv\", filename=\"news_summary_more.csv\")\n",
    "data = pd.read_csv('news_summary_more.csv', encoding='iso-8859-1')"
   ]
  },
  {
   "cell_type": "code",
   "execution_count": 3,
   "id": "homeless-gamma",
   "metadata": {},
   "outputs": [
    {
     "data": {
      "text/html": [
       "<div>\n",
       "<style scoped>\n",
       "    .dataframe tbody tr th:only-of-type {\n",
       "        vertical-align: middle;\n",
       "    }\n",
       "\n",
       "    .dataframe tbody tr th {\n",
       "        vertical-align: top;\n",
       "    }\n",
       "\n",
       "    .dataframe thead th {\n",
       "        text-align: right;\n",
       "    }\n",
       "</style>\n",
       "<table border=\"1\" class=\"dataframe\">\n",
       "  <thead>\n",
       "    <tr style=\"text-align: right;\">\n",
       "      <th></th>\n",
       "      <th>headlines</th>\n",
       "      <th>text</th>\n",
       "    </tr>\n",
       "  </thead>\n",
       "  <tbody>\n",
       "    <tr>\n",
       "      <th>73692</th>\n",
       "      <td>What are the features of the new Ã¢ÂÂ¹200 note?</td>\n",
       "      <td>The salient features of the new Ã¢ÂÂ¹200 bank...</td>\n",
       "    </tr>\n",
       "    <tr>\n",
       "      <th>96929</th>\n",
       "      <td>Who is the Shiv Sena MP who hit an Air India s...</td>\n",
       "      <td>Shiv Sena's Ravindra Gaikwad, who hit an Air I...</td>\n",
       "    </tr>\n",
       "    <tr>\n",
       "      <th>51918</th>\n",
       "      <td>US founder proved lightning is electricity by ...</td>\n",
       "      <td>Born on January 17, 1706, Benjamin Franklin, o...</td>\n",
       "    </tr>\n",
       "    <tr>\n",
       "      <th>60602</th>\n",
       "      <td>Those doubting reforms can introspect: FM on M...</td>\n",
       "      <td>Finance Minister Arun Jaitley on Friday, after...</td>\n",
       "    </tr>\n",
       "    <tr>\n",
       "      <th>93676</th>\n",
       "      <td>Pic of Salman with Playboy model Ronja surface...</td>\n",
       "      <td>A picture of actor Salman Khan with Austrian a...</td>\n",
       "    </tr>\n",
       "    <tr>\n",
       "      <th>42384</th>\n",
       "      <td>US files complaint against China at World Trad...</td>\n",
       "      <td>The US on Friday officially filed a complaint ...</td>\n",
       "    </tr>\n",
       "    <tr>\n",
       "      <th>29505</th>\n",
       "      <td>SoftBank asks Oyo to get other investors first...</td>\n",
       "      <td>Japanese conglomerate SoftBank has asked Gurug...</td>\n",
       "    </tr>\n",
       "    <tr>\n",
       "      <th>97060</th>\n",
       "      <td>2016 global box office figures hit record Ã¢Â...</td>\n",
       "      <td>The global box office figures for movies relea...</td>\n",
       "    </tr>\n",
       "    <tr>\n",
       "      <th>28611</th>\n",
       "      <td>Congress slams Jaitley for comparing Indira Ga...</td>\n",
       "      <td>Congress leader Anand Sharma has tweeted that ...</td>\n",
       "    </tr>\n",
       "    <tr>\n",
       "      <th>64723</th>\n",
       "      <td>Women who worship Lord Ram not Muslims anymore...</td>\n",
       "      <td>Islamic seminary Darul Uloom Deoband on Saturd...</td>\n",
       "    </tr>\n",
       "  </tbody>\n",
       "</table>\n",
       "</div>"
      ],
      "text/plain": [
       "                                               headlines  \\\n",
       "73692   What are the features of the new Ã¢ÂÂ¹200 note?   \n",
       "96929  Who is the Shiv Sena MP who hit an Air India s...   \n",
       "51918  US founder proved lightning is electricity by ...   \n",
       "60602  Those doubting reforms can introspect: FM on M...   \n",
       "93676  Pic of Salman with Playboy model Ronja surface...   \n",
       "42384  US files complaint against China at World Trad...   \n",
       "29505  SoftBank asks Oyo to get other investors first...   \n",
       "97060  2016 global box office figures hit record Ã¢Â...   \n",
       "28611  Congress slams Jaitley for comparing Indira Ga...   \n",
       "64723  Women who worship Lord Ram not Muslims anymore...   \n",
       "\n",
       "                                                    text  \n",
       "73692  The salient features of the new Ã¢ÂÂ¹200 bank...  \n",
       "96929  Shiv Sena's Ravindra Gaikwad, who hit an Air I...  \n",
       "51918  Born on January 17, 1706, Benjamin Franklin, o...  \n",
       "60602  Finance Minister Arun Jaitley on Friday, after...  \n",
       "93676  A picture of actor Salman Khan with Austrian a...  \n",
       "42384  The US on Friday officially filed a complaint ...  \n",
       "29505  Japanese conglomerate SoftBank has asked Gurug...  \n",
       "97060  The global box office figures for movies relea...  \n",
       "28611  Congress leader Anand Sharma has tweeted that ...  \n",
       "64723  Islamic seminary Darul Uloom Deoband on Saturd...  "
      ]
     },
     "execution_count": 3,
     "metadata": {},
     "output_type": "execute_result"
    }
   ],
   "source": [
    "data.sample(10)"
   ]
  },
  {
   "cell_type": "markdown",
   "id": "arranged-budget",
   "metadata": {},
   "source": [
    "**Step 2. 데이터 전처리하기 (추상적 요약)<br>**\n",
    "실습에서 사용된 전처리를 참고하여 각자 필요하다고 생각하는 전처리를 추가 사용하여 텍스트를 정규화 또는 정제해 보세요.<br>\n",
    "만약, 불용어 제거를 선택한다면 상대적으로 길이가 짧은 요약 데이터에 대해서도 불용어를 제거하는 것이 좋을지 고민해 보세요."
   ]
  },
  {
   "cell_type": "markdown",
   "id": "honest-russia",
   "metadata": {},
   "source": [
    "이번 실습에서는 NLTK의 불용어(stopwords)를 사용할 거에요. NTLK와 NLTK 데이터셋이 설치되어 있지 않은 환경이라면 우선 NLTK를 설치하고 NTLK의 데이터셋을 다운로드해 주세요.<br>\n",
    "\n",
    "NLTK는 Natural Language Toolkit의 축약어로 영어 기호, 통계, 자연어 처리를 위한 라이브러리에요. 이 NLTK에는 I, my, me, over, 조사, 접미사와 같이 문장에는 자주 등장하지만, 의미를 분석하고 요약하는 데는 거의 의미가 없는 100여개의 불용어가 미리 정리되어 있어요. 이를 이용해 다운로드한 리뷰 파일에서 불용어를 제거하는 작업을 진행할 예정이에요."
   ]
  },
  {
   "cell_type": "code",
   "execution_count": 4,
   "id": "ideal-conflict",
   "metadata": {},
   "outputs": [
    {
     "name": "stderr",
     "output_type": "stream",
     "text": [
      "[nltk_data] Downloading package stopwords to /aiffel/nltk_data...\n",
      "[nltk_data]   Unzipping corpora/stopwords.zip.\n"
     ]
    },
    {
     "name": "stdout",
     "output_type": "stream",
     "text": [
      "=3\n"
     ]
    }
   ],
   "source": [
    "import nltk\n",
    "nltk.download('stopwords')\n",
    "\n",
    "import numpy as np\n",
    "import pandas as pd\n",
    "import os\n",
    "import re\n",
    "import matplotlib.pyplot as plt\n",
    "from nltk.corpus import stopwords\n",
    "from bs4 import BeautifulSoup \n",
    "from tensorflow.keras.preprocessing.text import Tokenizer \n",
    "from tensorflow.keras.preprocessing.sequence import pad_sequences\n",
    "import urllib.request\n",
    "\n",
    "print('=3')"
   ]
  },
  {
   "cell_type": "code",
   "execution_count": 5,
   "id": "remarkable-garbage",
   "metadata": {},
   "outputs": [
    {
     "data": {
      "text/html": [
       "<div>\n",
       "<style scoped>\n",
       "    .dataframe tbody tr th:only-of-type {\n",
       "        vertical-align: middle;\n",
       "    }\n",
       "\n",
       "    .dataframe tbody tr th {\n",
       "        vertical-align: top;\n",
       "    }\n",
       "\n",
       "    .dataframe thead th {\n",
       "        text-align: right;\n",
       "    }\n",
       "</style>\n",
       "<table border=\"1\" class=\"dataframe\">\n",
       "  <thead>\n",
       "    <tr style=\"text-align: right;\">\n",
       "      <th></th>\n",
       "      <th>headlines</th>\n",
       "      <th>text</th>\n",
       "    </tr>\n",
       "  </thead>\n",
       "  <tbody>\n",
       "    <tr>\n",
       "      <th>0</th>\n",
       "      <td>upGrad learner switches to career in ML &amp; Al w...</td>\n",
       "      <td>Saurav Kant, an alumnus of upGrad and IIIT-B's...</td>\n",
       "    </tr>\n",
       "    <tr>\n",
       "      <th>1</th>\n",
       "      <td>Delhi techie wins free food from Swiggy for on...</td>\n",
       "      <td>Kunal Shah's credit card bill payment platform...</td>\n",
       "    </tr>\n",
       "    <tr>\n",
       "      <th>2</th>\n",
       "      <td>New Zealand end Rohit Sharma-led India's 12-ma...</td>\n",
       "      <td>New Zealand defeated India by 8 wickets in the...</td>\n",
       "    </tr>\n",
       "    <tr>\n",
       "      <th>3</th>\n",
       "      <td>Aegon life iTerm insurance plan helps customer...</td>\n",
       "      <td>With Aegon Life iTerm Insurance plan, customer...</td>\n",
       "    </tr>\n",
       "    <tr>\n",
       "      <th>4</th>\n",
       "      <td>Have known Hirani for yrs, what if MeToo claim...</td>\n",
       "      <td>Speaking about the sexual harassment allegatio...</td>\n",
       "    </tr>\n",
       "  </tbody>\n",
       "</table>\n",
       "</div>"
      ],
      "text/plain": [
       "                                           headlines  \\\n",
       "0  upGrad learner switches to career in ML & Al w...   \n",
       "1  Delhi techie wins free food from Swiggy for on...   \n",
       "2  New Zealand end Rohit Sharma-led India's 12-ma...   \n",
       "3  Aegon life iTerm insurance plan helps customer...   \n",
       "4  Have known Hirani for yrs, what if MeToo claim...   \n",
       "\n",
       "                                                text  \n",
       "0  Saurav Kant, an alumnus of upGrad and IIIT-B's...  \n",
       "1  Kunal Shah's credit card bill payment platform...  \n",
       "2  New Zealand defeated India by 8 wickets in the...  \n",
       "3  With Aegon Life iTerm Insurance plan, customer...  \n",
       "4  Speaking about the sexual harassment allegatio...  "
      ]
     },
     "execution_count": 5,
     "metadata": {},
     "output_type": "execute_result"
    }
   ],
   "source": [
    "data.head()"
   ]
  },
  {
   "cell_type": "code",
   "execution_count": 6,
   "id": "white-melissa",
   "metadata": {
    "scrolled": true
   },
   "outputs": [
    {
     "name": "stdout",
     "output_type": "stream",
     "text": [
      "headlines 열에서 중복을 배제한 유일한 샘플의 수 : 98280\n",
      "text 열에서 중복을 배제한 유일한 샘플의 수 : 98360\n"
     ]
    }
   ],
   "source": [
    "print('headlines 열에서 중복을 배제한 유일한 샘플의 수 :', data['headlines'].nunique())\n",
    "print('text 열에서 중복을 배제한 유일한 샘플의 수 :', data['text'].nunique())"
   ]
  },
  {
   "cell_type": "code",
   "execution_count": 7,
   "id": "indoor-enemy",
   "metadata": {},
   "outputs": [
    {
     "name": "stdout",
     "output_type": "stream",
     "text": [
      "headlines 열의 전체 샘플수 : 98280\n",
      "text 열의 전체 샘플수 : 98262\n"
     ]
    }
   ],
   "source": [
    "# inplace=True 를 설정하면 DataFrame 타입 값을 return 하지 않고 data 내부를 직접적으로 바꿉니다\n",
    "data.drop_duplicates(subset = ['headlines'], inplace=True)\n",
    "print('headlines 열의 전체 샘플수 :', (len(data)))\n",
    "data.drop_duplicates(subset = ['text'], inplace=True)\n",
    "print('text 열의 전체 샘플수 :', (len(data)))"
   ]
  },
  {
   "cell_type": "code",
   "execution_count": 8,
   "id": "activated-assist",
   "metadata": {},
   "outputs": [
    {
     "name": "stdout",
     "output_type": "stream",
     "text": [
      "headlines    0\n",
      "text         0\n",
      "dtype: int64\n"
     ]
    }
   ],
   "source": [
    "#데이터프레임에 Null 값이 있는지 확인합니다\n",
    "print(data.isnull().sum())"
   ]
  },
  {
   "cell_type": "markdown",
   "id": "explicit-platinum",
   "metadata": {},
   "source": [
    "**텍스트 정규화와 불용어 제거**"
   ]
  },
  {
   "cell_type": "code",
   "execution_count": 9,
   "id": "victorian-aberdeen",
   "metadata": {},
   "outputs": [
    {
     "name": "stdout",
     "output_type": "stream",
     "text": [
      "정규화 사전의 수:  120\n"
     ]
    }
   ],
   "source": [
    "#텍스트 정규화를 위한 사전(dictionary)을 참고합니다\n",
    "contractions = {\"ain't\": \"is not\", \"aren't\": \"are not\",\"can't\": \"cannot\", \"'cause\": \"because\", \"could've\": \"could have\", \"couldn't\": \"could not\",\n",
    "                           \"didn't\": \"did not\",  \"doesn't\": \"does not\", \"don't\": \"do not\", \"hadn't\": \"had not\", \"hasn't\": \"has not\", \"haven't\": \"have not\",\n",
    "                           \"he'd\": \"he would\",\"he'll\": \"he will\", \"he's\": \"he is\", \"how'd\": \"how did\", \"how'd'y\": \"how do you\", \"how'll\": \"how will\", \"how's\": \"how is\",\n",
    "                           \"I'd\": \"I would\", \"I'd've\": \"I would have\", \"I'll\": \"I will\", \"I'll've\": \"I will have\",\"I'm\": \"I am\", \"I've\": \"I have\", \"i'd\": \"i would\",\n",
    "                           \"i'd've\": \"i would have\", \"i'll\": \"i will\",  \"i'll've\": \"i will have\",\"i'm\": \"i am\", \"i've\": \"i have\", \"isn't\": \"is not\", \"it'd\": \"it would\",\n",
    "                           \"it'd've\": \"it would have\", \"it'll\": \"it will\", \"it'll've\": \"it will have\",\"it's\": \"it is\", \"let's\": \"let us\", \"ma'am\": \"madam\",\n",
    "                           \"mayn't\": \"may not\", \"might've\": \"might have\",\"mightn't\": \"might not\",\"mightn't've\": \"might not have\", \"must've\": \"must have\",\n",
    "                           \"mustn't\": \"must not\", \"mustn't've\": \"must not have\", \"needn't\": \"need not\", \"needn't've\": \"need not have\",\"o'clock\": \"of the clock\",\n",
    "                           \"oughtn't\": \"ought not\", \"oughtn't've\": \"ought not have\", \"shan't\": \"shall not\", \"sha'n't\": \"shall not\", \"shan't've\": \"shall not have\",\n",
    "                           \"she'd\": \"she would\", \"she'd've\": \"she would have\", \"she'll\": \"she will\", \"she'll've\": \"she will have\", \"she's\": \"she is\",\n",
    "                           \"should've\": \"should have\", \"shouldn't\": \"should not\", \"shouldn't've\": \"should not have\", \"so've\": \"so have\",\"so's\": \"so as\",\n",
    "                           \"this's\": \"this is\",\"that'd\": \"that would\", \"that'd've\": \"that would have\", \"that's\": \"that is\", \"there'd\": \"there would\",\n",
    "                           \"there'd've\": \"there would have\", \"there's\": \"there is\", \"here's\": \"here is\",\"they'd\": \"they would\", \"they'd've\": \"they would have\",\n",
    "                           \"they'll\": \"they will\", \"they'll've\": \"they will have\", \"they're\": \"they are\", \"they've\": \"they have\", \"to've\": \"to have\",\n",
    "                           \"wasn't\": \"was not\", \"we'd\": \"we would\", \"we'd've\": \"we would have\", \"we'll\": \"we will\", \"we'll've\": \"we will have\", \"we're\": \"we are\",\n",
    "                           \"we've\": \"we have\", \"weren't\": \"were not\", \"what'll\": \"what will\", \"what'll've\": \"what will have\", \"what're\": \"what are\",\n",
    "                           \"what's\": \"what is\", \"what've\": \"what have\", \"when's\": \"when is\", \"when've\": \"when have\", \"where'd\": \"where did\", \"where's\": \"where is\",\n",
    "                           \"where've\": \"where have\", \"who'll\": \"who will\", \"who'll've\": \"who will have\", \"who's\": \"who is\", \"who've\": \"who have\",\n",
    "                           \"why's\": \"why is\", \"why've\": \"why have\", \"will've\": \"will have\", \"won't\": \"will not\", \"won't've\": \"will not have\",\n",
    "                           \"would've\": \"would have\", \"wouldn't\": \"would not\", \"wouldn't've\": \"would not have\", \"y'all\": \"you all\",\n",
    "                           \"y'all'd\": \"you all would\",\"y'all'd've\": \"you all would have\",\"y'all're\": \"you all are\",\"y'all've\": \"you all have\",\n",
    "                           \"you'd\": \"you would\", \"you'd've\": \"you would have\", \"you'll\": \"you will\", \"you'll've\": \"you will have\",\n",
    "                           \"you're\": \"you are\", \"you've\": \"you have\"}\n",
    "\n",
    "print(\"정규화 사전의 수: \", len(contractions))"
   ]
  },
  {
   "cell_type": "code",
   "execution_count": 10,
   "id": "detected-hundred",
   "metadata": {},
   "outputs": [
    {
     "name": "stdout",
     "output_type": "stream",
     "text": [
      "불용어 개수 : 179\n",
      "['i', 'me', 'my', 'myself', 'we', 'our', 'ours', 'ourselves', 'you', \"you're\", \"you've\", \"you'll\", \"you'd\", 'your', 'yours', 'yourself', 'yourselves', 'he', 'him', 'his', 'himself', 'she', \"she's\", 'her', 'hers', 'herself', 'it', \"it's\", 'its', 'itself', 'they', 'them', 'their', 'theirs', 'themselves', 'what', 'which', 'who', 'whom', 'this', 'that', \"that'll\", 'these', 'those', 'am', 'is', 'are', 'was', 'were', 'be', 'been', 'being', 'have', 'has', 'had', 'having', 'do', 'does', 'did', 'doing', 'a', 'an', 'the', 'and', 'but', 'if', 'or', 'because', 'as', 'until', 'while', 'of', 'at', 'by', 'for', 'with', 'about', 'against', 'between', 'into', 'through', 'during', 'before', 'after', 'above', 'below', 'to', 'from', 'up', 'down', 'in', 'out', 'on', 'off', 'over', 'under', 'again', 'further', 'then', 'once', 'here', 'there', 'when', 'where', 'why', 'how', 'all', 'any', 'both', 'each', 'few', 'more', 'most', 'other', 'some', 'such', 'no', 'nor', 'not', 'only', 'own', 'same', 'so', 'than', 'too', 'very', 's', 't', 'can', 'will', 'just', 'don', \"don't\", 'should', \"should've\", 'now', 'd', 'll', 'm', 'o', 're', 've', 'y', 'ain', 'aren', \"aren't\", 'couldn', \"couldn't\", 'didn', \"didn't\", 'doesn', \"doesn't\", 'hadn', \"hadn't\", 'hasn', \"hasn't\", 'haven', \"haven't\", 'isn', \"isn't\", 'ma', 'mightn', \"mightn't\", 'mustn', \"mustn't\", 'needn', \"needn't\", 'shan', \"shan't\", 'shouldn', \"shouldn't\", 'wasn', \"wasn't\", 'weren', \"weren't\", 'won', \"won't\", 'wouldn', \"wouldn't\"]\n"
     ]
    }
   ],
   "source": [
    "print('불용어 개수 :', len(stopwords.words('english') ))\n",
    "print(stopwords.words('english'))"
   ]
  },
  {
   "cell_type": "code",
   "execution_count": 11,
   "id": "monetary-delay",
   "metadata": {},
   "outputs": [],
   "source": [
    "# 데이터 전처리 함수\n",
    "def preprocess_sentence(sentence, remove_stopwords=True):\n",
    "    sentence = sentence.lower() # 텍스트 소문자화\n",
    "    sentence = BeautifulSoup(sentence, \"lxml\").text # <br />, <a href = ...> 등의 html 태그 제거\n",
    "    sentence = re.sub(r'\\([^)]*\\)', '', sentence) # 괄호로 닫힌 문자열 (...) 제거 Ex) my husband (and myself!) for => my husband for\n",
    "    sentence = re.sub('\"','', sentence) # 쌍따옴표 \" 제거\n",
    "    sentence = ' '.join([contractions[t] if t in contractions else t for t in sentence.split(\" \")]) # 약어 정규화\n",
    "    sentence = re.sub(r\"'s\\b\",\"\", sentence) # 소유격 제거. Ex) roland's -> roland\n",
    "    sentence = re.sub(\"[^a-zA-Z]\", \" \", sentence) # 영어 외 문자(숫자, 특수문자 등) 공백으로 변환\n",
    "    sentence = re.sub('[m]{2,}', 'mm', sentence) # m이 3개 이상이면 2개로 변경. Ex) ummmmmmm yeah -> umm yeah\n",
    "    \n",
    "    # 불용어 제거 (Text)\n",
    "    if remove_stopwords:\n",
    "        tokens = ' '.join(word for word in sentence.split() if not word in stopwords.words('english') if len(word) > 1)\n",
    "    # 불용어 미제거 (Summary)\n",
    "    else:\n",
    "        tokens = ' '.join(word for word in sentence.split() if len(word) > 1)\n",
    "    return tokens"
   ]
  },
  {
   "cell_type": "code",
   "execution_count": 12,
   "id": "annoying-island",
   "metadata": {},
   "outputs": [
    {
     "name": "stdout",
     "output_type": "stream",
     "text": [
      "everything bought great infact ordered twice third ordered wasfor mother father\n",
      "great way to start the day\n"
     ]
    }
   ],
   "source": [
    "temp_headlines = 'Everything I bought was great, infact I ordered twice and the third ordered was<br />for my mother and father.'\n",
    "temp_text = 'Great way to start (or finish) the day!!!'\n",
    "\n",
    "print(preprocess_sentence(temp_headlines))\n",
    "print(preprocess_sentence(temp_text, False))  # 불용어를 제거하지 않습니다."
   ]
  },
  {
   "cell_type": "code",
   "execution_count": 13,
   "id": "behavioral-transsexual",
   "metadata": {},
   "outputs": [
    {
     "name": "stdout",
     "output_type": "stream",
     "text": [
      "38.806143045425415  seconds\n",
      "['upgrad learner switches career ml al salary hike'\n",
      " 'delhi techie wins free food swiggy one year cred'\n",
      " 'new zealand end rohit sharma led india match winning streak' ...\n",
      " 'matrix film get reboot reports'\n",
      " 'snoop dogg aims gun clown dressed trump new video'\n",
      " 'madhesi morcha withdraws support nepalese government']\n",
      "6.941714763641357  seconds\n",
      "['saurav kant an alumnus of upgrad and iiit pg program in machine learning and artificial intelligence was sr systems engineer at infosys with almost years of work experience the program and upgrad degree career support helped him transition to data scientist at tech mahindra with salary hike upgrad online power learning has powered lakh careers'\n",
      " 'kunal shah credit card bill payment platform cred gave users chance to win free food from swiggy for one year pranav kaushik delhi techie bagged this reward after spending cred coins users get one cred coin per rupee of bill paid which can be used to avail rewards from brands like ixigo bookmyshow ubereats cult fit and more'\n",
      " 'new zealand defeated india by wickets in the fourth odi at hamilton on thursday to win their first match of the five match odi series india lost an international match under rohit sharma captaincy after consecutive victories dating back to march the match witnessed india getting all out for their seventh lowest total in odi cricket history'\n",
      " ...\n",
      " 'according to reports new version of the science fiction film the matrix is in development michael jordan will reportedly play the lead role in the film screenwriter zak penn is in talks to write the script of the film reports added actor keanu reeves starred in the original film which was followed by two sequels'\n",
      " 'new music video shows rapper snoop dogg aiming toy gun at clown character parodying us president donald trump the video also shows tv airing news conference with the headline ronald klump wants to deport all doggs airing live from the clown house the video is for remixed version of the song lavender'\n",
      " 'madhesi morcha an alliance of seven political parties has withdrawn support to pm pushpa kamal dahal led nepal government after it failed to meet seven day ultimatum to fulfil their demands including endorsement for the revised constitution amendment bill the morcha has seats in the parliament but despite the withdrawal of support there is no immediate threat to the government']\n"
     ]
    }
   ],
   "source": [
    "import multiprocessing as mp   # 멀티 프로세싱으로 전처리 속도를 획기적으로 줄여봅시다\n",
    "from multiprocessing import Pool\n",
    "import numpy as np\n",
    "import time\n",
    "from functools import partial  # map을 할 때 함수에 여러 인자를 넣어줄 수 있도록 합니다\n",
    "\n",
    "start = time.time()\n",
    "\n",
    "# num_cores 만큼 쪼개진 데이터를 전처리하여 반환합니다\n",
    "def appendTexts(sentences, remove_stopwords):\n",
    "  texts = []\n",
    "  for s in sentences:\n",
    "    texts += preprocess_sentence(s, remove_stopwords),\n",
    "  return texts\n",
    "\n",
    "def preprocess_data(data, remove_stopwords=True):\n",
    "  start_time = time.time()\n",
    "  num_cores = mp.cpu_count()  # 컴퓨터의 코어 수를 구합니다\n",
    "\n",
    "  text_data_split = np.array_split(data, num_cores)  # 코어 수만큼 데이터를 배분하여 병렬적으로 처리할 수 있게 합니다\n",
    "  pool = Pool(num_cores)\n",
    "\n",
    "  processed_data = np.concatenate(pool.map(partial(appendTexts, remove_stopwords=remove_stopwords), text_data_split))  # 각자 작업한 데이터를 하나로 합쳐줍니다\n",
    "  pool.close()\n",
    "  pool.join()\n",
    "  print(time.time() - start_time, \" seconds\")\n",
    "  return processed_data\n",
    "\n",
    "clean_text = preprocess_data(data['headlines'])  # 클라우드 기준으로 3~4분 정도 소요 됩니다\n",
    "print(clean_text)\n",
    "\n",
    "clean_summary = preprocess_data(data['text'], remove_stopwords=False) # 클라우드 기준 1분정도 소요됩니다.\n",
    "print(clean_summary)"
   ]
  },
  {
   "cell_type": "code",
   "execution_count": 14,
   "id": "confused-broadway",
   "metadata": {},
   "outputs": [],
   "source": [
    "data['headlines'] = clean_text\n",
    "data['text'] = clean_summary\n",
    "\n",
    "# 빈 값을 Null 값으로 변환\n",
    "data.replace('', np.nan, inplace=True)"
   ]
  },
  {
   "cell_type": "code",
   "execution_count": 15,
   "id": "growing-cabin",
   "metadata": {},
   "outputs": [
    {
     "data": {
      "text/plain": [
       "headlines    0\n",
       "text         0\n",
       "dtype: int64"
      ]
     },
     "execution_count": 15,
     "metadata": {},
     "output_type": "execute_result"
    }
   ],
   "source": [
    "data.isnull().sum()"
   ]
  },
  {
   "cell_type": "markdown",
   "id": "unknown-adjustment",
   "metadata": {},
   "source": [
    "**샘플의 최대 길이 정하기**"
   ]
  },
  {
   "cell_type": "code",
   "execution_count": 16,
   "id": "continuous-garbage",
   "metadata": {},
   "outputs": [
    {
     "name": "stdout",
     "output_type": "stream",
     "text": [
      "해드라인의 최소 길이 : 1\n",
      "해드라인의 최대 길이 : 13\n",
      "해드라인의 평균 길이 : 7.136787364393153\n",
      "텍스트의 최소 길이 : 1\n",
      "텍스트의 최대 길이 : 69\n",
      "텍스트의 평균 길이 : 56.18195233152185\n"
     ]
    },
    {
     "data": {
      "image/png": "[encoded data removed]",
      "text/plain": [
       "<Figure size 432x288 with 2 Axes>"
      ]
     },
     "metadata": {
      "needs_background": "light"
     },
     "output_type": "display_data"
    },
    {
     "data": {
      "image/png": "[encoded data removed]",
      "text/plain": [
       "<Figure size 432x288 with 1 Axes>"
      ]
     },
     "metadata": {
      "needs_background": "light"
     },
     "output_type": "display_data"
    },
    {
     "data": {
      "image/png": "[encoded data removed]",
      "text/plain": [
       "<Figure size 432x288 with 1 Axes>"
      ]
     },
     "metadata": {
      "needs_background": "light"
     },
     "output_type": "display_data"
    }
   ],
   "source": [
    "# 길이 분포 출력\n",
    "import matplotlib.pyplot as plt\n",
    "\n",
    "headlines_len = [len(s.split()) for s in data['headlines']]\n",
    "text_len = [len(s.split()) for s in data['text']]\n",
    "\n",
    "print('해드라인의 최소 길이 : {}'.format(np.min(headlines_len)))\n",
    "print('해드라인의 최대 길이 : {}'.format(np.max(headlines_len)))\n",
    "print('해드라인의 평균 길이 : {}'.format(np.mean(headlines_len)))\n",
    "print('텍스트의 최소 길이 : {}'.format(np.min(text_len)))\n",
    "print('텍스트의 최대 길이 : {}'.format(np.max(text_len)))\n",
    "print('텍스트의 평균 길이 : {}'.format(np.mean(text_len)))\n",
    "\n",
    "plt.subplot(1,2,1)\n",
    "plt.boxplot(text_len)\n",
    "plt.title('text')\n",
    "plt.subplot(1,2,2)\n",
    "plt.boxplot(headlines_len)\n",
    "plt.title('headlines')\n",
    "plt.tight_layout()\n",
    "plt.show()\n",
    "\n",
    "plt.title('text')\n",
    "plt.hist(text_len, bins = 40)\n",
    "plt.xlabel('length of samples')\n",
    "plt.ylabel('number of samples')\n",
    "plt.show()\n",
    "\n",
    "plt.title('headlines')\n",
    "plt.hist(headlines_len, bins = 40)\n",
    "plt.xlabel('length of samples')\n",
    "plt.ylabel('number of samples')\n",
    "plt.show()"
   ]
  },
  {
   "cell_type": "code",
   "execution_count": 17,
   "id": "productive-christopher",
   "metadata": {},
   "outputs": [],
   "source": [
    "text_max_len = 60\n",
    "headlines_max_len = 7"
   ]
  },
  {
   "cell_type": "code",
   "execution_count": 18,
   "id": "guilty-seller",
   "metadata": {},
   "outputs": [],
   "source": [
    "def below_threshold_len(max_len, nested_list):\n",
    "  cnt = 0\n",
    "  for s in nested_list:\n",
    "    if(len(s.split()) <= max_len):\n",
    "        cnt = cnt + 1\n",
    "  print('전체 샘플 중 길이가 %s 이하인 샘플의 비율: %s'%(max_len, (cnt / len(nested_list))))"
   ]
  },
  {
   "cell_type": "code",
   "execution_count": 19,
   "id": "filled-subscriber",
   "metadata": {},
   "outputs": [
    {
     "name": "stdout",
     "output_type": "stream",
     "text": [
      "전체 샘플 중 길이가 60 이하인 샘플의 비율: 0.9443528525778022\n",
      "전체 샘플 중 길이가 7 이하인 샘플의 비율: 0.6263662453440801\n"
     ]
    }
   ],
   "source": [
    "below_threshold_len(text_max_len, data['text'])\n",
    "below_threshold_len(headlines_max_len,  data['headlines'])"
   ]
  },
  {
   "cell_type": "code",
   "execution_count": 20,
   "id": "reflected-preparation",
   "metadata": {},
   "outputs": [
    {
     "name": "stdout",
     "output_type": "stream",
     "text": [
      "전체 샘플수 : 58425\n"
     ]
    }
   ],
   "source": [
    "data = data[data['headlines'].apply(lambda x: len(x.split()) <= headlines_max_len)]\n",
    "data = data[data['text'].apply(lambda x: len(x.split()) <= text_max_len)]\n",
    "print('전체 샘플수 :', (len(data)))"
   ]
  },
  {
   "cell_type": "markdown",
   "id": "northern-newspaper",
   "metadata": {},
   "source": [
    "**시작 토큰과 종료 토큰 추가하기<br>**\n",
    "시작 토큰은 sostoken, 종료 토큰은 eostoken이라 임의로 명명하고 앞, 뒤로 추가합니다. 디코더의 입력에 해당하면서 시작 토큰이 맨 앞에 있는 문장의 이름을 decoder_input, 디코더의 출력 또는 레이블에 해당되면서 종료 토큰이 맨 뒤에 붙는 문장의 이름을 decoder_target이라고 이름을 정했습니다. 두 개의 문장 모두 headlines 열로부터 만들 겁니다."
   ]
  },
  {
   "cell_type": "code",
   "execution_count": 21,
   "id": "premium-aside",
   "metadata": {},
   "outputs": [
    {
     "data": {
      "text/html": [
       "<div>\n",
       "<style scoped>\n",
       "    .dataframe tbody tr th:only-of-type {\n",
       "        vertical-align: middle;\n",
       "    }\n",
       "\n",
       "    .dataframe tbody tr th {\n",
       "        vertical-align: top;\n",
       "    }\n",
       "\n",
       "    .dataframe thead th {\n",
       "        text-align: right;\n",
       "    }\n",
       "</style>\n",
       "<table border=\"1\" class=\"dataframe\">\n",
       "  <thead>\n",
       "    <tr style=\"text-align: right;\">\n",
       "      <th></th>\n",
       "      <th>headlines</th>\n",
       "      <th>text</th>\n",
       "      <th>decoder_input</th>\n",
       "      <th>decoder_target</th>\n",
       "    </tr>\n",
       "  </thead>\n",
       "  <tbody>\n",
       "    <tr>\n",
       "      <th>4</th>\n",
       "      <td>known hirani yrs metoo claims true sonam</td>\n",
       "      <td>speaking about the sexual harassment allegatio...</td>\n",
       "      <td>sostoken known hirani yrs metoo claims true sonam</td>\n",
       "      <td>known hirani yrs metoo claims true sonam eostoken</td>\n",
       "    </tr>\n",
       "    <tr>\n",
       "      <th>6</th>\n",
       "      <td>india get lowest odi total new zealand</td>\n",
       "      <td>india recorded their lowest odi total in new z...</td>\n",
       "      <td>sostoken india get lowest odi total new zealand</td>\n",
       "      <td>india get lowest odi total new zealand eostoken</td>\n",
       "    </tr>\n",
       "    <tr>\n",
       "      <th>10</th>\n",
       "      <td>cousins fed human excreta friendship boys</td>\n",
       "      <td>two minor cousins in uttar pradesh gorakhpur w...</td>\n",
       "      <td>sostoken cousins fed human excreta friendship ...</td>\n",
       "      <td>cousins fed human excreta friendship boys eost...</td>\n",
       "    </tr>\n",
       "    <tr>\n",
       "      <th>12</th>\n",
       "      <td>ram krishna smoke ramdev sadhus kumbh</td>\n",
       "      <td>urging saints and seers at the kumbh mela to q...</td>\n",
       "      <td>sostoken ram krishna smoke ramdev sadhus kumbh</td>\n",
       "      <td>ram krishna smoke ramdev sadhus kumbh eostoken</td>\n",
       "    </tr>\n",
       "    <tr>\n",
       "      <th>14</th>\n",
       "      <td>cried bidaai felt peer pressure isha ambani</td>\n",
       "      <td>reliance industries chairman mukesh ambani dau...</td>\n",
       "      <td>sostoken cried bidaai felt peer pressure isha ...</td>\n",
       "      <td>cried bidaai felt peer pressure isha ambani eo...</td>\n",
       "    </tr>\n",
       "  </tbody>\n",
       "</table>\n",
       "</div>"
      ],
      "text/plain": [
       "                                      headlines  \\\n",
       "4      known hirani yrs metoo claims true sonam   \n",
       "6        india get lowest odi total new zealand   \n",
       "10    cousins fed human excreta friendship boys   \n",
       "12        ram krishna smoke ramdev sadhus kumbh   \n",
       "14  cried bidaai felt peer pressure isha ambani   \n",
       "\n",
       "                                                 text  \\\n",
       "4   speaking about the sexual harassment allegatio...   \n",
       "6   india recorded their lowest odi total in new z...   \n",
       "10  two minor cousins in uttar pradesh gorakhpur w...   \n",
       "12  urging saints and seers at the kumbh mela to q...   \n",
       "14  reliance industries chairman mukesh ambani dau...   \n",
       "\n",
       "                                        decoder_input  \\\n",
       "4   sostoken known hirani yrs metoo claims true sonam   \n",
       "6     sostoken india get lowest odi total new zealand   \n",
       "10  sostoken cousins fed human excreta friendship ...   \n",
       "12     sostoken ram krishna smoke ramdev sadhus kumbh   \n",
       "14  sostoken cried bidaai felt peer pressure isha ...   \n",
       "\n",
       "                                       decoder_target  \n",
       "4   known hirani yrs metoo claims true sonam eostoken  \n",
       "6     india get lowest odi total new zealand eostoken  \n",
       "10  cousins fed human excreta friendship boys eost...  \n",
       "12     ram krishna smoke ramdev sadhus kumbh eostoken  \n",
       "14  cried bidaai felt peer pressure isha ambani eo...  "
      ]
     },
     "execution_count": 21,
     "metadata": {},
     "output_type": "execute_result"
    }
   ],
   "source": [
    "# 해드라인 데이터에는 시작 토큰과 종료 토큰을 추가한다.\n",
    "data['decoder_input'] = data['headlines'].apply(lambda x : 'sostoken '+ x)\n",
    "data['decoder_target'] = data['headlines'].apply(lambda x : x + ' eostoken')\n",
    "data.head()"
   ]
  },
  {
   "cell_type": "markdown",
   "id": "english-trinidad",
   "metadata": {},
   "source": [
    "인코더의 입력, 디코더의 입력과 레이블을 각각 다시 Numpy 타입으로 저장해 줍니다."
   ]
  },
  {
   "cell_type": "code",
   "execution_count": 22,
   "id": "intended-alexander",
   "metadata": {},
   "outputs": [],
   "source": [
    "encoder_input = np.array(data['text']) # 인코더의 입력\n",
    "decoder_input = np.array(data['decoder_input']) # 디코더의 입력\n",
    "decoder_target = np.array(data['decoder_target']) # 디코더의 레이블"
   ]
  },
  {
   "cell_type": "markdown",
   "id": "greenhouse-board",
   "metadata": {},
   "source": [
    "훈련 데이터와 테스트 데이터를 분리합니다."
   ]
  },
  {
   "cell_type": "code",
   "execution_count": 23,
   "id": "macro-checklist",
   "metadata": {},
   "outputs": [
    {
     "name": "stdout",
     "output_type": "stream",
     "text": [
      "[18957 25683  3395 ... 45972  6862 41604]\n"
     ]
    }
   ],
   "source": [
    "indices = np.arange(encoder_input.shape[0])\n",
    "np.random.shuffle(indices)\n",
    "print(indices)"
   ]
  },
  {
   "cell_type": "markdown",
   "id": "supported-effectiveness",
   "metadata": {},
   "source": [
    "정수 시퀀스를 이용해 다시 데이터의 샘플 순서를 정의해 주면 잘 섞인 샘플이 됩니다."
   ]
  },
  {
   "cell_type": "code",
   "execution_count": 24,
   "id": "equal-forty",
   "metadata": {},
   "outputs": [],
   "source": [
    "encoder_input = encoder_input[indices]\n",
    "decoder_input = decoder_input[indices]\n",
    "decoder_target = decoder_target[indices]"
   ]
  },
  {
   "cell_type": "markdown",
   "id": "impossible-visibility",
   "metadata": {},
   "source": [
    "섞인 데이터를 8:2의 비율로 훈련 데이터와 테스트 데이터로 분리해 줍니다."
   ]
  },
  {
   "cell_type": "code",
   "execution_count": 25,
   "id": "critical-madrid",
   "metadata": {},
   "outputs": [
    {
     "name": "stdout",
     "output_type": "stream",
     "text": [
      "테스트 데이터의 수 : 11685\n"
     ]
    }
   ],
   "source": [
    "n_of_val = int(len(encoder_input)*0.2)\n",
    "print('테스트 데이터의 수 :', n_of_val)"
   ]
  },
  {
   "cell_type": "code",
   "execution_count": 26,
   "id": "incorrect-therapist",
   "metadata": {},
   "outputs": [
    {
     "name": "stdout",
     "output_type": "stream",
     "text": [
      "훈련 데이터의 개수 : 46740\n",
      "훈련 레이블의 개수 : 46740\n",
      "테스트 데이터의 개수 : 11685\n",
      "테스트 레이블의 개수 : 11685\n"
     ]
    }
   ],
   "source": [
    "encoder_input_train = encoder_input[:-n_of_val]\n",
    "decoder_input_train = decoder_input[:-n_of_val]\n",
    "decoder_target_train = decoder_target[:-n_of_val]\n",
    "\n",
    "encoder_input_test = encoder_input[-n_of_val:]\n",
    "decoder_input_test = decoder_input[-n_of_val:]\n",
    "decoder_target_test = decoder_target[-n_of_val:]\n",
    "\n",
    "print('훈련 데이터의 개수 :', len(encoder_input_train))\n",
    "print('훈련 레이블의 개수 :', len(decoder_input_train))\n",
    "print('테스트 데이터의 개수 :', len(encoder_input_test))\n",
    "print('테스트 레이블의 개수 :', len(decoder_input_test))"
   ]
  },
  {
   "cell_type": "markdown",
   "id": "variable-thought",
   "metadata": {},
   "source": [
    "훈련 데이터와 테스트 데이터가 각각 46,740개와 11,685개로 잘 분리된 것을 확인할 수 있습니다."
   ]
  },
  {
   "cell_type": "markdown",
   "id": "liable-underwear",
   "metadata": {},
   "source": [
    "**단어 집합(vocabulary) 만들기 및 정수 인코딩**"
   ]
  },
  {
   "cell_type": "markdown",
   "id": "clear-bristol",
   "metadata": {},
   "source": [
    "이제 기계가 텍스트를 숫자로 처리할 수 있도록 훈련 데이터와 테스트 데이터의 단어들을 모두 정수로 바꾸어 주어야 합니다. 이를 위해서는 각 단어에 고유한 정수를 맵핑하는 작업이 필요한데 이 과정을 단어 집합(vocabulary) 을 만든다고 표현합니다.<br>\n",
    "훈련 데이터에 대해서 단어 집합을 만들어보겠습니다. 우선, 원문에 해당되는 encoder_input_train에 대해서 단어 집합을 만들겠습니다.<br><br>\n",
    "\n",
    "Keras의 토크나이저를 사용하면, 입력된 훈련 데이터로부터 단어 집합을 만들 수 있습니다."
   ]
  },
  {
   "cell_type": "code",
   "execution_count": 27,
   "id": "personalized-packing",
   "metadata": {},
   "outputs": [],
   "source": [
    "src_tokenizer = Tokenizer() # 토크나이저 정의\n",
    "src_tokenizer.fit_on_texts(encoder_input_train) # 입력된 데이터로부터 단어 집합 생성"
   ]
  },
  {
   "cell_type": "code",
   "execution_count": 28,
   "id": "military-backing",
   "metadata": {},
   "outputs": [
    {
     "name": "stdout",
     "output_type": "stream",
     "text": [
      "단어 집합(vocabulary)의 크기 : 55967\n",
      "등장 빈도가 6번 이하인 희귀 단어의 수: 38637\n",
      "단어 집합에서 희귀 단어를 제외시킬 경우의 단어 집합의 크기 17330\n",
      "단어 집합에서 희귀 단어의 비율: 69.03532438758553\n",
      "전체 등장 빈도에서 희귀 단어 등장 빈도 비율: 3.0201936714225717\n"
     ]
    }
   ],
   "source": [
    "threshold = 7\n",
    "total_cnt = len(src_tokenizer.word_index) # 단어의 수\n",
    "rare_cnt = 0 # 등장 빈도수가 threshold보다 작은 단어의 개수를 카운트\n",
    "total_freq = 0 # 훈련 데이터의 전체 단어 빈도수 총 합\n",
    "rare_freq = 0 # 등장 빈도수가 threshold보다 작은 단어의 등장 빈도수의 총 합\n",
    "\n",
    "# 단어와 빈도수의 쌍(pair)을 key와 value로 받는다.\n",
    "for key, value in src_tokenizer.word_counts.items():\n",
    "    total_freq = total_freq + value\n",
    "\n",
    "    # 단어의 등장 빈도수가 threshold보다 작으면\n",
    "    if(value < threshold):\n",
    "        rare_cnt = rare_cnt + 1\n",
    "        rare_freq = rare_freq + value\n",
    "\n",
    "print('단어 집합(vocabulary)의 크기 :', total_cnt)\n",
    "print('등장 빈도가 %s번 이하인 희귀 단어의 수: %s'%(threshold - 1, rare_cnt))\n",
    "print('단어 집합에서 희귀 단어를 제외시킬 경우의 단어 집합의 크기 %s'%(total_cnt - rare_cnt))\n",
    "print(\"단어 집합에서 희귀 단어의 비율:\", (rare_cnt / total_cnt)*100)\n",
    "print(\"전체 등장 빈도에서 희귀 단어 등장 빈도 비율:\", (rare_freq / total_freq)*100)"
   ]
  },
  {
   "cell_type": "code",
   "execution_count": 29,
   "id": "protected-spouse",
   "metadata": {},
   "outputs": [],
   "source": [
    "src_vocab = 17000\n",
    "src_tokenizer = Tokenizer(num_words=src_vocab) # 단어 집합의 크기를 8,000으로 제한\n",
    "src_tokenizer.fit_on_texts(encoder_input_train) # 단어 집합 재생성."
   ]
  },
  {
   "cell_type": "code",
   "execution_count": 30,
   "id": "arranged-movie",
   "metadata": {},
   "outputs": [
    {
     "name": "stdout",
     "output_type": "stream",
     "text": [
      "[[1, 3768, 3076, 131, 312, 2, 441, 3, 2, 749, 48, 938, 131, 173, 3204, 3174, 9, 4913, 147, 245, 149, 4552, 18, 104, 4, 3348, 5, 45, 2, 1396, 1029, 2419, 5, 2350, 131, 30, 17, 9064, 43, 1100, 32, 41, 1, 2113, 534, 1, 131, 312, 93, 441, 14, 31], [4675, 23, 189, 1767, 682, 573, 12, 491, 232, 162, 23, 228, 2043, 187, 453, 22, 1, 7597, 2093, 1683, 92, 8347, 72, 2184, 5884, 12, 1523, 573, 4, 1, 13342, 3, 1, 35, 63, 260, 1226, 2, 1, 187, 453, 808], [9065, 60, 5, 1089, 126, 55, 6935, 957, 1878, 19, 1253, 22, 19, 4914, 692, 3, 1089, 263, 6, 124, 6784, 957, 69, 13343, 19, 2284, 393, 365, 15, 19, 292, 957, 21, 3589, 19, 1253, 957, 9, 74, 17, 340, 274, 15, 1786, 1403, 98, 11, 3001, 47, 3734]]\n"
     ]
    }
   ],
   "source": [
    "# 텍스트 시퀀스를 정수 시퀀스로 변환\n",
    "encoder_input_train = src_tokenizer.texts_to_sequences(encoder_input_train) \n",
    "encoder_input_test = src_tokenizer.texts_to_sequences(encoder_input_test)\n",
    "\n",
    "# 잘 진행되었는지 샘플 출력\n",
    "print(encoder_input_train[:3])"
   ]
  },
  {
   "cell_type": "code",
   "execution_count": 31,
   "id": "exposed-cameroon",
   "metadata": {},
   "outputs": [],
   "source": [
    "tar_tokenizer = Tokenizer()\n",
    "tar_tokenizer.fit_on_texts(decoder_input_train)"
   ]
  },
  {
   "cell_type": "code",
   "execution_count": 32,
   "id": "inside-springer",
   "metadata": {},
   "outputs": [
    {
     "name": "stdout",
     "output_type": "stream",
     "text": [
      "단어 집합(vocabulary)의 크기 : 24329\n",
      "등장 빈도가 4번 이하인 희귀 단어의 수: 15806\n",
      "단어 집합에서 희귀 단어를 제외시킬 경우의 단어 집합의 크기 8523\n",
      "단어 집합에서 희귀 단어의 비율: 64.96773398002385\n",
      "전체 등장 빈도에서 희귀 단어 등장 빈도 비율: 7.836405443535009\n"
     ]
    }
   ],
   "source": [
    "threshold = 5\n",
    "total_cnt = len(tar_tokenizer.word_index) # 단어의 수\n",
    "rare_cnt = 0 # 등장 빈도수가 threshold보다 작은 단어의 개수를 카운트\n",
    "total_freq = 0 # 훈련 데이터의 전체 단어 빈도수 총 합\n",
    "rare_freq = 0 # 등장 빈도수가 threshold보다 작은 단어의 등장 빈도수의 총 합\n",
    "\n",
    "# 단어와 빈도수의 쌍(pair)을 key와 value로 받는다.\n",
    "for key, value in tar_tokenizer.word_counts.items():\n",
    "    total_freq = total_freq + value\n",
    "\n",
    "    # 단어의 등장 빈도수가 threshold보다 작으면\n",
    "    if(value < threshold):\n",
    "        rare_cnt = rare_cnt + 1\n",
    "        rare_freq = rare_freq + value\n",
    "\n",
    "print('단어 집합(vocabulary)의 크기 :', total_cnt)\n",
    "print('등장 빈도가 %s번 이하인 희귀 단어의 수: %s'%(threshold - 1, rare_cnt))\n",
    "print('단어 집합에서 희귀 단어를 제외시킬 경우의 단어 집합의 크기 %s'%(total_cnt - rare_cnt))\n",
    "print(\"단어 집합에서 희귀 단어의 비율:\", (rare_cnt / total_cnt)*100)\n",
    "print(\"전체 등장 빈도에서 희귀 단어 등장 빈도 비율:\", (rare_freq / total_freq)*100)"
   ]
  },
  {
   "cell_type": "code",
   "execution_count": 33,
   "id": "alpine-tactics",
   "metadata": {},
   "outputs": [
    {
     "name": "stdout",
     "output_type": "stream",
     "text": [
      "input\n",
      "input  [[1, 17, 1851, 447, 264, 672, 1166], [1, 1099, 148, 802, 1403, 1483, 932], [1, 22, 983, 6831, 791, 503, 151], [1, 50, 566, 842, 152, 688], [1, 2287, 1661, 566, 5290, 1611]]\n",
      "target\n",
      "decoder  [[17, 1851, 447, 264, 672, 1166, 2], [1099, 148, 802, 1403, 1483, 932, 2], [22, 983, 6831, 791, 503, 151, 2], [50, 566, 842, 152, 688, 2], [2287, 1661, 566, 5290, 1611, 2]]\n"
     ]
    }
   ],
   "source": [
    "tar_vocab = 8000\n",
    "tar_tokenizer = Tokenizer(num_words=tar_vocab) \n",
    "tar_tokenizer.fit_on_texts(decoder_input_train)\n",
    "tar_tokenizer.fit_on_texts(decoder_target_train)\n",
    "\n",
    "# 텍스트 시퀀스를 정수 시퀀스로 변환\n",
    "decoder_input_train = tar_tokenizer.texts_to_sequences(decoder_input_train) \n",
    "decoder_target_train = tar_tokenizer.texts_to_sequences(decoder_target_train)\n",
    "decoder_input_test = tar_tokenizer.texts_to_sequences(decoder_input_test)\n",
    "decoder_target_test = tar_tokenizer.texts_to_sequences(decoder_target_test)\n",
    "\n",
    "# 잘 변환되었는지 확인\n",
    "print('input')\n",
    "print('input ',decoder_input_train[:5])\n",
    "print('target')\n",
    "print('decoder ',decoder_target_train[:5])"
   ]
  },
  {
   "cell_type": "code",
   "execution_count": 34,
   "id": "incoming-employee",
   "metadata": {},
   "outputs": [
    {
     "name": "stdout",
     "output_type": "stream",
     "text": [
      "삭제할 훈련 데이터의 개수 : 3\n",
      "삭제할 테스트 데이터의 개수 : 1\n",
      "훈련 데이터의 개수 : 46737\n",
      "훈련 레이블의 개수 : 46737\n",
      "테스트 데이터의 개수 : 11684\n",
      "테스트 레이블의 개수 : 11684\n"
     ]
    },
    {
     "name": "stderr",
     "output_type": "stream",
     "text": [
      "/opt/conda/lib/python3.7/site-packages/numpy/core/_asarray.py:83: VisibleDeprecationWarning: Creating an ndarray from ragged nested sequences (which is a list-or-tuple of lists-or-tuples-or ndarrays with different lengths or shapes) is deprecated. If you meant to do this, you must specify 'dtype=object' when creating the ndarray\n",
      "  return array(a, dtype, copy=False, order=order)\n"
     ]
    }
   ],
   "source": [
    "drop_train = [index for index, sentence in enumerate(decoder_input_train) if len(sentence) == 1]\n",
    "drop_test = [index for index, sentence in enumerate(decoder_input_test) if len(sentence) == 1]\n",
    "\n",
    "print('삭제할 훈련 데이터의 개수 :', len(drop_train))\n",
    "print('삭제할 테스트 데이터의 개수 :', len(drop_test))\n",
    "\n",
    "encoder_input_train = np.delete(encoder_input_train, drop_train, axis=0)\n",
    "decoder_input_train = np.delete(decoder_input_train, drop_train, axis=0)\n",
    "decoder_target_train = np.delete(decoder_target_train, drop_train, axis=0)\n",
    "\n",
    "encoder_input_test = np.delete(encoder_input_test, drop_test, axis=0)\n",
    "decoder_input_test = np.delete(decoder_input_test, drop_test, axis=0)\n",
    "decoder_target_test = np.delete(decoder_target_test, drop_test, axis=0)\n",
    "\n",
    "print('훈련 데이터의 개수 :', len(encoder_input_train))\n",
    "print('훈련 레이블의 개수 :', len(decoder_input_train))\n",
    "print('테스트 데이터의 개수 :', len(encoder_input_test))\n",
    "print('테스트 레이블의 개수 :', len(decoder_input_test))"
   ]
  },
  {
   "cell_type": "markdown",
   "id": "underlying-plaintiff",
   "metadata": {},
   "source": [
    "**패딩하기**"
   ]
  },
  {
   "cell_type": "code",
   "execution_count": 35,
   "id": "fancy-enforcement",
   "metadata": {},
   "outputs": [],
   "source": [
    "encoder_input_train = pad_sequences(encoder_input_train, maxlen=text_max_len, padding='post')\n",
    "encoder_input_test = pad_sequences(encoder_input_test, maxlen=text_max_len, padding='post')\n",
    "decoder_input_train = pad_sequences(decoder_input_train, maxlen=headlines_max_len, padding='post')\n",
    "decoder_target_train = pad_sequences(decoder_target_train, maxlen=headlines_max_len, padding='post')\n",
    "decoder_input_test = pad_sequences(decoder_input_test, maxlen=headlines_max_len, padding='post')\n",
    "decoder_target_test = pad_sequences(decoder_target_test, maxlen=headlines_max_len, padding='post')"
   ]
  },
  {
   "cell_type": "markdown",
   "id": "thousand-tucson",
   "metadata": {},
   "source": [
    "**Step 3. 어텐션 메커니즘 사용하기 (추상적 요약)**<br>\n",
    "일반적인 seq2seq보다는 어텐션 메커니즘을 사용한 seq2seq를 사용하는 것이 더 나은 성능을 얻을 수 있습니다.<br>\n",
    "실습 내용을 참고하여 어텐션 메커니즘을 사용한 seq2seq를 설계해 보세요."
   ]
  },
  {
   "cell_type": "code",
   "execution_count": 36,
   "id": "american-israeli",
   "metadata": {},
   "outputs": [
    {
     "name": "stdout",
     "output_type": "stream",
     "text": [
      "WARNING:tensorflow:Layer lstm will not use cuDNN kernel since it doesn't meet the cuDNN kernel criteria. It will use generic GPU kernel as fallback when running on GPU\n",
      "WARNING:tensorflow:Layer lstm_1 will not use cuDNN kernel since it doesn't meet the cuDNN kernel criteria. It will use generic GPU kernel as fallback when running on GPU\n",
      "WARNING:tensorflow:Layer lstm_2 will not use cuDNN kernel since it doesn't meet the cuDNN kernel criteria. It will use generic GPU kernel as fallback when running on GPU\n"
     ]
    }
   ],
   "source": [
    "from tensorflow.keras.layers import Input, LSTM, Embedding, Dense, Concatenate\n",
    "from tensorflow.keras.models import Model\n",
    "from tensorflow.keras.callbacks import EarlyStopping, ModelCheckpoint\n",
    "\n",
    "\n",
    "# 인코더 설계 시작\n",
    "embedding_dim = 128\n",
    "hidden_size = 256\n",
    "\n",
    "# 인코더\n",
    "encoder_inputs = Input(shape=(text_max_len,))\n",
    "\n",
    "# 인코더의 임베딩 층\n",
    "enc_emb = Embedding(src_vocab, embedding_dim)(encoder_inputs)\n",
    "\n",
    "# 인코더의 LSTM 1\n",
    "encoder_lstm1 = LSTM(hidden_size, return_sequences=True, return_state=True ,dropout = 0.4, recurrent_dropout = 0.4)\n",
    "encoder_output1, state_h1, state_c1 = encoder_lstm1(enc_emb)\n",
    "\n",
    "# 인코더의 LSTM 2\n",
    "encoder_lstm2 = LSTM(hidden_size, return_sequences=True, return_state=True, dropout=0.4, recurrent_dropout=0.4)\n",
    "encoder_output2, state_h2, state_c2 = encoder_lstm2(encoder_output1)\n",
    "\n",
    "# 인코더의 LSTM 3\n",
    "encoder_lstm3 = LSTM(hidden_size, return_state=True, return_sequences=True, dropout=0.4, recurrent_dropout=0.4)\n",
    "encoder_outputs, state_h, state_c= encoder_lstm3(encoder_output2)"
   ]
  },
  {
   "cell_type": "code",
   "execution_count": 37,
   "id": "requested-float",
   "metadata": {},
   "outputs": [
    {
     "name": "stdout",
     "output_type": "stream",
     "text": [
      "WARNING:tensorflow:Layer lstm_3 will not use cuDNN kernel since it doesn't meet the cuDNN kernel criteria. It will use generic GPU kernel as fallback when running on GPU\n"
     ]
    }
   ],
   "source": [
    "# 디코더 설계\n",
    "decoder_inputs = Input(shape=(None,))\n",
    "\n",
    "# 디코더의 임베딩 층\n",
    "dec_emb_layer = Embedding(tar_vocab, embedding_dim)\n",
    "dec_emb = dec_emb_layer(decoder_inputs)\n",
    "\n",
    "# 디코더의 LSTM\n",
    "decoder_lstm = LSTM(hidden_size, return_sequences=True, return_state=True, dropout=0.4, recurrent_dropout=0.2)\n",
    "decoder_outputs, _, _ = decoder_lstm(dec_emb, initial_state=[state_h, state_c])"
   ]
  },
  {
   "cell_type": "code",
   "execution_count": 38,
   "id": "communist-equilibrium",
   "metadata": {},
   "outputs": [
    {
     "name": "stdout",
     "output_type": "stream",
     "text": [
      "Model: \"model\"\n",
      "__________________________________________________________________________________________________\n",
      "Layer (type)                    Output Shape         Param #     Connected to                     \n",
      "==================================================================================================\n",
      "input_1 (InputLayer)            [(None, 60)]         0                                            \n",
      "__________________________________________________________________________________________________\n",
      "embedding (Embedding)           (None, 60, 128)      2176000     input_1[0][0]                    \n",
      "__________________________________________________________________________________________________\n",
      "lstm (LSTM)                     [(None, 60, 256), (N 394240      embedding[0][0]                  \n",
      "__________________________________________________________________________________________________\n",
      "input_2 (InputLayer)            [(None, None)]       0                                            \n",
      "__________________________________________________________________________________________________\n",
      "lstm_1 (LSTM)                   [(None, 60, 256), (N 525312      lstm[0][0]                       \n",
      "__________________________________________________________________________________________________\n",
      "embedding_1 (Embedding)         (None, None, 128)    1024000     input_2[0][0]                    \n",
      "__________________________________________________________________________________________________\n",
      "lstm_2 (LSTM)                   [(None, 60, 256), (N 525312      lstm_1[0][0]                     \n",
      "__________________________________________________________________________________________________\n",
      "lstm_3 (LSTM)                   [(None, None, 256),  394240      embedding_1[0][0]                \n",
      "                                                                 lstm_2[0][1]                     \n",
      "                                                                 lstm_2[0][2]                     \n",
      "__________________________________________________________________________________________________\n",
      "dense (Dense)                   (None, None, 8000)   2056000     lstm_3[0][0]                     \n",
      "==================================================================================================\n",
      "Total params: 7,095,104\n",
      "Trainable params: 7,095,104\n",
      "Non-trainable params: 0\n",
      "__________________________________________________________________________________________________\n"
     ]
    }
   ],
   "source": [
    "# 디코더의 출력층\n",
    "decoder_softmax_layer = Dense(tar_vocab, activation='softmax')\n",
    "decoder_softmax_outputs = decoder_softmax_layer(decoder_outputs) \n",
    "\n",
    "# 모델 정의\n",
    "model = Model([encoder_inputs, decoder_inputs], decoder_softmax_outputs)\n",
    "model.summary()"
   ]
  },
  {
   "cell_type": "markdown",
   "id": "unlimited-complaint",
   "metadata": {},
   "source": [
    "**어텐션 메커니즘**"
   ]
  },
  {
   "cell_type": "code",
   "execution_count": 39,
   "id": "republican-algeria",
   "metadata": {},
   "outputs": [],
   "source": [
    "urllib.request.urlretrieve(\"https://raw.githubusercontent.com/thushv89/attention_keras/master/src/layers/attention.py\", filename=\"attention.py\")\n",
    "from attention import AttentionLayer"
   ]
  },
  {
   "cell_type": "code",
   "execution_count": 40,
   "id": "olive-probability",
   "metadata": {},
   "outputs": [
    {
     "name": "stdout",
     "output_type": "stream",
     "text": [
      "Model: \"model_1\"\n",
      "__________________________________________________________________________________________________\n",
      "Layer (type)                    Output Shape         Param #     Connected to                     \n",
      "==================================================================================================\n",
      "input_1 (InputLayer)            [(None, 60)]         0                                            \n",
      "__________________________________________________________________________________________________\n",
      "embedding (Embedding)           (None, 60, 128)      2176000     input_1[0][0]                    \n",
      "__________________________________________________________________________________________________\n",
      "lstm (LSTM)                     [(None, 60, 256), (N 394240      embedding[0][0]                  \n",
      "__________________________________________________________________________________________________\n",
      "input_2 (InputLayer)            [(None, None)]       0                                            \n",
      "__________________________________________________________________________________________________\n",
      "lstm_1 (LSTM)                   [(None, 60, 256), (N 525312      lstm[0][0]                       \n",
      "__________________________________________________________________________________________________\n",
      "embedding_1 (Embedding)         (None, None, 128)    1024000     input_2[0][0]                    \n",
      "__________________________________________________________________________________________________\n",
      "lstm_2 (LSTM)                   [(None, 60, 256), (N 525312      lstm_1[0][0]                     \n",
      "__________________________________________________________________________________________________\n",
      "lstm_3 (LSTM)                   [(None, None, 256),  394240      embedding_1[0][0]                \n",
      "                                                                 lstm_2[0][1]                     \n",
      "                                                                 lstm_2[0][2]                     \n",
      "__________________________________________________________________________________________________\n",
      "attention_layer (AttentionLayer ((None, None, 256),  131328      lstm_2[0][0]                     \n",
      "                                                                 lstm_3[0][0]                     \n",
      "__________________________________________________________________________________________________\n",
      "concat_layer (Concatenate)      (None, None, 512)    0           lstm_3[0][0]                     \n",
      "                                                                 attention_layer[0][0]            \n",
      "__________________________________________________________________________________________________\n",
      "dense_1 (Dense)                 (None, None, 8000)   4104000     concat_layer[0][0]               \n",
      "==================================================================================================\n",
      "Total params: 9,274,432\n",
      "Trainable params: 9,274,432\n",
      "Non-trainable params: 0\n",
      "__________________________________________________________________________________________________\n"
     ]
    }
   ],
   "source": [
    "# 어텐션 층(어텐션 함수)\n",
    "attn_layer = AttentionLayer(name='attention_layer')\n",
    "# 인코더와 디코더의 모든 time step의 hidden state를 어텐션 층에 전달하고 결과를 리턴\n",
    "attn_out, attn_states = attn_layer([encoder_outputs, decoder_outputs])\n",
    "\n",
    "# 어텐션의 결과와 디코더의 hidden state들을 연결\n",
    "decoder_concat_input = Concatenate(axis=-1, name='concat_layer')([decoder_outputs, attn_out])\n",
    "\n",
    "# 디코더의 출력층\n",
    "decoder_softmax_layer = Dense(tar_vocab, activation='softmax')\n",
    "decoder_softmax_outputs = decoder_softmax_layer(decoder_concat_input)\n",
    "\n",
    "# 모델 정의\n",
    "model = Model([encoder_inputs, decoder_inputs], decoder_softmax_outputs)\n",
    "model.summary()"
   ]
  },
  {
   "cell_type": "markdown",
   "id": "advanced-terrace",
   "metadata": {},
   "source": [
    "**모델 훈련하기**"
   ]
  },
  {
   "cell_type": "code",
   "execution_count": 41,
   "id": "skilled-patrol",
   "metadata": {
    "scrolled": false
   },
   "outputs": [
    {
     "name": "stdout",
     "output_type": "stream",
     "text": [
      "Epoch 1/50\n",
      "183/183 [==============================] - 162s 824ms/step - loss: 7.0405 - val_loss: 6.3366\n",
      "Epoch 2/50\n",
      "183/183 [==============================] - 157s 860ms/step - loss: 6.3936 - val_loss: 6.1477\n",
      "Epoch 3/50\n",
      "183/183 [==============================] - 157s 860ms/step - loss: 6.1727 - val_loss: 5.9384\n",
      "Epoch 4/50\n",
      "183/183 [==============================] - 157s 856ms/step - loss: 5.9140 - val_loss: 5.7331\n",
      "Epoch 5/50\n",
      "183/183 [==============================] - 157s 857ms/step - loss: 5.6490 - val_loss: 5.5357\n",
      "Epoch 6/50\n",
      "183/183 [==============================] - 157s 856ms/step - loss: 5.3902 - val_loss: 5.4035\n",
      "Epoch 7/50\n",
      "183/183 [==============================] - 157s 856ms/step - loss: 5.1780 - val_loss: 5.2714\n",
      "Epoch 8/50\n",
      "183/183 [==============================] - 156s 855ms/step - loss: 4.9810 - val_loss: 5.1423\n",
      "Epoch 9/50\n",
      "183/183 [==============================] - 155s 846ms/step - loss: 4.7998 - val_loss: 5.0727\n",
      "Epoch 10/50\n",
      "183/183 [==============================] - 154s 844ms/step - loss: 4.6426 - val_loss: 5.0068\n",
      "Epoch 11/50\n",
      "183/183 [==============================] - 153s 837ms/step - loss: 4.4843 - val_loss: 4.9566\n",
      "Epoch 12/50\n",
      "183/183 [==============================] - 152s 829ms/step - loss: 4.3448 - val_loss: 4.9039\n",
      "Epoch 13/50\n",
      "183/183 [==============================] - 151s 827ms/step - loss: 4.2158 - val_loss: 4.8567\n",
      "Epoch 14/50\n",
      "183/183 [==============================] - 151s 827ms/step - loss: 4.0937 - val_loss: 4.8326\n",
      "Epoch 15/50\n",
      "183/183 [==============================] - 150s 823ms/step - loss: 3.9887 - val_loss: 4.8040\n",
      "Epoch 16/50\n",
      "183/183 [==============================] - 151s 827ms/step - loss: 3.8731 - val_loss: 4.7935\n",
      "Epoch 17/50\n",
      "183/183 [==============================] - 152s 830ms/step - loss: 3.7693 - val_loss: 4.7693\n",
      "Epoch 18/50\n",
      "183/183 [==============================] - 152s 830ms/step - loss: 3.6732 - val_loss: 4.7531\n",
      "Epoch 19/50\n",
      "183/183 [==============================] - 152s 829ms/step - loss: 3.5743 - val_loss: 4.7472\n",
      "Epoch 20/50\n",
      "183/183 [==============================] - 150s 821ms/step - loss: 3.4896 - val_loss: 4.7457\n",
      "Epoch 21/50\n",
      "183/183 [==============================] - 151s 826ms/step - loss: 3.4070 - val_loss: 4.7517\n",
      "Epoch 22/50\n",
      "183/183 [==============================] - 151s 826ms/step - loss: 3.3347 - val_loss: 4.7361\n",
      "Epoch 23/50\n",
      "183/183 [==============================] - 151s 828ms/step - loss: 3.2597 - val_loss: 4.7492\n",
      "Epoch 24/50\n",
      "183/183 [==============================] - 151s 826ms/step - loss: 3.1862 - val_loss: 4.7409\n",
      "Epoch 00024: early stopping\n"
     ]
    }
   ],
   "source": [
    "model.compile(optimizer='rmsprop', loss='sparse_categorical_crossentropy')\n",
    "es = EarlyStopping(monitor='val_loss', patience=2, verbose=1)\n",
    "history = model.fit(x=[encoder_input_train, decoder_input_train], y=decoder_target_train, \\\n",
    "          validation_data=([encoder_input_test, decoder_input_test], decoder_target_test), \\\n",
    "          batch_size=256, callbacks=[es], epochs=50)"
   ]
  },
  {
   "cell_type": "markdown",
   "id": "irish-observer",
   "metadata": {},
   "source": [
    "'조기 종료'를 뜻하는 EarlyStopping은 특정 조건이 충족되면 훈련을 멈추는 역할을 합니다.<br>\n",
    "\n",
    "es = EarlyStopping(monitor='val_loss', patience=2, verbose=1)<br>\n",
    "위 코드에서는 val_loss(검증 데이터의 손실)을 관찰하다가, 검증 데이터의 손실이 줄어들지 않고 증가하는 현상이 2회(patience=2) 관측되면 학습을 멈추도록 설정돼 있습니다. EarlyStopping이 작동한다면 epochs가 아무리 크게 설정되어 있어도 모델 훈련을 최적점에서 멈출 수 있겠네요!"
   ]
  },
  {
   "cell_type": "code",
   "execution_count": 42,
   "id": "acknowledged-shell",
   "metadata": {},
   "outputs": [
    {
     "data": {
      "text/plain": [
       "(46737, 60)"
      ]
     },
     "execution_count": 42,
     "metadata": {},
     "output_type": "execute_result"
    }
   ],
   "source": [
    "encoder_input_train.shape"
   ]
  },
  {
   "cell_type": "markdown",
   "id": "international-bracelet",
   "metadata": {},
   "source": [
    "훈련 데이터의 손실과 검증 데이터의 손실이 줄어드는 과정을 시각화 했습니다."
   ]
  },
  {
   "cell_type": "code",
   "execution_count": 43,
   "id": "comparable-catholic",
   "metadata": {},
   "outputs": [
    {
     "data": {
      "image/png": "[encoded data removed]",
      "text/plain": [
       "<Figure size 432x288 with 1 Axes>"
      ]
     },
     "metadata": {
      "needs_background": "light"
     },
     "output_type": "display_data"
    }
   ],
   "source": [
    "plt.plot(history.history['loss'], label='train')\n",
    "plt.plot(history.history['val_loss'], label='test')\n",
    "plt.legend()\n",
    "plt.show()"
   ]
  },
  {
   "cell_type": "markdown",
   "id": "consolidated-stupid",
   "metadata": {},
   "source": [
    "**인퍼런스 모델 구현하기**"
   ]
  },
  {
   "cell_type": "code",
   "execution_count": 44,
   "id": "controlling-boring",
   "metadata": {},
   "outputs": [],
   "source": [
    "src_index_to_word = src_tokenizer.index_word # 원문 단어 집합에서 정수 -> 단어를 얻음\n",
    "tar_word_to_index = tar_tokenizer.word_index # 요약 단어 집합에서 단어 -> 정수를 얻음\n",
    "tar_index_to_word = tar_tokenizer.index_word # 요약 단어 집합에서 정수 -> 단어를 얻음"
   ]
  },
  {
   "cell_type": "code",
   "execution_count": 45,
   "id": "light-error",
   "metadata": {},
   "outputs": [],
   "source": [
    "# 인코더 설계\n",
    "encoder_model = Model(inputs=encoder_inputs, outputs=[encoder_outputs, state_h, state_c])\n",
    "\n",
    "# 이전 시점의 상태들을 저장하는 텐서\n",
    "decoder_state_input_h = Input(shape=(hidden_size,))\n",
    "decoder_state_input_c = Input(shape=(hidden_size,))\n",
    "\n",
    "dec_emb2 = dec_emb_layer(decoder_inputs)\n",
    "\n",
    "# 문장의 다음 단어를 예측하기 위해서 초기 상태(initial_state)를 이전 시점의 상태로 사용. 이는 뒤의 함수 decode_sequence()에 구현\n",
    "# 훈련 과정에서와 달리 LSTM의 리턴하는 은닉 상태와 셀 상태인 state_h와 state_c를 버리지 않음.\n",
    "decoder_outputs2, state_h2, state_c2 = decoder_lstm(dec_emb2, initial_state=[decoder_state_input_h, decoder_state_input_c])"
   ]
  },
  {
   "cell_type": "code",
   "execution_count": 46,
   "id": "considerable-southeast",
   "metadata": {},
   "outputs": [],
   "source": [
    "# 어텐션 함수\n",
    "decoder_hidden_state_input = Input(shape=(text_max_len, hidden_size))\n",
    "attn_out_inf, attn_states_inf = attn_layer([decoder_hidden_state_input, decoder_outputs2])\n",
    "decoder_inf_concat = Concatenate(axis=-1, name='concat')([decoder_outputs2, attn_out_inf])\n",
    "\n",
    "# 디코더의 출력층\n",
    "decoder_outputs2 = decoder_softmax_layer(decoder_inf_concat) \n",
    "\n",
    "# 최종 디코더 모델\n",
    "decoder_model = Model(\n",
    "    [decoder_inputs] + [decoder_hidden_state_input,decoder_state_input_h, decoder_state_input_c],\n",
    "    [decoder_outputs2] + [state_h2, state_c2])"
   ]
  },
  {
   "cell_type": "code",
   "execution_count": 65,
   "id": "thrown-toner",
   "metadata": {},
   "outputs": [],
   "source": [
    "def decode_sequence(input_seq):\n",
    "    # 입력으로부터 인코더의 상태를 얻음\n",
    "    e_out, e_h, e_c = encoder_model.predict(input_seq)\n",
    "\n",
    "     # <SOS>에 해당하는 토큰 생성\n",
    "    target_seq = np.zeros((1,1))\n",
    "    target_seq[0, 0] = tar_word_to_index['sostoken']\n",
    "\n",
    "    stop_condition = False\n",
    "    decoded_sentence = ''\n",
    "    while not stop_condition: # stop_condition이 True가 될 때까지 루프 반복\n",
    "\n",
    "        output_tokens, h, c = decoder_model.predict([target_seq] + [e_out, e_h, e_c])\n",
    "        sampled_token_index = np.argmax(output_tokens[0, -1, :])\n",
    "        sampled_token = tar_index_to_word[sampled_token_index]\n",
    "\n",
    "        if (sampled_token!='eostoken'):\n",
    "            decoded_sentence += ' '+sampled_token\n",
    "\n",
    "        #  <eos>에 도달하거나 최대 길이를 넘으면 중단.\n",
    "        if (sampled_token == 'eostoken'  or len(decoded_sentence.split()) >= (headlines_max_len-1)):\n",
    "            stop_condition = True\n",
    "\n",
    "        # 길이가 1인 타겟 시퀀스를 업데이트\n",
    "        target_seq = np.zeros((1,1))\n",
    "        target_seq[0, 0] = sampled_token_index\n",
    "\n",
    "        # 상태를 업데이트 합니다.\n",
    "        e_h, e_c = h, c\n",
    "\n",
    "    return decoded_sentence"
   ]
  },
  {
   "cell_type": "markdown",
   "id": "nervous-annex",
   "metadata": {},
   "source": [
    "**모델 테스트하기**"
   ]
  },
  {
   "cell_type": "code",
   "execution_count": 66,
   "id": "nutritional-mainland",
   "metadata": {},
   "outputs": [],
   "source": [
    "# 원문의 정수 시퀀스를 텍스트 시퀀스로 변환\n",
    "def seq2text(input_seq):\n",
    "    temp=''\n",
    "    for i in input_seq:\n",
    "        if (i!=0):\n",
    "            temp = temp + src_index_to_word[i]+' '\n",
    "    return temp\n",
    "\n",
    "# 요약문의 정수 시퀀스를 텍스트 시퀀스로 변환\n",
    "def seq2summary(input_seq):\n",
    "    temp=''\n",
    "    for i in input_seq:\n",
    "        if ((i!=0 and i!=tar_word_to_index['sostoken']) and i!=tar_word_to_index['eostoken']):\n",
    "            temp = temp + tar_index_to_word[i] + ' '\n",
    "    return temp"
   ]
  },
  {
   "cell_type": "code",
   "execution_count": 67,
   "id": "built-novelty",
   "metadata": {
    "scrolled": true
   },
   "outputs": [
    {
     "name": "stdout",
     "output_type": "stream",
     "text": [
      "원문 : tesla co founder elon musk has claimed that the company newly unveiled second generation electric roadster car will be the world fastest production car which can accelerate from kmph in seconds the roadster can reach top speed of over kmph tesla claimed the car can run kilometres on single charge and has starting price of \n",
      "실제 요약 : tesla unveils world fastest production car \n",
      "예측 요약 :  tesla car car car hits car\n",
      "\n",
      "\n",
      "원문 : an australian man who was caught having sex with horse has claimed that the animal gave consent by his and winking at him horse trainer at the stable where the man was caught said the animal had been left the man has been sentenced to months in jail and has been fined \n",
      "실제 요약 : man sex horse claims give consent \n",
      "예측 요약 :  man sues sex sex sex\n",
      "\n",
      "\n",
      "원문 : after rajya sabha deputy chairman harivansh narayan singh asked dmk mp to conclude her speech in hindi she sir can you speak in language that can understand singh then repeated himself in english singh had told jo tha aap bol hain \n",
      "실제 요약 : speak language understand rs dy chairman \n",
      "예측 요약 :  political hindi badal shatrughan\n",
      "\n",
      "\n",
      "원문 : under us president donald trump the level of trust between russia and us has deteriorated russian president vladimir putin has said this comes after the us launched missile strike on russian ally syria in response to chemical attack russia had said that the strike amounted to aggression against sovereign nation and was in violation of international law \n",
      "실제 요약 : trust us russia trump putin \n",
      "예측 요약 :  russia trump calls syria syria report\n",
      "\n",
      "\n",
      "원문 : the us on friday officially filed complaint at the world trade organization against china accusing it of discriminating american companies over technology licensing practices this comes amid ongoing trade tensions between the us and china which started after us president donald trump imposed tariffs on imports worth up to billion from china \n",
      "실제 요약 : us files complaint china world trade \n",
      "예측 요약 :  china accuses us trade trade us\n",
      "\n",
      "\n",
      "원문 : former footballer david beckham has been criticised for calling hong kong china beckham spent two days in shanghai and hong kong following which he posted facebook video captioned great hours in china although the caption was later changed user posted we have our own government currency even football team \n",
      "실제 요약 : david beckham slammed hong kong china \n",
      "예측 요약 :  footballer fined crore dinner\n",
      "\n",
      "\n",
      "원문 : after some cities were renamed or demanded to be renamed patidar leader hardik patel said if changing cities names could make this country ki then think all crore indians should be renamed as ram the country is currently facing unemployment and farmers issues but the government is busy with renaming cities and statues he added \n",
      "실제 요약 : renaming cities helps indians named ram hardik \n",
      "예측 요약 :  india needs play bcci\n",
      "\n",
      "\n",
      "원문 : the income tax department on monday conducted raids at premises of group one of the main road contractors in tamil nadu the raids were carried out reportedly across locations after tip off on alleged tax evasion and about crore was seized properties belonging to group md have also come under search by tax officials \n",
      "실제 요약 : raids tamil nadu based road premises \n",
      "예측 요약 :  dept conducts raids tn tax\n",
      "\n",
      "\n",
      "원문 : patanjali ayurved md acharya balkrishna has said that farmers can make times of what they earn now if food wastage is reduced through food processing the government should encourage food processing so companies can buy directly from the farmers he added just about of food is processed in india compared to in china balkrishna further said \n",
      "실제 요약 : farmers earn times get patanjali md \n",
      "예측 요약 :  patanjali plans call flood cut\n",
      "\n",
      "\n",
      "원문 : the union government on wednesday launched the study in india programme to attract foreign students to india the programme projects premier universities and institutes including iits and iims as the ideal destination for higher education the government plans to attract lakh international students and has sanctioned budget of crore for two years for the programme \n",
      "실제 요약 : govt launches study india attract foreign students \n",
      "예측 요약 :  govt launches cities cities\n",
      "\n",
      "\n",
      "원문 : startup creative mode has made wearable that gives shocks to the users to keep them awake when they are driving packed with sensors the wearable constantly measures the wearer heart rate and skin it compares the tracked data with the normal and sends strong vibration to alert the users if the data does not match \n",
      "실제 요약 : wearable users keep driving \n",
      "예측 요약 :  startup makes robot user phone screen\n",
      "\n",
      "\n",
      "원문 : actor tom holland who will be seen portraying the superhero character spider man in the upcoming film spider man has revealed that he wore nothing but under the costume had serious would my ever be the same again he added however tom said he had to get used to it despite his doubts \n",
      "실제 요약 : wore nothing spider man costume tom \n",
      "예측 요약 :  parineeti slammed dancing character character\n",
      "\n",
      "\n",
      "원문 : at least four people were killed and one injured after fire broke out in factory in bagh in delhi the fire reportedly broke out when laundry spilled out and came in contact with steam iron the victims got trapped in the building after man got stuck at its exit door an official said \n",
      "실제 요약 : dead injured fire breaks factory delhi \n",
      "예측 요약 :  killed injured car overturns factory\n",
      "\n",
      "\n",
      "원문 : daisy shah has said that her dialogue our business is our business none of your business from race has into her house as her sister uses the dialogue while having normal conversation it is really fun when people give their own version to my dialogue she added daisy dialogue had gone viral after the release of the trailer \n",
      "실제 요약 : business business dialogue home daisy \n",
      "예측 요약 :  india deal deal\n",
      "\n",
      "\n",
      "원문 : liverpool and chelsea continued their winning runs in the english premier league with their respective wins on saturday liverpool registered win over leicester city while chelsea beat defending champions manchester city registered win over newcastle united with sterling scoring the club first goal while walker scored his first goal for the club \n",
      "실제 요약 : liverpool chelsea continue winning runs \n",
      "예측 요약 :  liverpool beat liverpool th cup final\n",
      "\n",
      "\n",
      "원문 : taapsee pannu has said she to express her opinion on social issues through the medium of cinema since am an actress and not social activist cinema is the best medium for me to state my views she added cannot talk about issues randomly so would rather use acting as tool to reach out to people she further said \n",
      "실제 요약 : use cinema medium express opinion taapsee pannu \n",
      "예측 요약 :  want films like taapsee\n",
      "\n",
      "\n",
      "원문 : dating app tinder has rolled out more option for android and ios users in india it will allow users to type any word that describes their gender identity by tapping the more button on their profile users can also choose to show or hide their gender on their profile tinder said in blog post \n",
      "실제 요약 : tinder adds option users india \n",
      "예측 요약 :  app lets users feature app\n",
      "\n",
      "\n",
      "원문 : bangladesh prime minister sheikh hasina has announced that she will be scrapping reservation in government jobs this comes after tens of thousands of students and job seekers came out in protest against the reservation for special groups however she said the government will make special arrangements for jobs for minorities and people with disabilities \n",
      "실제 요약 : bangladesh ends reservation govt jobs protests \n",
      "예측 요약 :  govt approves reservation quota\n",
      "\n",
      "\n",
      "원문 : the rupee rallied the most in months on wednesday after an official said the government and rbi will do everything to ensure that rupee does not slide to unreasonable levels after hitting new low of per dollar in early trading the rupee strengthened as much as to the local currency closed up at \n",
      "실제 요약 : rupee months jumps record low \n",
      "예측 요약 :  rupee inflation india month high\n",
      "\n",
      "\n",
      "원문 : reacting to media reports the all india muslim personal law board said it never demanded parallel court system the body added that darul run by it are arbitration centers whose opinions are not legally binding we do not call them courts as is being made out by section of the media secretary said \n",
      "실제 요약 : never demanded court system muslim body \n",
      "예측 요약 :  cannot privacy privacy law\n",
      "\n",
      "\n",
      "원문 : national conference mla omar abdullah has sanctioned lakh for the family of the woman who was detained at hotel with army major nitin gogoi earlier major gogoi had used kashmiri man as human shield from stone pelters officials said the family which currently lives in tin shed will use the money to construct house \n",
      "실제 요약 : omar sanctions woman detained major hotel \n"
     ]
    },
    {
     "name": "stdout",
     "output_type": "stream",
     "text": [
      "예측 요약 :  bjp leader booked molesting woman\n",
      "\n",
      "\n",
      "원문 : radhika apte said there were of her dating tusshar kapoor when she did not even have his phone number used to find all this so funny because was not used to it added apte she said this when bffs with vogue host neha dhupia asked her about how tusshar sister ekta kapoor once said who is radhika apte \n",
      "실제 요약 : rumour dated even number apte \n",
      "예측 요약 :  sonam reacts sonam kapoor\n",
      "\n",
      "\n",
      "원문 : victoria secret model has slammed magazine for not using her pictures while claiming that they from her portfolio and that she did not fit into the samples am not built as runway model and have never been stick thin now more than ever embrace my added \n",
      "실제 요약 : model slams magazine removing pics thin \n",
      "예측 요약 :  mcdonald ad british ad\n",
      "\n",
      "\n",
      "원문 : army chief general bipin rawat has said that officers found guilty in moral cases will not be spared and may even face loss of pension and rank the excuse that there was consent will not apply if brother officer wife is involved rawat added this comes after flag officer was punished for having relations with another officer wife \n",
      "실제 요약 : guilty corruption spared army chief \n",
      "예측 요약 :  hizbul officers booked killings kashmir police\n",
      "\n",
      "\n",
      "원문 : nikhil the ceo of life productions which is co producing bharat while speaking about priyanka chopra quitting the project said it was little of her to do it so suddenly priyanka told us she had to exit due to her engagement he was quoted as saying priyanka is reportedly set to marry her rumoured boyfriend nick jonas \n",
      "실제 요약 : priyanka quit film bharat producer \n",
      "예측 요약 :  priyanka shares picture deepika\n",
      "\n",
      "\n",
      "원문 : ten more indian airports will discontinue the practice of stamping the hand baggage of domestic passengers as part of new trial cisf director general op singh has said the trial will be implemented in amritsar and pune among other cities the cisf which handles security at airports has stopped the practice in airports so far \n",
      "실제 요약 : hand baggage stamping airports \n",
      "예측 요약 :  pilots get flights london\n",
      "\n",
      "\n",
      "원문 : the winner of billionaire elon musk spacex hyperloop pod design competition on monday achieved top speed of kmph for their pod the team from the technical university of munich beat the two other finalists switzerland and from northeastern university and memorial university the winning pod weighed kg and was powered by motor \n",
      "실제 요약 : winner musk hyperloop challenge tops speed kmph \n",
      "예측 요약 :  elon musk shares tesla km kmph\n",
      "\n",
      "\n",
      "원문 : samajwadi party leader azam khan has said all of slavery including the parliament qutub rashtrapati bhavan and taj mahal should be demolished if these are symbols of people who are regarded as traitors by rss then they should be demolished khan added this comes after bjp leader sangeet called the taj mahal on indian culture \n",
      "실제 요약 : parliament sign slavery azam khan \n",
      "예측 요약 :  taj mahal nda polls says yadav\n",
      "\n",
      "\n",
      "원문 : indian railways has upgraded mail and express trains to and raised their designated average speed by to kmph passengers will have to pay an extra for sleeper class for second and third ac and for first ac for these trains the railways is expected to gain an additional crore from these levies \n",
      "실제 요약 : railways trains increases fares \n",
      "예측 요약 :  railways gets crore trains\n",
      "\n",
      "\n",
      "원문 : google cloud ceo while announcing partnership with coding platform on tuesday remarked am sort of sad they are at microsoft the world largest collaborative coding platform was acquired in june by google rival microsoft for billion in an all stock deal earlier had said that google have minded buying \n",
      "실제 요약 : sad microsoft google cloud ceo \n",
      "예측 요약 :  google ceo step google google\n",
      "\n",
      "\n",
      "원문 : nasa cassini spacecraft plunged into saturn atmosphere on friday at speed of over kmph ending billion mission launched in the spacecraft travelled over billion with respect to the sun discovering six moons cassini achievements include finding ice and landing probe on saturn largest moon titan besides discovering water jets over another moon \n",
      "실제 요약 : bn spacecraft crashes saturn ends year mission \n",
      "예측 요약 :  nasa spacecraft hit billion earth\n",
      "\n",
      "\n",
      "원문 : berkshire hathaway chairman warren buffett proposed investing reported sum of billion in uber earlier this year but the talks failed following disagreements berkshire wanted to provide convertible loan to uber to protect its investment in the company uber ceo dara khosrowshahi reportedly proposed the amount to billion giving buffett smaller share of the company \n",
      "실제 요약 : buffett wanted put billion uber talks failed \n",
      "예측 요약 :  buffett invests billion deal\n",
      "\n",
      "\n",
      "원문 : union minister nitin gadkari on tuesday withdrew his defamation case against congress leader digvijaya singh after singh apologised and expressed regret over his statement gadkari had filed the defamation case after singh alleged that he had business links with party mp and he used the links to earn money from the coal block allocation to the mp \n",
      "실제 요약 : gadkari withdraws defamation case digvijaya singh \n",
      "예측 요약 :  minister apologises remarks congress leader remarks\n",
      "\n",
      "\n",
      "원문 : astronauts from the international space station gifted pope francis spacesuit customised with cape the suit presented to the pope by italian astronaut paolo nespoli bore the pope and his native country argentina flag the white cape displayed the vatican flag the official nasa wings logo and the name pope francis embroidered on it \n",
      "실제 요약 : astronauts gift pope customised \n",
      "예측 요약 :  earth moon landing\n",
      "\n",
      "\n",
      "원문 : president donald trump has said us would punish itself by halting military sales to saudi arabia even if it is proven that saudi journalist jamal khashoggi was killed inside the kingdom consulate in istanbul think of that billion trump added earlier trump said us will severe punishment on saudi if it is found to be responsible for khashoggi death \n",
      "실제 요약 : us punish halts saudi arms sales trump \n",
      "예측 요약 :  trump sanctions iran meddling meddling\n",
      "\n",
      "\n",
      "원문 : the group of nations has rejected uk and us calls for sanctions against russia over its support of syrian president bashar al assad the group said russia must not be pushed into corner over syria however the group said that there must be an investigation into last week chemical attack in syria which was blamed on the assad regime \n",
      "실제 요약 : rejects calls sanctions russia \n",
      "예측 요약 :  us jerusalem calls syria syria\n",
      "\n",
      "\n",
      "원문 : the bangalore metro rail employees union has said that namma metro management lack of support towards arrested staffers led to their sudden strike this comes after two metro employees were arrested following scuffle with karnataka state industrial security force personnel the strike had forced bengaluru metro to suspend services on friday \n",
      "실제 요약 : luru metro staff strike slam management \n",
      "예측 요약 :  delhi metro metro bus bus\n",
      "\n",
      "\n",
      "원문 : video which has emerged online shows several nurses some of them using slippers to thrash doctor at hospital in bihar for allegedly molesting trainee nurse as per reports the nurses initially lodged complaint with the hospital civil surgeon regarding the case the accused has reportedly gone into hiding after he was thrashed \n",
      "실제 요약 : thrash doctor accused molestation bihar hospital \n",
      "예측 요약 :  doctors caught hospital hospital hospital\n",
      "\n",
      "\n",
      "원문 : wishing wife soha ali khan on their fourth wedding anniversary on friday kunal kemmu shared their wedding picture and wrote to friendship to love to together cherish every step that we take together happy anniversary soha also shared picture from their wedding and wrote four years and promise of forever it only gets stronger \n",
      "실제 요약 : friendship love kunal soha anniversary \n",
      "예측 요약 :  shares pic daughter wedding ceremony\n",
      "\n",
      "\n",
      "원문 : patidar leader hardik patel has been taken to hospital after his health condition deteriorated on the th day of his indefinite hunger strike on friday patel has been sitting on the strike demanding reservation for the patidar community and loan waiver for farmers patel recently declared his will in which he named as donation to \n",
      "실제 요약 : hardik patel taken hospital day hunger strike \n",
      "예측 요약 :  hardik patel hardik patel protest\n",
      "\n",
      "\n",
      "원문 : dave the co founder of silicon valley venture fund startups who was ousted from the fund for unacceptable sexual towards women apologised on saturday in post titled am sorry he said his behaviour was and wrong would like to apologise for being selfish and defensive added \n",
      "실제 요약 : startups founder apologises women \n"
     ]
    },
    {
     "name": "stdout",
     "output_type": "stream",
     "text": [
      "예측 요약 :  founder sued sexual harassment women\n",
      "\n",
      "\n",
      "원문 : us based scientists have developed new approach to past ocean temperatures instead of directly measuring water temperature they determined the ratio of noble gases in the atmosphere which are in direct relation to the ocean temperature they found present day global ocean temperature average to be while temperature during the most recent ice age was found to be \n",
      "실제 요약 : scientists develop method measure past ocean temperatures \n",
      "예측 요약 :  scientists discover new solar cells\n",
      "\n",
      "\n",
      "원문 : the government has extended the term of chief economic adviser arvind subramanian by one year till october finance minister arun jaitley said subramanian whose term was to end on october said he is delighted to take on the challenge of the economy notably subramanian was named as one of the world top global in \n",
      "실제 요약 : arvind subramanian term cea extended year \n",
      "예측 요약 :  gst fm jaitley\n",
      "\n",
      "\n",
      "원문 : asserting that it is not right to the issue uttar pradesh governor ram naik on friday said that dr br ambedkar name should be corrected across the country this comes after the opposition criticised the state government for its notice ordering the use of as the middle name for br ambedkar in all official records and correspondence \n",
      "실제 요약 : ambedkar name across india guv \n",
      "예측 요약 :  govt asks renaming allahabad prayagraj\n",
      "\n",
      "\n",
      "원문 : actress athiya shetty turned showstopper for designers at the ongoing india couture week she walked the ramp in black skirt and golden cape from the designers new collection the princess the collection featured european details victorian and decorations with rich indian heritage \n",
      "실제 요약 : shetty turns showstopper india week \n",
      "예측 요약 :  bhumi bhumi gets lakh\n",
      "\n",
      "\n",
      "원문 : year old woman has raised over for homeless man who bought her fuel with his last after her car ran out of it in philadelphia us although she did not have any money to repay him at the time she returned several times to give him cash and food and set up page \n",
      "실제 요약 : woman raises lakh homeless man helped \n",
      "예측 요약 :  woman car car car hits car\n",
      "\n",
      "\n",
      "원문 : the afghanistan cricket board has announced that the first ever afghanistan premier league will take place in the uae in october this year the tournament will be played between five teams with the auction to purchase teams to be held in march as many as non afghan cricketers have expressed interest in participating in the tournament \n",
      "실제 요약 : afghanistan launches league \n",
      "예측 요약 :  afghanistan rashid world cup champions trophy\n",
      "\n",
      "\n",
      "원문 : the chargesheet filed by the enforcement directorate on thursday said jeweller nirav modi diverted about million to his sister mehta and father deepak modi the funds were diverted through over companies based in the uae and hong kong nirav father and sister were named as accused in ed chargesheet in billion pnb fraud \n",
      "실제 요약 : nirav modi diverted crore sister father ed \n",
      "예측 요약 :  nirav modi nirav modi son case\n",
      "\n",
      "\n",
      "원문 : only four indians feature in world fame list ranking the world most famous athletes virat kohli ranked th is followed by ms dhoni at th place while yuvraj singh and suresh raina are ranked th and th respectively notably the entire list features only four cricketers with all four of them being indians \n",
      "실제 요약 : indians world famous athletes \n",
      "예측 요약 :  india top icc icc icc\n",
      "\n",
      "\n",
      "원문 : the government is reportedly planning to raise about crore by selling its stake in hydropower producer and stake in power finance corporation to other state owned companies it plans to sell its stake to ntpc india largest thermal power producer while rural electrification corporation may buy government ownership in power finance corporation as per reports \n",
      "실제 요약 : govt raise crore power firms reports \n",
      "예측 요약 :  govt seeks crore buy stake\n",
      "\n",
      "\n"
     ]
    }
   ],
   "source": [
    "for i in range(50, 100):\n",
    "    print(\"원문 :\", seq2text(encoder_input_test[i]))\n",
    "    print(\"실제 요약 :\", seq2summary(decoder_input_test[i]))\n",
    "    print(\"예측 요약 :\", decode_sequence(encoder_input_test[i].reshape(1, text_max_len)))\n",
    "    print(\"\\n\")"
   ]
  },
  {
   "cell_type": "markdown",
   "id": "naked-importance",
   "metadata": {},
   "source": [
    "**Step 4. 실제 결과와 요약문 비교하기 (추상적 요약)**<br>\n",
    "원래의 요약문(headlines 열)과 학습을 통해 얻은 추상적 요약의 결과를 비교해 보세요."
   ]
  },
  {
   "cell_type": "code",
   "execution_count": null,
   "id": "twelve-revision",
   "metadata": {},
   "outputs": [],
   "source": []
  },
  {
   "cell_type": "markdown",
   "id": "governing-virus",
   "metadata": {},
   "source": [
    "**Step 5. Summa을 이용해서 추출적 요약해보기**<br>\n",
    "추상적 요약은 추출적 요약과는 달리 문장의 표현력을 다양하게 가져갈 수 있지만, 추출적 요약에 비해서 난이도가 높아요. 반대로 말하면 추출적 요약은 추상적 요약에 비해 난이도가 낮고 기존 문장에서 문장을 꺼내오는 것이므로 잘못된 요약이 나올 가능성이 낮아요.<br>\n",
    "\n",
    "Summa의 summarize를 사용하여 추출적 요약을 해보세요."
   ]
  },
  {
   "cell_type": "code",
   "execution_count": 68,
   "id": "native-toilet",
   "metadata": {},
   "outputs": [],
   "source": [
    "import requests\n",
    "from summa.summarizer import summarize"
   ]
  },
  {
   "cell_type": "code",
   "execution_count": 69,
   "id": "public-friday",
   "metadata": {},
   "outputs": [],
   "source": [
    "text = requests.get('http://rare-technologies.com/the_matrix_synopsis.txt').text"
   ]
  },
  {
   "cell_type": "code",
   "execution_count": 70,
   "id": "signed-council",
   "metadata": {},
   "outputs": [
    {
     "name": "stdout",
     "output_type": "stream",
     "text": [
      "The screen is filled with green, cascading code which gives way to the title, The Matrix.\r\n",
      "\r\n",
      "A phone rings and text appears on the screen: \"Call trans opt: received. 2-19-98 13:24:18 REC: Log>\" As a conversation takes place between Trinity (Carrie-Anne Moss) and Cypher (Joe Pantoliano), two free humans, a table of random green numbers are being scanned and individual numbers selected, creating a series of digits not unlike an ordinary phone number, as if a code is being deciphered or a call is being traced.\r\n",
      "\r\n",
      "Trinity discusses some unknown person. Cypher taunts Trinity, suggesting she enjoys watching him. Trinity counters that \"Morpheus (Laurence Fishburne) says he may be 'the One',\" just as the sound of a number being selected alerts Trinity that someone may be tracing their call. She ends the call.\r\n",
      "\r\n",
      "Armed policemen move down a darkened, decrepit hallway in the Heart O' the City Hotel, their flashlight beam bouncing just ahead of them. They come to room 303, kick down the door and find a woman dressed in black, facing away from them. It's Trinity. She brings her hands up from the laptop she's working on at their command.\r\n",
      "\r\n",
      "Outside the hotel a car drives up and three agents appear in neatly pressed black suits. They are Agent Smith (Hugo Weaving), Agent Brown (Paul Goddard), and Agent Jones (Robert Taylor). Agent Smith and the presiding police lieutenant argue. Agent Smith admonishes the policeman that they were given specific orders to contact the agents first, for their\n"
     ]
    }
   ],
   "source": [
    "print(text[:1500])"
   ]
  },
  {
   "cell_type": "code",
   "execution_count": 71,
   "id": "hazardous-convertible",
   "metadata": {},
   "outputs": [
    {
     "name": "stdout",
     "output_type": "stream",
     "text": [
      "Summary:\n",
      "Morpheus, Trinity, Neo, Apoc, Switch, Mouse and Cypher are jacked into the Matrix.\n",
      "Trinity brings the helicopter down to the floor that Morpheus is on and Neo opens fire on the three Agents.\n"
     ]
    }
   ],
   "source": [
    "print('Summary:')\n",
    "print(summarize(text, ratio=0.005))"
   ]
  },
  {
   "cell_type": "code",
   "execution_count": 72,
   "id": "medical-guidance",
   "metadata": {},
   "outputs": [
    {
     "name": "stdout",
     "output_type": "stream",
     "text": [
      "Summary:\n",
      "['Morpheus, Trinity, Neo, Apoc, Switch, Mouse and Cypher are jacked into the Matrix.', 'Trinity brings the helicopter down to the floor that Morpheus is on and Neo opens fire on the three Agents.']\n"
     ]
    }
   ],
   "source": [
    "print('Summary:')\n",
    "print(summarize(text, ratio=0.005, split=True))"
   ]
  },
  {
   "cell_type": "code",
   "execution_count": 73,
   "id": "developmental-blowing",
   "metadata": {},
   "outputs": [
    {
     "name": "stdout",
     "output_type": "stream",
     "text": [
      "Summary:\n",
      "Trinity takes Neo to Morpheus.\n",
      "Morpheus, Trinity, Neo, Apoc, Switch, Mouse and Cypher are jacked into the Matrix.\n",
      "Trinity brings the helicopter down to the floor that Morpheus is on and Neo opens fire on the three Agents.\n"
     ]
    }
   ],
   "source": [
    "print('Summary:')\n",
    "print(summarize(text, words=50))"
   ]
  }
 ],
 "metadata": {
  "kernelspec": {
   "display_name": "Python 3",
   "language": "python",
   "name": "python3"
  },
  "language_info": {
   "codemirror_mode": {
    "name": "ipython",
    "version": 3
   },
   "file_extension": ".py",
   "mimetype": "text/x-python",
   "name": "python",
   "nbconvert_exporter": "python",
   "pygments_lexer": "ipython3",
   "version": "3.7.9"
  }
 },
 "nbformat": 4,
 "nbformat_minor": 5
}
