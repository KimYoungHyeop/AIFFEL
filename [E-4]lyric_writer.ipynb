{
 "cells": [
  {
   "cell_type": "code",
   "execution_count": 1,
   "id": "standard-algebra",
   "metadata": {},
   "outputs": [
    {
     "name": "stdout",
     "output_type": "stream",
     "text": [
      "데이터 크기: 187088\n",
      "Examples:\n",
      " ['I hear you callin\\', \"Here I come baby\"', 'To save you, oh oh', \"Baby no more stallin'\"]\n"
     ]
    }
   ],
   "source": [
    "import glob\n",
    "import os, re \n",
    "import numpy as np\n",
    "import tensorflow as tf\n",
    "\n",
    "txt_file_path = os.getenv('HOME')+'/aiffel/lyricist/data/lyrics/*'\n",
    "\n",
    "txt_list = glob.glob(txt_file_path)\n",
    "\n",
    "raw_corpus = []\n",
    "\n",
    "# 여러개의 txt 파일을 모두 읽어서 raw_corpus 에 담습니다.\n",
    "for txt_file in txt_list:\n",
    "    with open(txt_file, \"r\") as f:\n",
    "        raw = f.read().splitlines()\n",
    "        raw_corpus.extend(raw)\n",
    "\n",
    "print(\"데이터 크기:\", len(raw_corpus))\n",
    "print(\"Examples:\\n\", raw_corpus[:3])"
   ]
  },
  {
   "cell_type": "code",
   "execution_count": 2,
   "id": "dominant-guest",
   "metadata": {},
   "outputs": [
    {
     "name": "stdout",
     "output_type": "stream",
     "text": [
      "I hear you callin', \"Here I come baby\"\n",
      "To save you, oh oh\n",
      "Baby no more stallin'\n",
      "These hands have been longing to touch you baby\n",
      "And now that you've come around, to seein' it my way\n",
      "You won't regret it baby, and you surely won't forget it baby\n",
      "It's unbelieveable how your body's calling for me\n",
      "I can just hear it callin' callin' for me My body's callin' for you\n",
      "My body's callin' for you\n",
      "My body's callin' for you\n"
     ]
    }
   ],
   "source": [
    "for idx, sentence in enumerate(raw_corpus):\n",
    "    if len(sentence) == 0: continue   # 길이가 0인 문장은 건너뜁니다.\n",
    "    if sentence[-1] == \":\": continue  # 문장의 끝이 : 인 문장은 건너뜁니다.\n",
    "\n",
    "    if idx > 9: break   # 일단 문장 10개만 확인해 볼 겁니다.\n",
    "        \n",
    "    print(sentence)"
   ]
  },
  {
   "cell_type": "code",
   "execution_count": 3,
   "id": "focused-latest",
   "metadata": {},
   "outputs": [
    {
     "name": "stdout",
     "output_type": "stream",
     "text": [
      "<start> this is sample sentence <end>\n"
     ]
    },
    {
     "name": "stderr",
     "output_type": "stream",
     "text": [
      "/opt/conda/lib/python3.7/site-packages/ipykernel_launcher.py:10: FutureWarning: Possible nested set at position 2\n",
      "  # Remove the CWD from sys.path while we load stuff.\n"
     ]
    }
   ],
   "source": [
    "# 입력된 문장을\n",
    "#     1. 소문자로 바꾸고, 양쪽 공백을 지웁니다\n",
    "#     2. 특수문자 양쪽에 공백을 넣고\n",
    "#     3. 여러개의 공백은 하나의 공백으로 바꿉니다\n",
    "#     4. a-zA-Z?.!,¿가 아닌 모든 문자를 하나의 공백으로 바꿉니다\n",
    "#     5. 다시 양쪽 공백을 지웁니다\n",
    "#     6. 문장 시작에는 <start>, 끝에는 <end>를 추가합니다\n",
    "# 이 순서로 처리해주면 문제가 되는 상황을 방지할 수 있겠네요!\n",
    "def preprocess_sentence(sentence):\n",
    "    sentence = re.sub(r'₩[[^)]*₩]','',sentence)\n",
    "    sentence = sentence.lower().strip() # 1\n",
    "    sentence = re.sub(r\"([?.!,¿])\", r\" ₩1 \", sentence) # 2\n",
    "    sentence = re.sub(r'[\" \"]+', \" \", sentence) # 3\n",
    "    sentence = re.sub(r\"[^a-zA-Z?.!,¿]+\", \" \", sentence) # 4\n",
    "    sentence = sentence.strip() # 5\n",
    "    sentence = '<start> ' + sentence + ' <end>' # 6\n",
    "    return sentence\n",
    "\n",
    "# 이 문장이 어떻게 필터링되는지 확인해 보세요.\n",
    "print(preprocess_sentence(\"This @_is ;;;sample        sentence.\"))"
   ]
  },
  {
   "cell_type": "code",
   "execution_count": 4,
   "id": "interracial-prior",
   "metadata": {},
   "outputs": [
    {
     "data": {
      "text/plain": [
       "['<start> i hear you callin here i come baby <end>',\n",
       " '<start> to save you oh oh <end>',\n",
       " '<start> baby no more stallin <end>',\n",
       " '<start> these hands have been longing to touch you baby <end>',\n",
       " '<start> and now that you ve come around to seein it my way <end>',\n",
       " '<start> you won t regret it baby and you surely won t forget it baby <end>',\n",
       " '<start> it s unbelieveable how your body s calling for me <end>',\n",
       " '<start> i can just hear it callin callin for me my body s callin for you <end>',\n",
       " '<start> my body s callin for you <end>',\n",
       " '<start> my body s callin for you <end>']"
      ]
     },
     "execution_count": 4,
     "metadata": {},
     "output_type": "execute_result"
    }
   ],
   "source": [
    "# 여기에 정제된 문장을 모을겁니다\n",
    "corpus = []\n",
    "\n",
    "for sentence in raw_corpus:\n",
    "    # 우리가 원하지 않는 문장은 건너뜁니다\n",
    "    if len(sentence) == 0: continue\n",
    "    if sentence[-1] == \":\": continue\n",
    "    \n",
    "    # 정제를 하고 담아주세요\n",
    "    preprocessed_sentence = preprocess_sentence(sentence)\n",
    "    corpus.append(preprocessed_sentence)\n",
    "        \n",
    "# 정제된 결과를 10개만 확인해보죠\n",
    "corpus[:10]"
   ]
  },
  {
   "cell_type": "code",
   "execution_count": 5,
   "id": "hispanic-holmes",
   "metadata": {},
   "outputs": [
    {
     "name": "stdout",
     "output_type": "stream",
     "text": [
      "[[  2   4 184 ...   0   0   0]\n",
      " [  2   9 530 ...   0   0   0]\n",
      " [  2  48  36 ...   0   0   0]\n",
      " ...\n",
      " [  2   4  86 ...   0   0   0]\n",
      " [  2   8 153 ...   0   0   0]\n",
      " [  2 155  14 ...   0   0   0]] <keras_preprocessing.text.Tokenizer object at 0x7fd23f591f90>\n"
     ]
    }
   ],
   "source": [
    "# 토큰화 할 때 텐서플로우의 Tokenizer와 pad_sequences를 사용합니다\n",
    "# 더 잘 알기 위해 아래 문서들을 참고하면 좋습니다\n",
    "# https://www.tensorflow.org/api_docs/python/tf/keras/preprocessing/text/Tokenizer\n",
    "# https://www.tensorflow.org/api_docs/python/tf/keras/preprocessing/sequence/pad_sequences\n",
    "def tokenize(corpus):\n",
    "    # 7000단어를 기억할 수 있는 tokenizer를 만들겁니다\n",
    "    # 우리는 이미 문장을 정제했으니 filters가 필요없어요\n",
    "    # 7000단어에 포함되지 못한 단어는 '<unk>'로 바꿀거에요\n",
    "    tokenizer = tf.keras.preprocessing.text.Tokenizer(\n",
    "        num_words=12000, \n",
    "        filters=' ',\n",
    "        oov_token=\"<unk>\"\n",
    "    )\n",
    "    # corpus를 이용해 tokenizer 내부의 단어장을 완성합니다\n",
    "    tokenizer.fit_on_texts(corpus)\n",
    "    # 준비한 tokenizer를 이용해 corpus를 Tensor로 변환합니다\n",
    "    tensor = tokenizer.texts_to_sequences(corpus)   \n",
    "    # 입력 데이터의 시퀀스 길이를 일정하게 맞춰줍니다\n",
    "    # 만약 시퀀스가 짧다면 문장 뒤에 패딩을 붙여 길이를 맞춰줍니다.\n",
    "    # 문장 앞에 패딩을 붙여 길이를 맞추고 싶다면 padding='pre'를 사용합니다\n",
    "    tensor = tf.keras.preprocessing.sequence.pad_sequences(tensor, padding='post',maxlen=15)  \n",
    "    \n",
    "    print(tensor,tokenizer)\n",
    "    return tensor, tokenizer\n",
    "\n",
    "tensor, tokenizer = tokenize(corpus)"
   ]
  },
  {
   "cell_type": "code",
   "execution_count": 6,
   "id": "inner-manner",
   "metadata": {},
   "outputs": [
    {
     "name": "stdout",
     "output_type": "stream",
     "text": [
      "1 : <unk>\n",
      "2 : <start>\n",
      "3 : <end>\n",
      "4 : i\n",
      "5 : the\n",
      "6 : you\n",
      "7 : and\n",
      "8 : a\n",
      "9 : to\n",
      "10 : it\n",
      "11 : me\n",
      "12 : my\n",
      "13 : in\n",
      "14 : t\n",
      "15 : s\n"
     ]
    }
   ],
   "source": [
    "for idx in tokenizer.index_word:\n",
    "    print(idx, \":\", tokenizer.index_word[idx])\n",
    "\n",
    "    if idx >= 15: break"
   ]
  },
  {
   "cell_type": "code",
   "execution_count": 7,
   "id": "greek-abraham",
   "metadata": {},
   "outputs": [
    {
     "name": "stdout",
     "output_type": "stream",
     "text": [
      "[  2   4 184   6 814  89   4  62  48   3   0   0   0   0]\n",
      "[  4 184   6 814  89   4  62  48   3   0   0   0   0   0]\n"
     ]
    }
   ],
   "source": [
    "# tensor에서 마지막 토큰을 잘라내서 소스 문장을 생성합니다\n",
    "# 마지막 토큰은 <end>가 아니라 <pad>일 가능성이 높습니다.\n",
    "src_input = tensor[:, :-1]  \n",
    "# tensor에서 <start>를 잘라내서 타겟 문장을 생성합니다.\n",
    "tgt_input = tensor[:, 1:]    \n",
    "\n",
    "print(src_input[0])\n",
    "print(tgt_input[0])"
   ]
  },
  {
   "cell_type": "code",
   "execution_count": 8,
   "id": "bacterial-april",
   "metadata": {},
   "outputs": [
    {
     "data": {
      "text/plain": [
       "<BatchDataset shapes: ((256, 14), (256, 14)), types: (tf.int32, tf.int32)>"
      ]
     },
     "execution_count": 8,
     "metadata": {},
     "output_type": "execute_result"
    }
   ],
   "source": [
    "BUFFER_SIZE = len(src_input)\n",
    "BATCH_SIZE = 256\n",
    "steps_per_epoch = len(src_input) // BATCH_SIZE\n",
    "\n",
    "\n",
    "VOCAB_SIZE = tokenizer.num_words + 1   \n",
    "\n",
    "# 준비한 데이터 소스로부터 데이터셋을 만듭니다\n",
    "# 데이터셋에 대해서는 아래 문서를 참고하세요\n",
    "# 자세히 알아둘수록 도움이 많이 되는 중요한 문서입니다\n",
    "# https://www.tensorflow.org/api_docs/python/tf/data/Dataset\n",
    "dataset = tf.data.Dataset.from_tensor_slices((src_input, tgt_input))\n",
    "dataset = dataset.shuffle(BUFFER_SIZE)\n",
    "dataset = dataset.batch(BATCH_SIZE, drop_remainder=True)\n",
    "dataset"
   ]
  },
  {
   "cell_type": "code",
   "execution_count": 9,
   "id": "continent-aside",
   "metadata": {},
   "outputs": [],
   "source": [
    "class TextGenerator(tf.keras.Model):\n",
    "    def __init__(self, vocab_size, embedding_size, hidden_size):\n",
    "        super().__init__()\n",
    "        \n",
    "        self.embedding = tf.keras.layers.Embedding(vocab_size, embedding_size)\n",
    "        self.rnn_1 = tf.keras.layers.LSTM(hidden_size, return_sequences=True)\n",
    "        self.rnn_2 = tf.keras.layers.LSTM(hidden_size, return_sequences=True)\n",
    "        self.linear = tf.keras.layers.Dense(vocab_size)\n",
    "        \n",
    "    def call(self, x):\n",
    "        out = self.embedding(x)\n",
    "        out = self.rnn_1(out)\n",
    "        out = self.rnn_2(out)\n",
    "        out = self.linear(out)\n",
    "        \n",
    "        return out\n",
    "    \n",
    "embedding_size = 256\n",
    "hidden_size = 1024\n",
    "model = TextGenerator(tokenizer.num_words + 1, embedding_size , hidden_size)"
   ]
  },
  {
   "cell_type": "code",
   "execution_count": 10,
   "id": "cognitive-nepal",
   "metadata": {},
   "outputs": [
    {
     "data": {
      "text/plain": [
       "<tf.Tensor: shape=(256, 14, 12001), dtype=float32, numpy=\n",
       "array([[[-2.72382658e-05,  4.46836711e-05, -8.80919906e-05, ...,\n",
       "         -5.99580635e-05,  1.01297272e-04,  1.89255108e-04],\n",
       "        [-8.04440447e-07,  1.98442620e-04, -1.97466623e-04, ...,\n",
       "          1.87326747e-04,  3.20137100e-04, -6.30683553e-06],\n",
       "        [ 1.82463715e-04,  5.20797214e-04, -2.04654534e-05, ...,\n",
       "          8.96554557e-05,  2.38384207e-04,  4.17499496e-06],\n",
       "        ...,\n",
       "        [ 1.02365820e-03, -4.74782195e-04,  4.02193080e-04, ...,\n",
       "         -4.72841435e-04, -7.10584689e-04, -2.80030654e-04],\n",
       "        [ 5.66690695e-04, -4.59059898e-04,  7.34972418e-04, ...,\n",
       "         -3.49254755e-04, -4.19546326e-04, -2.62565474e-04],\n",
       "        [ 7.52152919e-05, -4.28111642e-04,  1.05836592e-03, ...,\n",
       "         -1.67720369e-04, -9.45101274e-05, -2.61153182e-04]],\n",
       "\n",
       "       [[-2.72382658e-05,  4.46836711e-05, -8.80919906e-05, ...,\n",
       "         -5.99580635e-05,  1.01297272e-04,  1.89255108e-04],\n",
       "        [-4.16316943e-05,  8.98811122e-05, -1.64634403e-04, ...,\n",
       "         -1.67901439e-04,  2.55700550e-04,  3.06955189e-04],\n",
       "        [-1.19058677e-04,  3.08898423e-04, -2.84421782e-04, ...,\n",
       "         -2.55027815e-04,  4.07229993e-04,  1.18688047e-04],\n",
       "        ...,\n",
       "        [-4.76629240e-04, -2.89018964e-04,  6.84939616e-04, ...,\n",
       "         -3.96633492e-04,  5.94410929e-04,  1.37933675e-04],\n",
       "        [-8.49881559e-04, -3.38573416e-04,  1.00732432e-03, ...,\n",
       "         -1.23762147e-04,  7.84415926e-04,  1.09942615e-04],\n",
       "        [-1.19613309e-03, -3.79271194e-04,  1.30217220e-03, ...,\n",
       "          1.67902384e-04,  9.89539782e-04,  5.56592604e-05]],\n",
       "\n",
       "       [[-2.72382658e-05,  4.46836711e-05, -8.80919906e-05, ...,\n",
       "         -5.99580635e-05,  1.01297272e-04,  1.89255108e-04],\n",
       "        [-1.05740532e-04,  7.88966099e-06, -1.05069092e-04, ...,\n",
       "         -1.36419447e-04,  5.77378843e-04,  2.14973144e-04],\n",
       "        [-3.27655434e-04,  7.05667699e-05, -2.62105023e-04, ...,\n",
       "         -3.55349657e-05,  8.67242168e-04,  1.63103887e-05],\n",
       "        ...,\n",
       "        [-1.26995367e-03,  3.44744876e-05,  1.13575812e-03, ...,\n",
       "         -6.99171578e-05, -2.02304247e-04, -2.96862156e-04],\n",
       "        [-1.42505427e-03, -1.78048431e-04,  1.42929819e-03, ...,\n",
       "          1.19889184e-04, -4.27410014e-05, -2.78266583e-04],\n",
       "        [-1.65092375e-03, -3.26641079e-04,  1.70965504e-03, ...,\n",
       "          3.03976674e-04,  1.42487334e-04, -2.48799508e-04]],\n",
       "\n",
       "       ...,\n",
       "\n",
       "       [[-2.72382658e-05,  4.46836711e-05, -8.80919906e-05, ...,\n",
       "         -5.99580635e-05,  1.01297272e-04,  1.89255108e-04],\n",
       "        [-2.98202758e-05, -8.17915206e-05,  1.89153980e-05, ...,\n",
       "          4.86503768e-06,  2.30946040e-04,  2.99971114e-04],\n",
       "        [-7.19095551e-05, -4.40267409e-04,  9.74646828e-05, ...,\n",
       "         -2.25635085e-04,  3.24740569e-04,  9.52649061e-05],\n",
       "        ...,\n",
       "        [ 6.89232431e-04,  1.83594530e-04,  1.00262708e-03, ...,\n",
       "         -7.70353887e-04,  3.45396897e-04, -1.45873334e-03],\n",
       "        [ 6.32843701e-04, -7.55971414e-05,  1.12846878e-03, ...,\n",
       "         -7.73449370e-04,  3.23521061e-04, -1.56888110e-03],\n",
       "        [ 3.29994946e-04, -2.42447932e-04,  1.32497784e-03, ...,\n",
       "         -7.31828739e-04,  3.42912419e-04, -1.53655442e-03]],\n",
       "\n",
       "       [[-2.72382658e-05,  4.46836711e-05, -8.80919906e-05, ...,\n",
       "         -5.99580635e-05,  1.01297272e-04,  1.89255108e-04],\n",
       "        [-8.42873051e-05,  1.75287107e-06,  6.75936171e-05, ...,\n",
       "         -2.59200518e-04, -8.06351891e-05,  7.06807186e-05],\n",
       "        [-3.99308956e-05,  1.43263269e-05, -1.57571631e-04, ...,\n",
       "         -5.69650496e-04, -3.34010518e-04,  1.33302310e-04],\n",
       "        ...,\n",
       "        [-5.12490515e-04, -3.98711127e-04, -4.83668759e-04, ...,\n",
       "         -9.39977821e-04, -6.03389984e-04,  3.88393411e-04],\n",
       "        [-1.68946775e-04, -4.69982624e-04, -8.04223237e-04, ...,\n",
       "         -9.69894521e-04, -8.01952905e-04,  2.99483683e-04],\n",
       "        [ 3.28504946e-04, -8.59561202e-04, -8.62704415e-04, ...,\n",
       "         -9.08205402e-04, -8.32878693e-04,  4.50358166e-05]],\n",
       "\n",
       "       [[-2.72382658e-05,  4.46836711e-05, -8.80919906e-05, ...,\n",
       "         -5.99580635e-05,  1.01297272e-04,  1.89255108e-04],\n",
       "        [ 2.02465584e-04,  1.05468585e-04, -7.29121748e-05, ...,\n",
       "         -1.30543660e-04,  3.00237734e-04,  9.47924564e-05],\n",
       "        [ 5.86836890e-04, -1.30581699e-04,  5.37593005e-05, ...,\n",
       "         -1.90755600e-04,  4.78038623e-04, -2.86820490e-04],\n",
       "        ...,\n",
       "        [-2.19291053e-03, -3.43983003e-04,  2.22483929e-03, ...,\n",
       "          8.58013693e-04,  1.73318281e-03, -6.49587892e-04],\n",
       "        [-2.38679536e-03, -3.97597818e-04,  2.32863030e-03, ...,\n",
       "          1.09305873e-03,  1.85997819e-03, -6.69717498e-04],\n",
       "        [-2.53971037e-03, -4.56479436e-04,  2.41363817e-03, ...,\n",
       "          1.31073885e-03,  1.97951100e-03, -6.86826184e-04]]],\n",
       "      dtype=float32)>"
      ]
     },
     "execution_count": 10,
     "metadata": {},
     "output_type": "execute_result"
    }
   ],
   "source": [
    "# 데이터셋에서 데이터 한 배치만 불러오는 방법입니다.\n",
    "# 지금은 동작 원리에 너무 빠져들지 마세요~\n",
    "for src_sample, tgt_sample in dataset.take(1): break\n",
    "\n",
    "# 한 배치만 불러온 데이터를 모델에 넣어봅니다\n",
    "model(src_sample)"
   ]
  },
  {
   "cell_type": "code",
   "execution_count": 11,
   "id": "polyphonic-craps",
   "metadata": {},
   "outputs": [
    {
     "name": "stdout",
     "output_type": "stream",
     "text": [
      "Model: \"text_generator\"\n",
      "_________________________________________________________________\n",
      "Layer (type)                 Output Shape              Param #   \n",
      "=================================================================\n",
      "embedding (Embedding)        multiple                  3072256   \n",
      "_________________________________________________________________\n",
      "lstm (LSTM)                  multiple                  5246976   \n",
      "_________________________________________________________________\n",
      "lstm_1 (LSTM)                multiple                  8392704   \n",
      "_________________________________________________________________\n",
      "dense (Dense)                multiple                  12301025  \n",
      "=================================================================\n",
      "Total params: 29,012,961\n",
      "Trainable params: 29,012,961\n",
      "Non-trainable params: 0\n",
      "_________________________________________________________________\n"
     ]
    }
   ],
   "source": [
    "model.summary()"
   ]
  },
  {
   "cell_type": "code",
   "execution_count": 12,
   "id": "familiar-brooklyn",
   "metadata": {},
   "outputs": [
    {
     "name": "stdout",
     "output_type": "stream",
     "text": [
      "Epoch 1/30\n",
      "686/686 [==============================] - 216s 311ms/step - loss: 4.0331\n",
      "Epoch 2/30\n",
      "686/686 [==============================] - 215s 314ms/step - loss: 3.1186\n",
      "Epoch 3/30\n",
      "686/686 [==============================] - 217s 316ms/step - loss: 2.9166\n",
      "Epoch 4/30\n",
      "686/686 [==============================] - 218s 318ms/step - loss: 2.7730\n",
      "Epoch 5/30\n",
      "686/686 [==============================] - 219s 318ms/step - loss: 2.6479\n",
      "Epoch 6/30\n",
      "686/686 [==============================] - 219s 318ms/step - loss: 2.5375\n",
      "Epoch 7/30\n",
      "686/686 [==============================] - 219s 319ms/step - loss: 2.4269\n",
      "Epoch 8/30\n",
      "686/686 [==============================] - 221s 322ms/step - loss: 2.3338\n",
      "Epoch 9/30\n",
      "686/686 [==============================] - 221s 322ms/step - loss: 2.2425\n",
      "Epoch 10/30\n",
      "686/686 [==============================] - 221s 322ms/step - loss: 2.1481\n",
      "Epoch 11/30\n",
      "686/686 [==============================] - 221s 321ms/step - loss: 2.0636\n",
      "Epoch 12/30\n",
      "686/686 [==============================] - 221s 321ms/step - loss: 1.9804\n",
      "Epoch 13/30\n",
      "686/686 [==============================] - 220s 321ms/step - loss: 1.9036\n",
      "Epoch 14/30\n",
      "686/686 [==============================] - 220s 321ms/step - loss: 1.8232\n",
      "Epoch 15/30\n",
      "686/686 [==============================] - 220s 321ms/step - loss: 1.7492\n",
      "Epoch 16/30\n",
      "686/686 [==============================] - 220s 320ms/step - loss: 1.6850\n",
      "Epoch 17/30\n",
      "686/686 [==============================] - 219s 320ms/step - loss: 1.6143\n",
      "Epoch 18/30\n",
      "686/686 [==============================] - 219s 320ms/step - loss: 1.5482\n",
      "Epoch 19/30\n",
      "686/686 [==============================] - 220s 320ms/step - loss: 1.4896\n",
      "Epoch 20/30\n",
      "686/686 [==============================] - 219s 320ms/step - loss: 1.4311\n",
      "Epoch 21/30\n",
      "686/686 [==============================] - 220s 320ms/step - loss: 1.3814\n",
      "Epoch 22/30\n",
      "686/686 [==============================] - 220s 321ms/step - loss: 1.3294\n",
      "Epoch 23/30\n",
      "686/686 [==============================] - 220s 320ms/step - loss: 1.2820\n",
      "Epoch 24/30\n",
      "686/686 [==============================] - 220s 321ms/step - loss: 1.2398\n",
      "Epoch 25/30\n",
      "686/686 [==============================] - 220s 320ms/step - loss: 1.1619\n",
      "Epoch 27/30\n",
      "686/686 [==============================] - 220s 321ms/step - loss: 1.1292\n",
      "Epoch 28/30\n",
      "686/686 [==============================] - 220s 321ms/step - loss: 1.0974\n",
      "Epoch 29/30\n",
      "686/686 [==============================] - 218s 317ms/step - loss: 1.0671\n",
      "Epoch 30/30\n",
      "686/686 [==============================] - 217s 316ms/step - loss: 1.0427\n"
     ]
    },
    {
     "data": {
      "text/plain": [
       "<tensorflow.python.keras.callbacks.History at 0x7fd23f2b9790>"
      ]
     },
     "execution_count": 12,
     "metadata": {},
     "output_type": "execute_result"
    }
   ],
   "source": [
    "# optimizer와 loss등은 차차 배웁니다\n",
    "# 혹시 미리 알고 싶다면 아래 문서를 참고하세요\n",
    "# https://www.tensorflow.org/api_docs/python/tf/keras/optimizers\n",
    "# https://www.tensorflow.org/api_docs/python/tf/keras/losses\n",
    "# 양이 상당히 많은 편이니 지금 보는 것은 추천하지 않습니다\n",
    "optimizer = tf.keras.optimizers.Adam()\n",
    "loss = tf.keras.losses.SparseCategoricalCrossentropy(\n",
    "    from_logits=True,\n",
    "    reduction='none'\n",
    ")\n",
    "\n",
    "model.compile(loss=loss, optimizer=optimizer)\n",
    "model.fit(dataset, epochs=30)"
   ]
  },
  {
   "cell_type": "code",
   "execution_count": 15,
   "id": "advised-memorabilia",
   "metadata": {},
   "outputs": [],
   "source": [
    "def generate_text(model, tokenizer, init_sentence=\"<start>\", max_len=20):\n",
    "    # 테스트를 위해서 입력받은 init_sentence도 텐서로 변환합니다\n",
    "    test_input = tokenizer.texts_to_sequences([init_sentence])\n",
    "    test_tensor = tf.convert_to_tensor(test_input, dtype=tf.int64)\n",
    "    end_token = tokenizer.word_index[\"<end>\"]\n",
    "\n",
    "    # 단어 하나씩 예측해 문장을 만듭니다\n",
    "    #    1. 입력받은 문장의 텐서를 입력합니다\n",
    "    #    2. 예측된 값 중 가장 높은 확률인 word index를 뽑아냅니다\n",
    "    #    3. 2에서 예측된 word index를 문장 뒤에 붙입니다\n",
    "    #    4. 모델이 <end>를 예측했거나, max_len에 도달했다면 문장 생성을 마칩니다\n",
    "    while True:\n",
    "        # 1\n",
    "        predict = model(test_tensor) \n",
    "        # 2\n",
    "        predict_word = tf.argmax(tf.nn.softmax(predict, axis=-1), axis=-1)[:, -1] \n",
    "        # 3 \n",
    "        test_tensor = tf.concat([test_tensor, tf.expand_dims(predict_word, axis=0)], axis=-1)\n",
    "        # 4\n",
    "        if predict_word.numpy()[0] == end_token: break\n",
    "        if test_tensor.shape[1] >= max_len: break\n",
    "\n",
    "    generated = \"\"\n",
    "    # tokenizer를 이용해 word index를 단어로 하나씩 변환합니다 \n",
    "    for word_index in test_tensor[0].numpy():\n",
    "        generated += tokenizer.index_word[word_index] + \" \"\n",
    "\n",
    "    return generated"
   ]
  },
  {
   "cell_type": "code",
   "execution_count": 16,
   "id": "representative-namibia",
   "metadata": {},
   "outputs": [
    {
     "ename": "SyntaxError",
     "evalue": "invalid syntax (<ipython-input-16-dcb99045be75>, line 4)",
     "output_type": "error",
     "traceback": [
      "\u001b[0;36m  File \u001b[0;32m\"<ipython-input-16-dcb99045be75>\"\u001b[0;36m, line \u001b[0;32m4\u001b[0m\n\u001b[0;31m    BATCH_SIZE = 256 steps_per_epoch = len(enc_train) // BATCH_SIZE\u001b[0m\n\u001b[0m                                   ^\u001b[0m\n\u001b[0;31mSyntaxError\u001b[0m\u001b[0;31m:\u001b[0m invalid syntax\n"
     ]
    }
   ],
   "source": [
    "tf.data.Dataset.from_tensor_slices().shuffle(BUFFER_SIZE)\n",
    "\n",
    "BUFFER_SIZE = len(enc_train) \n",
    "BATCH_SIZE = 256 steps_per_epoch = len(enc_train) // BATCH_SIZE\n",
    "dataset = tf.data.Dataset.from_tensor_slices((enc_train, dec_train)) \n",
    "dataset = dataset.shuffle(BUFFER_SIZE) \n",
    "dataset = dataset.batch(BATCH_SIZE, drop_remainder=True) dataset"
   ]
  },
  {
   "cell_type": "code",
   "execution_count": 17,
   "id": "solved-smart",
   "metadata": {},
   "outputs": [
    {
     "ename": "SyntaxError",
     "evalue": "invalid syntax (<ipython-input-17-2208ec8329f9>, line 4)",
     "output_type": "error",
     "traceback": [
      "\u001b[0;36m  File \u001b[0;32m\"<ipython-input-17-2208ec8329f9>\"\u001b[0;36m, line \u001b[0;32m4\u001b[0m\n\u001b[0;31m    BATCH_SIZE = 256 steps_per_epoch = len(enc_val) // BATCH_SIZE\u001b[0m\n\u001b[0m                                   ^\u001b[0m\n\u001b[0;31mSyntaxError\u001b[0m\u001b[0;31m:\u001b[0m invalid syntax\n"
     ]
    }
   ],
   "source": [
    "tf.data.Dataset.from_tensor_slices().shuffle(BUFFER_SIZE)\n",
    "\n",
    "BUFFER_SIZE = len(enc_val) \n",
    "BATCH_SIZE = 256 steps_per_epoch = len(enc_val) // BATCH_SIZE\n",
    "valset = tf.data.Dataset.from_tensor_slices((enc_val, dec_val)) \n",
    "valset = valset.shuffle(BUFFER_SIZE) \n",
    "valset = valset.batch(BATCH_SIZE, drop_remainder=True) valset"
   ]
  },
  {
   "cell_type": "code",
   "execution_count": 19,
   "id": "dutch-reducing",
   "metadata": {},
   "outputs": [
    {
     "ename": "NameError",
     "evalue": "name 'dataset_train' is not defined",
     "output_type": "error",
     "traceback": [
      "\u001b[0;31m---------------------------------------------------------------------------\u001b[0m",
      "\u001b[0;31mNameError\u001b[0m                                 Traceback (most recent call last)",
      "\u001b[0;32m<ipython-input-19-1b2418a95339>\u001b[0m in \u001b[0;36m<module>\u001b[0;34m\u001b[0m\n\u001b[0;32m----> 1\u001b[0;31m \u001b[0mmodel\u001b[0m\u001b[0;34m.\u001b[0m\u001b[0mfit\u001b[0m\u001b[0;34m(\u001b[0m\u001b[0mdataset_train\u001b[0m\u001b[0;34m,\u001b[0m \u001b[0mvalidation_data\u001b[0m\u001b[0;34m=\u001b[0m\u001b[0mdataset_val\u001b[0m\u001b[0;34m)\u001b[0m\u001b[0;34m\u001b[0m\u001b[0;34m\u001b[0m\u001b[0m\n\u001b[0m",
      "\u001b[0;31mNameError\u001b[0m: name 'dataset_train' is not defined"
     ]
    }
   ],
   "source": [
    "model.fit(dataset_train, validation_data=dataset_val)"
   ]
  },
  {
   "cell_type": "code",
   "execution_count": 20,
   "id": "warming-howard",
   "metadata": {},
   "outputs": [
    {
     "name": "stdout",
     "output_type": "stream",
     "text": [
      "[  2   4 184   6 814  89   4  62  48   3   0   0   0   0]\n",
      "[  4 184   6 814  89   4  62  48   3   0   0   0   0   0]\n"
     ]
    }
   ],
   "source": [
    "# tensor에서 마지막 토큰을 잘라내서 소스 문장을 생성합니다\n",
    "# 마지막 토큰은 <end>가 아니라 <pad>일 가능성이 높습니다.\n",
    "src_input = tensor[:, :-1]  \n",
    "# tensor에서 <start>를 잘라내서 타겟 문장을 생성합니다.\n",
    "tgt_input = tensor[:, 1:]    \n",
    "\n",
    "print(src_input[0])\n",
    "print(tgt_input[0])"
   ]
  },
  {
   "cell_type": "code",
   "execution_count": 21,
   "id": "judicial-bacon",
   "metadata": {},
   "outputs": [
    {
     "name": "stdout",
     "output_type": "stream",
     "text": [
      "(175749, 14)\n",
      "(175749, 14)\n"
     ]
    }
   ],
   "source": [
    "print(src_input.shape)\n",
    "print(src_input.shape)"
   ]
  },
  {
   "cell_type": "code",
   "execution_count": 22,
   "id": "configured-nirvana",
   "metadata": {},
   "outputs": [
    {
     "name": "stdout",
     "output_type": "stream",
     "text": [
      "Source Train: (140599, 14)\n",
      "Target Train: (140599, 14)\n"
     ]
    }
   ],
   "source": [
    "from sklearn.model_selection import train_test_split\n",
    "enc_train, enc_val, dec_train, dec_val = train_test_split(src_input, tgt_input, test_size=0.2,shuffle=True,random_state=111)\n",
    "\n",
    "print(\"Source Train:\", enc_train.shape)\n",
    "print(\"Target Train:\", dec_train.shape)"
   ]
  },
  {
   "cell_type": "code",
   "execution_count": 23,
   "id": "geographic-spirituality",
   "metadata": {},
   "outputs": [
    {
     "data": {
      "text/plain": [
       "175749"
      ]
     },
     "execution_count": 23,
     "metadata": {},
     "output_type": "execute_result"
    }
   ],
   "source": [
    "len(src_input)"
   ]
  },
  {
   "cell_type": "code",
   "execution_count": 24,
   "id": "southern-commission",
   "metadata": {},
   "outputs": [
    {
     "data": {
      "text/plain": [
       "<BatchDataset shapes: ((256, 14), (256, 14)), types: (tf.int32, tf.int32)>"
      ]
     },
     "execution_count": 24,
     "metadata": {},
     "output_type": "execute_result"
    }
   ],
   "source": [
    "BUFFER_SIZE = len(enc_train)\n",
    "BATCH_SIZE = 256\n",
    "steps_per_epoch = len(enc_train) // BATCH_SIZE\n",
    "\n",
    "\n",
    "VOCAB_SIZE = tokenizer.num_words + 1   \n",
    "\n",
    "# 준비한 데이터 소스로부터 데이터셋을 만듭니다\n",
    "# 데이터셋에 대해서는 아래 문서를 참고하세요\n",
    "# 자세히 알아둘수록 도움이 많이 되는 중요한 문서입니다\n",
    "# https://www.tensorflow.org/api_docs/python/tf/data/Dataset\n",
    "dataset = tf.data.Dataset.from_tensor_slices((enc_train, dec_train))\n",
    "dataset = dataset.shuffle(BUFFER_SIZE)\n",
    "dataset = dataset.batch(BATCH_SIZE, drop_remainder=True)\n",
    "dataset"
   ]
  },
  {
   "cell_type": "code",
   "execution_count": 25,
   "id": "promising-chester",
   "metadata": {},
   "outputs": [],
   "source": [
    "#Loss\n",
    "loss = tf.keras.losses.SparseCategoricalCrossentropy(\n",
    "    from_logits=True, reduction='none')"
   ]
  },
  {
   "cell_type": "code",
   "execution_count": 34,
   "id": "unlikely-waters",
   "metadata": {},
   "outputs": [
    {
     "ename": "NameError",
     "evalue": "name 'lyrics' is not defined",
     "output_type": "error",
     "traceback": [
      "\u001b[0;31m---------------------------------------------------------------------------\u001b[0m",
      "\u001b[0;31mNameError\u001b[0m                                 Traceback (most recent call last)",
      "\u001b[0;32m<ipython-input-34-17a7020611d1>\u001b[0m in \u001b[0;36m<module>\u001b[0;34m\u001b[0m\n\u001b[0;32m----> 1\u001b[0;31m \u001b[0mgenerate_text\u001b[0m\u001b[0;34m(\u001b[0m\u001b[0mlyrics\u001b[0m\u001b[0;34m,\u001b[0m \u001b[0mtokenizer\u001b[0m\u001b[0;34m,\u001b[0m \u001b[0minit_sentence\u001b[0m\u001b[0;34m=\u001b[0m\u001b[0;34m\"<start> i love\"\u001b[0m\u001b[0;34m,\u001b[0m \u001b[0mmax_len\u001b[0m\u001b[0;34m=\u001b[0m\u001b[0;36m20\u001b[0m\u001b[0;34m)\u001b[0m\u001b[0;34m\u001b[0m\u001b[0;34m\u001b[0m\u001b[0m\n\u001b[0m",
      "\u001b[0;31mNameError\u001b[0m: name 'lyrics' is not defined"
     ]
    }
   ],
   "source": [
    "generate_text(lyricist, tokenizer, init_sentence=\"<start> i love\", max_len=20)"
   ]
  },
  {
   "cell_type": "code",
   "execution_count": null,
   "id": "possible-inclusion",
   "metadata": {},
   "outputs": [],
   "source": []
  }
 ],
 "metadata": {
  "kernelspec": {
   "display_name": "Python 3",
   "language": "python",
   "name": "python3"
  }
 },
 "nbformat": 4,
 "nbformat_minor": 5
}
