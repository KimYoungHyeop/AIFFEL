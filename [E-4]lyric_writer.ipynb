{
 "cells": [
  {
   "cell_type": "code",
   "execution_count": 1,
   "id": "recorded-mercury",
   "metadata": {},
   "outputs": [
    {
     "name": "stdout",
     "output_type": "stream",
     "text": [
      "데이터 크기: 187088\n",
      "Examples:\n",
      " ['I hear you callin\\', \"Here I come baby\"', 'To save you, oh oh', \"Baby no more stallin'\"]\n"
     ]
    }
   ],
   "source": [
    "import glob\n",
    "import os, re \n",
    "import numpy as np\n",
    "import tensorflow as tf\n",
    "\n",
    "txt_file_path = os.getenv('HOME')+'/aiffel/lyricist/data/lyrics/*'\n",
    "\n",
    "txt_list = glob.glob(txt_file_path)\n",
    "\n",
    "raw_corpus = []\n",
    "\n",
    "# 여러개의 txt 파일을 모두 읽어서 raw_corpus 에 담습니다.\n",
    "for txt_file in txt_list:\n",
    "    with open(txt_file, \"r\") as f:\n",
    "        raw = f.read().splitlines()\n",
    "        raw_corpus.extend(raw)\n",
    "\n",
    "print(\"데이터 크기:\", len(raw_corpus))\n",
    "print(\"Examples:\\n\", raw_corpus[:3])"
   ]
  },
  {
   "cell_type": "code",
   "execution_count": 2,
   "id": "drawn-australian",
   "metadata": {},
   "outputs": [
    {
     "name": "stdout",
     "output_type": "stream",
     "text": [
      "I hear you callin', \"Here I come baby\"\n",
      "To save you, oh oh\n",
      "Baby no more stallin'\n",
      "These hands have been longing to touch you baby\n",
      "And now that you've come around, to seein' it my way\n",
      "You won't regret it baby, and you surely won't forget it baby\n",
      "It's unbelieveable how your body's calling for me\n",
      "I can just hear it callin' callin' for me My body's callin' for you\n",
      "My body's callin' for you\n",
      "My body's callin' for you\n"
     ]
    }
   ],
   "source": [
    "for idx, sentence in enumerate(raw_corpus):\n",
    "    if len(sentence) == 0: continue   # 길이가 0인 문장은 건너뜁니다.\n",
    "    if sentence[-1] == \":\": continue  # 문장의 끝이 : 인 문장은 건너뜁니다.\n",
    "\n",
    "    if idx > 9: break   # 일단 문장 10개만 확인해 볼 겁니다.\n",
    "        \n",
    "    print(sentence)"
   ]
  },
  {
   "cell_type": "code",
   "execution_count": 3,
   "id": "subjective-particular",
   "metadata": {},
   "outputs": [
    {
     "name": "stdout",
     "output_type": "stream",
     "text": [
      "<start> this is sample sentence <end>\n"
     ]
    },
    {
     "name": "stderr",
     "output_type": "stream",
     "text": [
      "/opt/conda/lib/python3.7/site-packages/ipykernel_launcher.py:10: FutureWarning: Possible nested set at position 2\n",
      "  # Remove the CWD from sys.path while we load stuff.\n"
     ]
    }
   ],
   "source": [
    "# 입력된 문장을\n",
    "#     1. 소문자로 바꾸고, 양쪽 공백을 지웁니다\n",
    "#     2. 특수문자 양쪽에 공백을 넣고\n",
    "#     3. 여러개의 공백은 하나의 공백으로 바꿉니다\n",
    "#     4. a-zA-Z?.!,¿가 아닌 모든 문자를 하나의 공백으로 바꿉니다\n",
    "#     5. 다시 양쪽 공백을 지웁니다\n",
    "#     6. 문장 시작에는 <start>, 끝에는 <end>를 추가합니다\n",
    "# 이 순서로 처리해주면 문제가 되는 상황을 방지할 수 있겠네요!\n",
    "def preprocess_sentence(sentence):\n",
    "    sentence = re.sub(r'₩[[^)]*₩]','',sentence)\n",
    "    sentence = sentence.lower().strip() # 1\n",
    "    sentence = re.sub(r\"([?.!,¿])\", r\" ₩1 \", sentence) # 2\n",
    "    sentence = re.sub(r'[\" \"]+', \" \", sentence) # 3\n",
    "    sentence = re.sub(r\"[^a-zA-Z?.!,¿]+\", \" \", sentence) # 4\n",
    "    sentence = sentence.strip() # 5\n",
    "    sentence = '<start> ' + sentence + ' <end>' # 6\n",
    "    return sentence\n",
    "\n",
    "# 이 문장이 어떻게 필터링되는지 확인해 보세요.\n",
    "print(preprocess_sentence(\"This @_is ;;;sample        sentence.\"))"
   ]
  },
  {
   "cell_type": "code",
   "execution_count": 4,
   "id": "sophisticated-dietary",
   "metadata": {},
   "outputs": [
    {
     "data": {
      "text/plain": [
       "['<start> i hear you callin here i come baby <end>',\n",
       " '<start> to save you oh oh <end>',\n",
       " '<start> baby no more stallin <end>',\n",
       " '<start> these hands have been longing to touch you baby <end>',\n",
       " '<start> and now that you ve come around to seein it my way <end>',\n",
       " '<start> you won t regret it baby and you surely won t forget it baby <end>',\n",
       " '<start> it s unbelieveable how your body s calling for me <end>',\n",
       " '<start> i can just hear it callin callin for me my body s callin for you <end>',\n",
       " '<start> my body s callin for you <end>',\n",
       " '<start> my body s callin for you <end>']"
      ]
     },
     "execution_count": 4,
     "metadata": {},
     "output_type": "execute_result"
    }
   ],
   "source": [
    "# 여기에 정제된 문장을 모을겁니다\n",
    "corpus = []\n",
    "\n",
    "for sentence in raw_corpus:\n",
    "    # 우리가 원하지 않는 문장은 건너뜁니다\n",
    "    if len(sentence) == 0: continue\n",
    "    if sentence[-1] == \":\": continue\n",
    "    \n",
    "    # 정제를 하고 담아주세요\n",
    "    preprocessed_sentence = preprocess_sentence(sentence)\n",
    "    corpus.append(preprocessed_sentence)\n",
    "        \n",
    "# 정제된 결과를 10개만 확인해보죠\n",
    "corpus[:10]"
   ]
  },
  {
   "cell_type": "code",
   "execution_count": 5,
   "id": "pursuant-marble",
   "metadata": {},
   "outputs": [
    {
     "name": "stdout",
     "output_type": "stream",
     "text": [
      "[[  2   4 184 ...   0   0   0]\n",
      " [  2   9 530 ...   0   0   0]\n",
      " [  2  48  36 ...   0   0   0]\n",
      " ...\n",
      " [  2   4  86 ...   0   0   0]\n",
      " [  2   8 153 ...   0   0   0]\n",
      " [  2 155  14 ...   0   0   0]] <keras_preprocessing.text.Tokenizer object at 0x7fe4c8801f90>\n"
     ]
    }
   ],
   "source": [
    "# 토큰화 할 때 텐서플로우의 Tokenizer와 pad_sequences를 사용합니다\n",
    "# 더 잘 알기 위해 아래 문서들을 참고하면 좋습니다\n",
    "# https://www.tensorflow.org/api_docs/python/tf/keras/preprocessing/text/Tokenizer\n",
    "# https://www.tensorflow.org/api_docs/python/tf/keras/preprocessing/sequence/pad_sequences\n",
    "def tokenize(corpus):\n",
    "    # 7000단어를 기억할 수 있는 tokenizer를 만들겁니다\n",
    "    # 우리는 이미 문장을 정제했으니 filters가 필요없어요\n",
    "    # 7000단어에 포함되지 못한 단어는 '<unk>'로 바꿀거에요\n",
    "    tokenizer = tf.keras.preprocessing.text.Tokenizer(\n",
    "        num_words=12000, \n",
    "        filters=' ',\n",
    "        oov_token=\"<unk>\"\n",
    "    )\n",
    "    # corpus를 이용해 tokenizer 내부의 단어장을 완성합니다\n",
    "    tokenizer.fit_on_texts(corpus)\n",
    "    # 준비한 tokenizer를 이용해 corpus를 Tensor로 변환합니다\n",
    "    tensor = tokenizer.texts_to_sequences(corpus)   \n",
    "    # 입력 데이터의 시퀀스 길이를 일정하게 맞춰줍니다\n",
    "    # 만약 시퀀스가 짧다면 문장 뒤에 패딩을 붙여 길이를 맞춰줍니다.\n",
    "    # 문장 앞에 패딩을 붙여 길이를 맞추고 싶다면 padding='pre'를 사용합니다\n",
    "    tensor = tf.keras.preprocessing.sequence.pad_sequences(tensor, padding='post',maxlen=15)  \n",
    "    \n",
    "    print(tensor,tokenizer)\n",
    "    return tensor, tokenizer\n",
    "\n",
    "tensor, tokenizer = tokenize(corpus)"
   ]
  },
  {
   "cell_type": "code",
   "execution_count": 6,
   "id": "acting-career",
   "metadata": {},
   "outputs": [
    {
     "name": "stdout",
     "output_type": "stream",
     "text": [
      "1 : <unk>\n",
      "2 : <start>\n",
      "3 : <end>\n",
      "4 : i\n",
      "5 : the\n",
      "6 : you\n",
      "7 : and\n",
      "8 : a\n",
      "9 : to\n",
      "10 : it\n",
      "11 : me\n",
      "12 : my\n",
      "13 : in\n",
      "14 : t\n",
      "15 : s\n"
     ]
    }
   ],
   "source": [
    "for idx in tokenizer.index_word:\n",
    "    print(idx, \":\", tokenizer.index_word[idx])\n",
    "\n",
    "    if idx >= 15: break"
   ]
  },
  {
   "cell_type": "code",
   "execution_count": 7,
   "id": "brilliant-serial",
   "metadata": {},
   "outputs": [
    {
     "name": "stdout",
     "output_type": "stream",
     "text": [
      "[  2   4 184   6 814  89   4  62  48   3   0   0   0   0]\n",
      "[  4 184   6 814  89   4  62  48   3   0   0   0   0   0]\n"
     ]
    }
   ],
   "source": [
    "# tensor에서 마지막 토큰을 잘라내서 소스 문장을 생성합니다\n",
    "# 마지막 토큰은 <end>가 아니라 <pad>일 가능성이 높습니다.\n",
    "src_input = tensor[:, :-1]  \n",
    "# tensor에서 <start>를 잘라내서 타겟 문장을 생성합니다.\n",
    "tgt_input = tensor[:, 1:]    \n",
    "\n",
    "print(src_input[0])\n",
    "print(tgt_input[0])"
   ]
  },
  {
   "cell_type": "code",
   "execution_count": 8,
   "id": "composite-symphony",
   "metadata": {},
   "outputs": [
    {
     "data": {
      "text/plain": [
       "<BatchDataset shapes: ((256, 14), (256, 14)), types: (tf.int32, tf.int32)>"
      ]
     },
     "execution_count": 8,
     "metadata": {},
     "output_type": "execute_result"
    }
   ],
   "source": [
    "BUFFER_SIZE = len(src_input)\n",
    "BATCH_SIZE = 256\n",
    "steps_per_epoch = len(src_input) // BATCH_SIZE\n",
    "\n",
    "\n",
    "VOCAB_SIZE = tokenizer.num_words + 1   \n",
    "\n",
    "# 준비한 데이터 소스로부터 데이터셋을 만듭니다\n",
    "# 데이터셋에 대해서는 아래 문서를 참고하세요\n",
    "# 자세히 알아둘수록 도움이 많이 되는 중요한 문서입니다\n",
    "# https://www.tensorflow.org/api_docs/python/tf/data/Dataset\n",
    "dataset = tf.data.Dataset.from_tensor_slices((src_input, tgt_input))\n",
    "dataset = dataset.shuffle(BUFFER_SIZE)\n",
    "dataset = dataset.batch(BATCH_SIZE, drop_remainder=True)\n",
    "dataset"
   ]
  },
  {
   "cell_type": "code",
   "execution_count": 9,
   "id": "european-audit",
   "metadata": {},
   "outputs": [],
   "source": [
    "class TextGenerator(tf.keras.Model):\n",
    "    def __init__(self, vocab_size, embedding_size, hidden_size):\n",
    "        super().__init__()\n",
    "        \n",
    "        self.embedding = tf.keras.layers.Embedding(vocab_size, embedding_size)\n",
    "        self.rnn_1 = tf.keras.layers.LSTM(hidden_size, return_sequences=True)\n",
    "        self.rnn_2 = tf.keras.layers.LSTM(hidden_size, return_sequences=True)\n",
    "        self.linear = tf.keras.layers.Dense(vocab_size)\n",
    "        \n",
    "    def call(self, x):\n",
    "        out = self.embedding(x)\n",
    "        out = self.rnn_1(out)\n",
    "        out = self.rnn_2(out)\n",
    "        out = self.linear(out)\n",
    "        \n",
    "        return out\n",
    "    \n",
    "embedding_size = 256\n",
    "hidden_size = 1024\n",
    "model = TextGenerator(tokenizer.num_words + 1, embedding_size , hidden_size)"
   ]
  },
  {
   "cell_type": "code",
   "execution_count": 10,
   "id": "raising-hudson",
   "metadata": {},
   "outputs": [
    {
     "data": {
      "text/plain": [
       "<tf.Tensor: shape=(256, 14, 12001), dtype=float32, numpy=\n",
       "array([[[ 1.07280277e-04, -2.62442307e-04,  8.14021314e-06, ...,\n",
       "         -1.97496367e-04,  4.43871102e-07, -2.35561529e-05],\n",
       "        [ 2.99687556e-04, -6.87383363e-05,  1.67248494e-04, ...,\n",
       "         -3.85374937e-04, -6.88697692e-05, -7.68974642e-05],\n",
       "        [ 4.81097493e-04, -2.20250877e-04,  2.42040507e-04, ...,\n",
       "         -6.57531898e-04, -1.04764600e-04, -8.97683421e-05],\n",
       "        ...,\n",
       "        [ 1.30116579e-03,  8.39880551e-04,  8.99079256e-04, ...,\n",
       "         -1.98960654e-03, -5.28967462e-07,  6.02126005e-04],\n",
       "        [ 1.30052480e-03,  7.44092977e-04,  8.76022503e-04, ...,\n",
       "         -2.07268144e-03,  8.06763201e-05,  7.03342957e-04],\n",
       "        [ 1.31909456e-03,  1.02753553e-03,  9.52714297e-04, ...,\n",
       "         -2.07569078e-03,  1.22783371e-04,  7.78664777e-04]],\n",
       "\n",
       "       [[-7.21283141e-05, -3.72621493e-04,  5.82341454e-06, ...,\n",
       "         -2.16364671e-04, -9.80227560e-05,  2.14890591e-04],\n",
       "        [ 2.80393258e-04, -7.05464452e-04,  4.76696769e-05, ...,\n",
       "         -2.84371083e-04, -2.46587617e-04,  2.65259063e-04],\n",
       "        [ 4.80127434e-04, -5.28780103e-04,  3.93373164e-04, ...,\n",
       "         -3.60790582e-04, -3.03929235e-04,  1.75069174e-04],\n",
       "        ...,\n",
       "        [ 2.79227297e-05, -2.73159216e-03, -1.43902435e-03, ...,\n",
       "         -2.79847044e-03, -8.84593464e-04,  1.76532404e-03],\n",
       "        [-6.90752058e-05, -2.91303778e-03, -1.67998776e-03, ...,\n",
       "         -3.06017301e-03, -8.85251851e-04,  2.10479926e-03],\n",
       "        [-1.59771618e-04, -3.03837168e-03, -1.89360383e-03, ...,\n",
       "         -3.29723069e-03, -8.55660939e-04,  2.40970356e-03]],\n",
       "\n",
       "       [[-8.80820808e-05,  1.18765238e-04, -1.10904053e-04, ...,\n",
       "          3.70347436e-04, -1.07475425e-04,  4.53621069e-05],\n",
       "        [-1.99755901e-04,  6.90255765e-05, -2.13740306e-04, ...,\n",
       "          4.56511858e-04,  3.36329394e-05, -1.92208783e-04],\n",
       "        [-2.41422953e-04,  2.04334632e-04, -3.62777901e-05, ...,\n",
       "          5.12365485e-04,  1.43457626e-04, -4.02926526e-04],\n",
       "        ...,\n",
       "        [-5.89582778e-04,  1.70069048e-04,  8.14308936e-04, ...,\n",
       "         -6.14054152e-04,  1.56990413e-04,  4.31881606e-04],\n",
       "        [-1.11412443e-03,  1.48369392e-04,  9.45412496e-04, ...,\n",
       "         -9.19981278e-04,  4.13967675e-04,  4.61096264e-04],\n",
       "        [-1.33439887e-03,  1.18402939e-04,  9.44800791e-04, ...,\n",
       "         -1.33278046e-03,  7.97829009e-04,  5.25487470e-04]],\n",
       "\n",
       "       ...,\n",
       "\n",
       "       [[-7.21283141e-05, -3.72621493e-04,  5.82341454e-06, ...,\n",
       "         -2.16364671e-04, -9.80227560e-05,  2.14890591e-04],\n",
       "        [-1.64340468e-04, -5.95392368e-04,  1.73605833e-04, ...,\n",
       "         -7.15129252e-04, -5.48473559e-04,  3.91419540e-04],\n",
       "        [-3.53793381e-04, -6.38355908e-04,  4.24411526e-04, ...,\n",
       "         -9.91925714e-04, -7.82025163e-04,  5.17840381e-04],\n",
       "        ...,\n",
       "        [-5.63654641e-04, -3.10456869e-03, -1.91981078e-03, ...,\n",
       "         -3.59381572e-03, -1.36442913e-03,  2.66250712e-03],\n",
       "        [-5.89734525e-04, -3.17146280e-03, -2.11437512e-03, ...,\n",
       "         -3.75829753e-03, -1.22921646e-03,  2.87650479e-03],\n",
       "        [-6.10777934e-04, -3.20640928e-03, -2.28616875e-03, ...,\n",
       "         -3.90792033e-03, -1.08754868e-03,  3.06705199e-03]],\n",
       "\n",
       "       [[-7.21283141e-05, -3.72621493e-04,  5.82341454e-06, ...,\n",
       "         -2.16364671e-04, -9.80227560e-05,  2.14890591e-04],\n",
       "        [-1.26172803e-04, -6.71878457e-04, -6.32859883e-05, ...,\n",
       "         -3.98689823e-04, -1.13396381e-05,  3.74115552e-05],\n",
       "        [-5.30352059e-04, -8.28397344e-04,  1.22320518e-04, ...,\n",
       "         -5.32316102e-04, -2.98173563e-05, -2.06519708e-05],\n",
       "        ...,\n",
       "        [-7.48395978e-05,  1.55797345e-04, -5.81843255e-04, ...,\n",
       "          9.60941252e-04, -8.80218635e-04, -4.96461471e-05],\n",
       "        [ 2.95114529e-04,  2.44625087e-04, -7.35540350e-04, ...,\n",
       "          9.98039148e-04, -1.13809085e-03,  2.89446441e-04],\n",
       "        [ 4.28909494e-04,  3.05840251e-04, -7.33757217e-04, ...,\n",
       "          6.59387966e-04, -9.06365982e-04,  5.17180364e-04]],\n",
       "\n",
       "       [[-7.21283141e-05, -3.72621493e-04,  5.82341454e-06, ...,\n",
       "         -2.16364671e-04, -9.80227560e-05,  2.14890591e-04],\n",
       "        [-1.04443308e-04, -6.72016351e-04,  9.91425331e-05, ...,\n",
       "         -4.88612102e-04, -4.63957913e-05, -2.28627032e-05],\n",
       "        [ 8.89851362e-05, -7.23107776e-04,  1.68276849e-04, ...,\n",
       "         -5.38821158e-04, -2.46397045e-04, -1.02491016e-04],\n",
       "        ...,\n",
       "        [ 1.94918306e-03, -1.19153550e-03,  6.17812388e-04, ...,\n",
       "         -9.72549373e-04, -1.15537795e-03,  1.03931874e-03],\n",
       "        [ 1.71701552e-03, -1.60149438e-03,  3.31678893e-04, ...,\n",
       "         -1.37736322e-03, -1.30162993e-03,  1.29890896e-03],\n",
       "        [ 1.45651551e-03, -2.00104783e-03,  1.36962208e-05, ...,\n",
       "         -1.76648761e-03, -1.41041749e-03,  1.57389126e-03]]],\n",
       "      dtype=float32)>"
      ]
     },
     "execution_count": 10,
     "metadata": {},
     "output_type": "execute_result"
    }
   ],
   "source": [
    "# 데이터셋에서 데이터 한 배치만 불러오는 방법입니다.\n",
    "# 지금은 동작 원리에 너무 빠져들지 마세요~\n",
    "for src_sample, tgt_sample in dataset.take(1): break\n",
    "\n",
    "# 한 배치만 불러온 데이터를 모델에 넣어봅니다\n",
    "model(src_sample)"
   ]
  },
  {
   "cell_type": "code",
   "execution_count": 11,
   "id": "subjective-ground",
   "metadata": {},
   "outputs": [
    {
     "name": "stdout",
     "output_type": "stream",
     "text": [
      "Model: \"text_generator\"\n",
      "_________________________________________________________________\n",
      "Layer (type)                 Output Shape              Param #   \n",
      "=================================================================\n",
      "embedding (Embedding)        multiple                  3072256   \n",
      "_________________________________________________________________\n",
      "lstm (LSTM)                  multiple                  5246976   \n",
      "_________________________________________________________________\n",
      "lstm_1 (LSTM)                multiple                  8392704   \n",
      "_________________________________________________________________\n",
      "dense (Dense)                multiple                  12301025  \n",
      "=================================================================\n",
      "Total params: 29,012,961\n",
      "Trainable params: 29,012,961\n",
      "Non-trainable params: 0\n",
      "_________________________________________________________________\n"
     ]
    }
   ],
   "source": [
    "model.summary()"
   ]
  },
  {
   "cell_type": "code",
   "execution_count": 12,
   "id": "weekly-tuner",
   "metadata": {},
   "outputs": [
    {
     "name": "stdout",
     "output_type": "stream",
     "text": [
      "Epoch 1/10\n",
      "686/686 [==============================] - 220s 317ms/step - loss: 4.0788\n",
      "Epoch 2/10\n",
      "686/686 [==============================] - 220s 321ms/step - loss: 3.1335\n",
      "Epoch 3/10\n",
      "686/686 [==============================] - 222s 324ms/step - loss: 2.9169\n",
      "Epoch 4/10\n",
      "686/686 [==============================] - 223s 325ms/step - loss: 2.7589\n",
      "Epoch 5/10\n",
      "686/686 [==============================] - 224s 326ms/step - loss: 2.6214\n",
      "Epoch 6/10\n",
      "686/686 [==============================] - 224s 326ms/step - loss: 2.5058\n",
      "Epoch 7/10\n",
      "686/686 [==============================] - 224s 326ms/step - loss: 2.3943\n",
      "Epoch 8/10\n",
      "686/686 [==============================] - 224s 326ms/step - loss: 2.2888\n",
      "Epoch 9/10\n",
      "686/686 [==============================] - 224s 326ms/step - loss: 2.1891\n",
      "Epoch 10/10\n",
      "686/686 [==============================] - 224s 326ms/step - loss: 2.1042\n"
     ]
    },
    {
     "data": {
      "text/plain": [
       "<tensorflow.python.keras.callbacks.History at 0x7fe4c852e7d0>"
      ]
     },
     "execution_count": 12,
     "metadata": {},
     "output_type": "execute_result"
    }
   ],
   "source": [
    "# optimizer와 loss등은 차차 배웁니다\n",
    "# 혹시 미리 알고 싶다면 아래 문서를 참고하세요\n",
    "# https://www.tensorflow.org/api_docs/python/tf/keras/optimizers\n",
    "# https://www.tensorflow.org/api_docs/python/tf/keras/losses\n",
    "# 양이 상당히 많은 편이니 지금 보는 것은 추천하지 않습니다\n",
    "optimizer = tf.keras.optimizers.Adam()\n",
    "loss = tf.keras.losses.SparseCategoricalCrossentropy(\n",
    "    from_logits=True,\n",
    "    reduction='none'\n",
    ")\n",
    "\n",
    "model.compile(loss=loss, optimizer=optimizer)\n",
    "model.fit(dataset, epochs=10)"
   ]
  },
  {
   "cell_type": "code",
   "execution_count": 13,
   "id": "billion-external",
   "metadata": {},
   "outputs": [],
   "source": [
    "def generate_text(model, tokenizer, init_sentence=\"<start>\", max_len=20):\n",
    "    # 테스트를 위해서 입력받은 init_sentence도 텐서로 변환합니다\n",
    "    test_input = tokenizer.texts_to_sequences([init_sentence])\n",
    "    test_tensor = tf.convert_to_tensor(test_input, dtype=tf.int64)\n",
    "    end_token = tokenizer.word_index[\"<end>\"]\n",
    "\n",
    "    # 단어 하나씩 예측해 문장을 만듭니다\n",
    "    #    1. 입력받은 문장의 텐서를 입력합니다\n",
    "    #    2. 예측된 값 중 가장 높은 확률인 word index를 뽑아냅니다\n",
    "    #    3. 2에서 예측된 word index를 문장 뒤에 붙입니다\n",
    "    #    4. 모델이 <end>를 예측했거나, max_len에 도달했다면 문장 생성을 마칩니다\n",
    "    while True:\n",
    "        # 1\n",
    "        predict = model(test_tensor) \n",
    "        # 2\n",
    "        predict_word = tf.argmax(tf.nn.softmax(predict, axis=-1), axis=-1)[:, -1] \n",
    "        # 3 \n",
    "        test_tensor = tf.concat([test_tensor, tf.expand_dims(predict_word, axis=0)], axis=-1)\n",
    "        # 4\n",
    "        if predict_word.numpy()[0] == end_token: break\n",
    "        if test_tensor.shape[1] >= max_len: break\n",
    "\n",
    "    generated = \"\"\n",
    "    # tokenizer를 이용해 word index를 단어로 하나씩 변환합니다 \n",
    "    for word_index in test_tensor[0].numpy():\n",
    "        generated += tokenizer.index_word[word_index] + \" \"\n",
    "\n",
    "    return generated"
   ]
  },
  {
   "cell_type": "code",
   "execution_count": 15,
   "id": "abroad-license",
   "metadata": {},
   "outputs": [
    {
     "ename": "SyntaxError",
     "evalue": "invalid syntax (<ipython-input-15-dcb99045be75>, line 4)",
     "output_type": "error",
     "traceback": [
      "\u001b[0;36m  File \u001b[0;32m\"<ipython-input-15-dcb99045be75>\"\u001b[0;36m, line \u001b[0;32m4\u001b[0m\n\u001b[0;31m    BATCH_SIZE = 256 steps_per_epoch = len(enc_train) // BATCH_SIZE\u001b[0m\n\u001b[0m                                   ^\u001b[0m\n\u001b[0;31mSyntaxError\u001b[0m\u001b[0;31m:\u001b[0m invalid syntax\n"
     ]
    }
   ],
   "source": [
    "tf.data.Dataset.from_tensor_slices().shuffle(BUFFER_SIZE)\n",
    "\n",
    "BUFFER_SIZE = len(enc_train) \n",
    "BATCH_SIZE = 256 steps_per_epoch = len(enc_train) // BATCH_SIZE\n",
    "dataset = tf.data.Dataset.from_tensor_slices((enc_train, dec_train)) \n",
    "dataset = dataset.shuffle(BUFFER_SIZE) \n",
    "dataset = dataset.batch(BATCH_SIZE, drop_remainder=True) dataset"
   ]
  },
  {
   "cell_type": "code",
   "execution_count": null,
   "id": "narrow-guyana",
   "metadata": {},
   "outputs": [],
   "source": [
    "tf.data.Dataset.from_tensor_slices().shuffle(BUFFER_SIZE)\n",
    "\n",
    "BUFFER_SIZE = len(enc_val) \n",
    "BATCH_SIZE = 256 steps_per_epoch = len(enc_val) // BATCH_SIZE\n",
    "valset = tf.data.Dataset.from_tensor_slices((enc_val, dec_val)) \n",
    "valset = valset.shuffle(BUFFER_SIZE) \n",
    "valset = valset.batch(BATCH_SIZE, drop_remainder=True) valset"
   ]
  },
  {
   "cell_type": "code",
   "execution_count": null,
   "id": "impressed-knitting",
   "metadata": {},
   "outputs": [],
   "source": [
    "model.fit(dataset_train, validation_data=dataset_val)"
   ]
  },
  {
   "cell_type": "code",
   "execution_count": null,
   "id": "widespread-employment",
   "metadata": {},
   "outputs": [],
   "source": [
    "# tensor에서 마지막 토큰을 잘라내서 소스 문장을 생성합니다\n",
    "# 마지막 토큰은 <end>가 아니라 <pad>일 가능성이 높습니다.\n",
    "src_input = tensor[:, :-1]  \n",
    "# tensor에서 <start>를 잘라내서 타겟 문장을 생성합니다.\n",
    "tgt_input = tensor[:, 1:]    \n",
    "\n",
    "print(src_input[0])\n",
    "print(tgt_input[0])"
   ]
  },
  {
   "cell_type": "code",
   "execution_count": null,
   "id": "prime-beatles",
   "metadata": {},
   "outputs": [],
   "source": [
    "print(src_input.shape)\n",
    "print(src_input.shape)"
   ]
  },
  {
   "cell_type": "code",
   "execution_count": null,
   "id": "quiet-absence",
   "metadata": {},
   "outputs": [],
   "source": [
    "from sklearn.model_selection import train_test_split\n",
    "enc_train, enc_val, dec_train, dec_val = train_test_split(src_input, tgt_input, test_size=0.2,shuffle=True,random_state=111)\n",
    "\n",
    "print(\"Source Train:\", enc_train.shape)\n",
    "print(\"Target Train:\", dec_train.shape)"
   ]
  },
  {
   "cell_type": "code",
   "execution_count": 16,
   "id": "described-superintendent",
   "metadata": {},
   "outputs": [
    {
     "data": {
      "text/plain": [
       "175749"
      ]
     },
     "execution_count": 16,
     "metadata": {},
     "output_type": "execute_result"
    }
   ],
   "source": [
    "len(src_input)"
   ]
  },
  {
   "cell_type": "code",
   "execution_count": 17,
   "id": "dominican-dealing",
   "metadata": {},
   "outputs": [
    {
     "ename": "NameError",
     "evalue": "name 'enc_train' is not defined",
     "output_type": "error",
     "traceback": [
      "\u001b[0;31m---------------------------------------------------------------------------\u001b[0m",
      "\u001b[0;31mNameError\u001b[0m                                 Traceback (most recent call last)",
      "\u001b[0;32m<ipython-input-17-bae2e53c6d3d>\u001b[0m in \u001b[0;36m<module>\u001b[0;34m\u001b[0m\n\u001b[0;32m----> 1\u001b[0;31m \u001b[0mBUFFER_SIZE\u001b[0m \u001b[0;34m=\u001b[0m \u001b[0mlen\u001b[0m\u001b[0;34m(\u001b[0m\u001b[0menc_train\u001b[0m\u001b[0;34m)\u001b[0m\u001b[0;34m\u001b[0m\u001b[0;34m\u001b[0m\u001b[0m\n\u001b[0m\u001b[1;32m      2\u001b[0m \u001b[0mBATCH_SIZE\u001b[0m \u001b[0;34m=\u001b[0m \u001b[0;36m256\u001b[0m\u001b[0;34m\u001b[0m\u001b[0;34m\u001b[0m\u001b[0m\n\u001b[1;32m      3\u001b[0m \u001b[0msteps_per_epoch\u001b[0m \u001b[0;34m=\u001b[0m \u001b[0mlen\u001b[0m\u001b[0;34m(\u001b[0m\u001b[0menc_train\u001b[0m\u001b[0;34m)\u001b[0m \u001b[0;34m//\u001b[0m \u001b[0mBATCH_SIZE\u001b[0m\u001b[0;34m\u001b[0m\u001b[0;34m\u001b[0m\u001b[0m\n\u001b[1;32m      4\u001b[0m \u001b[0;34m\u001b[0m\u001b[0m\n\u001b[1;32m      5\u001b[0m \u001b[0;34m\u001b[0m\u001b[0m\n",
      "\u001b[0;31mNameError\u001b[0m: name 'enc_train' is not defined"
     ]
    }
   ],
   "source": [
    "BUFFER_SIZE = len(enc_train)\n",
    "BATCH_SIZE = 256\n",
    "steps_per_epoch = len(enc_train) // BATCH_SIZE\n",
    "\n",
    "\n",
    "VOCAB_SIZE = tokenizer.num_words + 1   \n",
    "\n",
    "# 준비한 데이터 소스로부터 데이터셋을 만듭니다\n",
    "# 데이터셋에 대해서는 아래 문서를 참고하세요\n",
    "# 자세히 알아둘수록 도움이 많이 되는 중요한 문서입니다\n",
    "# https://www.tensorflow.org/api_docs/python/tf/data/Dataset\n",
    "dataset = tf.data.Dataset.from_tensor_slices((enc_train, dec_train))\n",
    "dataset = dataset.shuffle(BUFFER_SIZE)\n",
    "dataset = dataset.batch(BATCH_SIZE, drop_remainder=True)\n",
    "dataset"
   ]
  },
  {
   "cell_type": "code",
   "execution_count": null,
   "id": "earned-compression",
   "metadata": {},
   "outputs": [],
   "source": [
    "#Loss\n",
    "loss = tf.keras.losses.SparseCategoricalCrossentropy(\n",
    "    from_logits=True, reduction='none')"
   ]
  },
  {
   "cell_type": "code",
   "execution_count": null,
   "id": "white-comparison",
   "metadata": {},
   "outputs": [],
   "source": [
    "generate_text(lyricist, tokenizer, init_sentence=\"<start> i love\", max_len=20)"
   ]
  },
  {
   "cell_type": "code",
   "execution_count": null,
   "id": "awful-institute",
   "metadata": {},
   "outputs": [],
   "source": []
  }
 ],
 "metadata": {
  "kernelspec": {
   "display_name": "Python 3",
   "language": "python",
   "name": "python3"
  },
  "language_info": {
   "codemirror_mode": {
    "name": "ipython",
    "version": 3
   },
   "file_extension": ".py",
   "mimetype": "text/x-python",
   "name": "python",
   "nbconvert_exporter": "python",
   "pygments_lexer": "ipython3",
   "version": "3.7.9"
  }
 },
 "nbformat": 4,
 "nbformat_minor": 5
}
