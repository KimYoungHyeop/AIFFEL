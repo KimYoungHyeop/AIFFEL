{
 "cells": [
  {
   "cell_type": "code",
   "execution_count": 1,
   "id": "wicked-infection",
   "metadata": {},
   "outputs": [],
   "source": [
    "import pylab\n",
    "import calendar\n",
    "import numpy as np\n",
    "import pandas as pd\n",
    "import seaborn as sn\n",
    "from scipy import stats\n",
    "import missingno as msno\n",
    "from datetime import datetime\n",
    "import matplotlib.pyplot as plt\n",
    "import warnings\n",
    "pd.options.mode.chained_assignment = None\n",
    "warnings.filterwarnings(\"ignore\", category=DeprecationWarning)\n",
    "%matplotlib inline"
   ]
  },
  {
   "cell_type": "code",
   "execution_count": 8,
   "id": "controlled-hampton",
   "metadata": {},
   "outputs": [
    {
     "name": "stdout",
     "output_type": "stream",
     "text": [
      " 1.ipynb\t\t\t  face_embedding\r\n",
      " 김영협_2.ipynb\t\t\t  image.jpeg\r\n",
      " array_archive.npz\t\t  image.png\r\n",
      " arrays_compressed.npz\t\t  images1.png\r\n",
      "'Bike Sharing Demand.ipynb'\t  kaggle_kakr_housing\r\n",
      " camera_sticker\t\t\t  lost+found\r\n",
      " data_preprocess\t\t  lyricist\r\n",
      " data_represent\t\t\t  pokemon\r\n",
      " data_visualization\t\t  pokemon_eda\r\n",
      " DuSiDataTeam4\t\t\t  python_image_proc\r\n",
      "'[E-1]rock_scissor_paper.ipynb'   rock_scissor_paper\r\n",
      "'[E-3]camera_sticker.ipynb'\t  rock_scissor_paper_test\r\n",
      "'[E-4]lyric_writer.ipynb'\t  some_array.npy\r\n",
      "'[E-5]celebrity1.ipynb'\t\t  train_1.csv\r\n",
      "'[E-5]celebrity.ipynb'\t\t  train.csv\r\n"
     ]
    }
   ],
   "source": [
    "!ls"
   ]
  },
  {
   "cell_type": "code",
   "execution_count": 3,
   "id": "tribal-clone",
   "metadata": {},
   "outputs": [],
   "source": [
    "dailyData = pd.read_csv(\"../aiffel/train.csv\") #..은 상위폴더로 갈 수 있는 것!"
   ]
  },
  {
   "cell_type": "markdown",
   "id": "useful-gallery",
   "metadata": {},
   "source": [
    "*Feature Engineering*"
   ]
  },
  {
   "cell_type": "markdown",
   "id": "black-asbestos",
   "metadata": {},
   "source": [
    "**위의 결과에서 알 수 있듯이, \"계절\", \"휴일\", \"근무일\" 및 \"날씨\" 열은 \"Categorical\" 데이터 유형이어야 합니다.<br>\n",
    "그러나 현재 데이터 유형은 해당 열의 \"int\"입니다. 데이터셋을 다음과 같은 방법으로 변환하여 EDA를 시작할 수 있도록 지원합니다.**"
   ]
  },
  {
   "cell_type": "markdown",
   "id": "missing-century",
   "metadata": {},
   "source": [
    "**•\"datetime\" 열에서 \"date\", \"hour\", \"weekDay\", \"month\" 열을 만듭니다.<br>\n",
    "•\"계절\", \"휴일\", \"근무일\" 및 날씨의 데이터 유형을 카테고리로 강제 지정합니다.<br>\n",
    "•날짜 시간 열에서 유용한 기능을 이미 추출했으므로 해당 열을 삭제하십시오.**"
   ]
  },
  {
   "cell_type": "markdown",
   "id": "green-broadcasting",
   "metadata": {},
   "source": [
    "**\"Datetime\" 열에서 새 열 작성**"
   ]
  },
  {
   "cell_type": "code",
   "execution_count": 4,
   "id": "inside-vermont",
   "metadata": {},
   "outputs": [],
   "source": [
    "dailyData[\"date\"] = dailyData.datetime.apply(lambda x : x.split()[0])\n",
    "dailyData[\"hour\"] = dailyData.datetime.apply(lambda x : x.split()[1].split(\":\")[0])\n",
    "dailyData[\"weekday\"] = dailyData.date.apply(lambda dateString : calendar.day_name[datetime.strptime(dateString,\"%Y-%m-%d\").weekday()])\n",
    "dailyData[\"month\"] = dailyData.date.apply(lambda dateString : calendar.month_name[datetime.strptime(dateString,\"%Y-%m-%d\").month])\n",
    "dailyData[\"season\"] = dailyData.season.map({1: \"Spring\", 2 : \"Summer\", 3 : \"Fall\", 4 :\"Winter\" })\n",
    "dailyData[\"weather\"] = dailyData.weather.map({1: \" Clear + Few clouds + Partly cloudy + Partly cloudy\",\\\n",
    "                                        2 : \" Mist + Cloudy, Mist + Broken clouds, Mist + Few clouds, Mist \", \\\n",
    "                                        3 : \" Light Snow, Light Rain + Thunderstorm + Scattered clouds, Light Rain + Scattered clouds\", \\\n",
    "                                        4 :\" Heavy Rain + Ice Pallets + Thunderstorm + Mist, Snow + Fog \" })"
   ]
  },
  {
   "cell_type": "markdown",
   "id": "weekly-cisco",
   "metadata": {},
   "source": [
    "*Coercing To Category Type*"
   ]
  },
  {
   "cell_type": "code",
   "execution_count": 5,
   "id": "unique-german",
   "metadata": {},
   "outputs": [],
   "source": [
    "categoryVariableList = [\"hour\",\"weekday\",\"month\",\"season\",\"weather\",\"holiday\",\"workingday\"]\n",
    "for var in categoryVariableList:\n",
    "    dailyData[var] = dailyData[var].astype(\"category\")"
   ]
  },
  {
   "cell_type": "markdown",
   "id": "arctic-customs",
   "metadata": {},
   "source": [
    "*Dropping Unncessary Columns*"
   ]
  },
  {
   "cell_type": "code",
   "execution_count": 6,
   "id": "stylish-twelve",
   "metadata": {},
   "outputs": [],
   "source": [
    "dailyData  = dailyData.drop([\"datetime\"],axis=1)"
   ]
  },
  {
   "cell_type": "markdown",
   "id": "compressed-swift",
   "metadata": {},
   "source": [
    "*Lets Start With Very Simple Visualization Of Variables DataType Count*"
   ]
  },
  {
   "cell_type": "code",
   "execution_count": 15,
   "id": "derived-thermal",
   "metadata": {
    "scrolled": false
   },
   "outputs": [
    {
     "data": {
      "text/plain": [
       "<AxesSubplot:xlabel='variableType', ylabel='count'>"
      ]
     },
     "execution_count": 15,
     "metadata": {},
     "output_type": "execute_result"
    },
    {
     "data": {
      "image/png": "[encoded data removed]",
      "text/plain": [
       "<Figure size 864x360 with 1 Axes>"
      ]
     },
     "metadata": {
      "needs_background": "light"
     },
     "output_type": "display_data"
    }
   ],
   "source": [
    "#dataTypeDf = pd.DataFrame(dailyData.dtypes.value_counts()).reset_index().rename(columns={\"index\":\"variableType\",0:\"count\"})\n",
    "#fig,ax = plt.subplots()\n",
    "#fig.set_size_inches(12,5)\n",
    "#sn.barplot(data=dataTypeDf,x=\"variableType\",y=\"count\",ax=ax)\n",
    "#ax.set(xlabel='variableTypeariable Type', ylabel='Count',title=\"Variables DataType Count\")\n",
    "\n",
    "typesCountSerie = dailyData.dtypes.value_counts()\n",
    "\n",
    "#format columns as arrays of either strings or integers\n",
    "#typeNames are easier to sort as array of 'string' rather than an array of 'dtype'\n",
    "typeNamesColumn = list(map(lambda t: t.name , typesCountSerie.index.values));\n",
    "typeCountColumn = typesCountSerie.values\n",
    "\n",
    "#create an initial dataframe, with multiple occurences of the same \"variableType\"\n",
    "intialDataTypeDf = pd.DataFrame({\n",
    "    \"variableType\" : typeNamesColumn,\n",
    "    \"count\" : typeCountColumn\n",
    "})\n",
    "\n",
    "groupedDataTypeDf = intialDataTypeDf.groupby(['variableType']).sum()[['count']].reset_index()\n",
    "\n",
    "fig,ax = plt.subplots()\n",
    "fig.set_size_inches(12,5)\n",
    "sn.barplot(data=groupedDataTypeDf, x=\"variableType\",y=\"count\", ax=ax)\n"
   ]
  },
  {
   "cell_type": "code",
   "execution_count": null,
   "id": "prerequisite-sweet",
   "metadata": {},
   "outputs": [],
   "source": []
  }
 ],
 "metadata": {
  "kernelspec": {
   "display_name": "Python 3",
   "language": "python",
   "name": "python3"
  },
  "language_info": {
   "codemirror_mode": {
    "name": "ipython",
    "version": 3
   },
   "file_extension": ".py",
   "mimetype": "text/x-python",
   "name": "python",
   "nbconvert_exporter": "python",
   "pygments_lexer": "ipython3",
   "version": "3.7.9"
  }
 },
 "nbformat": 4,
 "nbformat_minor": 5
}
